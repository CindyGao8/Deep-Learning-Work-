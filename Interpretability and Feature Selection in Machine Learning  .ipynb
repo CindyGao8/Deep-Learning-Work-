{
  "cells": [
    {
      "cell_type": "markdown",
      "metadata": {
        "id": "4SofIyAgvE0y",
        "jp-MarkdownHeadingCollapsed": true
      },
      "source": [
        "# Problem 1"
      ]
    },
    {
      "cell_type": "markdown",
      "metadata": {
        "id": "q7VFZRDhvZLN"
      },
      "source": [
        "## Part 1.Explain the importance of interpretability when training machine learning models. Why is model explainability necessary?\n",
        "\n",
        "The importance of interpretability of ML model is to let every user who don't know ML easlier to understand how the model makes decisions thus they will trust the model better. It also help us to debug and identify the errors in the model to better refine the model. In this case, it can help decision-makers act confidently. Also regulations require models to explain their outputs as well. A lack of explainability can lead to legal consequences if decisions cannot be justified."
      ]
    },
    {
      "cell_type": "markdown",
      "metadata": {
        "id": "zOAgYqTPvZH3"
      },
      "source": [
        "## Part 2. Perform feature selection for the Diabetes regression dataset using FeatureSelector(). How many features are discarded?"
      ]
    },
    {
      "cell_type": "code",
      "execution_count": null,
      "metadata": {
        "id": "kKeWyi2Tz9aL",
        "colab": {
          "base_uri": "https://localhost:8080/"
        },
        "outputId": "c31472d1-dcb0-4bd9-a26f-59c5a5af5fb5"
      },
      "outputs": [
        {
          "output_type": "stream",
          "name": "stdout",
          "text": [
            "Collecting autofeat\n",
            "  Downloading autofeat-2.1.3-py3-none-any.whl.metadata (1.7 kB)\n",
            "Requirement already satisfied: joblib<2.0.0,>=1.2.0 in /usr/local/lib/python3.10/dist-packages (from autofeat) (1.4.2)\n",
            "Requirement already satisfied: numba>=0.53.1 in /usr/local/lib/python3.10/dist-packages (from autofeat) (0.60.0)\n",
            "Requirement already satisfied: numpy<2.0.0,>=1.20.3 in /usr/local/lib/python3.10/dist-packages (from autofeat) (1.26.4)\n",
            "Requirement already satisfied: pandas<3.0.0,>=1.3.5 in /usr/local/lib/python3.10/dist-packages (from autofeat) (2.2.2)\n",
            "Collecting pint<1.0,>=0.17 (from autofeat)\n",
            "  Downloading Pint-0.24.4-py3-none-any.whl.metadata (8.5 kB)\n",
            "Requirement already satisfied: scikit-learn<2.0.0,>=1.2.0 in /usr/local/lib/python3.10/dist-packages (from autofeat) (1.5.2)\n",
            "Requirement already satisfied: scipy<2.0.0,>=1.7.3 in /usr/local/lib/python3.10/dist-packages (from autofeat) (1.13.1)\n",
            "Requirement already satisfied: sympy<2.0.0,>=1.7.1 in /usr/local/lib/python3.10/dist-packages (from autofeat) (1.13.1)\n",
            "Requirement already satisfied: llvmlite<0.44,>=0.43.0dev0 in /usr/local/lib/python3.10/dist-packages (from numba>=0.53.1->autofeat) (0.43.0)\n",
            "Requirement already satisfied: python-dateutil>=2.8.2 in /usr/local/lib/python3.10/dist-packages (from pandas<3.0.0,>=1.3.5->autofeat) (2.8.2)\n",
            "Requirement already satisfied: pytz>=2020.1 in /usr/local/lib/python3.10/dist-packages (from pandas<3.0.0,>=1.3.5->autofeat) (2024.2)\n",
            "Requirement already satisfied: tzdata>=2022.7 in /usr/local/lib/python3.10/dist-packages (from pandas<3.0.0,>=1.3.5->autofeat) (2024.2)\n",
            "Requirement already satisfied: platformdirs>=2.1.0 in /usr/local/lib/python3.10/dist-packages (from pint<1.0,>=0.17->autofeat) (4.3.6)\n",
            "Requirement already satisfied: typing-extensions>=4.0.0 in /usr/local/lib/python3.10/dist-packages (from pint<1.0,>=0.17->autofeat) (4.12.2)\n",
            "Collecting flexcache>=0.3 (from pint<1.0,>=0.17->autofeat)\n",
            "  Downloading flexcache-0.3-py3-none-any.whl.metadata (7.0 kB)\n",
            "Collecting flexparser>=0.4 (from pint<1.0,>=0.17->autofeat)\n",
            "  Downloading flexparser-0.4-py3-none-any.whl.metadata (18 kB)\n",
            "Requirement already satisfied: threadpoolctl>=3.1.0 in /usr/local/lib/python3.10/dist-packages (from scikit-learn<2.0.0,>=1.2.0->autofeat) (3.5.0)\n",
            "Requirement already satisfied: mpmath<1.4,>=1.1.0 in /usr/local/lib/python3.10/dist-packages (from sympy<2.0.0,>=1.7.1->autofeat) (1.3.0)\n",
            "Requirement already satisfied: six>=1.5 in /usr/local/lib/python3.10/dist-packages (from python-dateutil>=2.8.2->pandas<3.0.0,>=1.3.5->autofeat) (1.16.0)\n",
            "Downloading autofeat-2.1.3-py3-none-any.whl (23 kB)\n",
            "Downloading Pint-0.24.4-py3-none-any.whl (302 kB)\n",
            "\u001b[2K   \u001b[90m━━━━━━━━━━━━━━━━━━━━━━━━━━━━━━━━━━━━━━━━\u001b[0m \u001b[32m302.0/302.0 kB\u001b[0m \u001b[31m21.7 MB/s\u001b[0m eta \u001b[36m0:00:00\u001b[0m\n",
            "\u001b[?25hDownloading flexcache-0.3-py3-none-any.whl (13 kB)\n",
            "Downloading flexparser-0.4-py3-none-any.whl (27 kB)\n",
            "Installing collected packages: flexparser, flexcache, pint, autofeat\n",
            "Successfully installed autofeat-2.1.3 flexcache-0.3 flexparser-0.4 pint-0.24.4\n"
          ]
        }
      ],
      "source": [
        "pip install autofeat"
      ]
    },
    {
      "cell_type": "code",
      "execution_count": null,
      "metadata": {
        "id": "Zo-ZACz_0E1P"
      },
      "outputs": [],
      "source": [
        "from sklearn.datasets import load_diabetes\n",
        "import pandas as pd\n",
        "from autofeat import FeatureSelector"
      ]
    },
    {
      "cell_type": "code",
      "execution_count": null,
      "metadata": {
        "id": "pX4NEhY10Kuh",
        "colab": {
          "base_uri": "https://localhost:8080/"
        },
        "outputId": "9b04c474-88c2-4f90-fe97-0ee8f2a571f5"
      },
      "outputs": [
        {
          "output_type": "stream",
          "name": "stdout",
          "text": [
            "Original features: 10\n",
            "Selected features: 6\n",
            "Features discarded: 4\n"
          ]
        },
        {
          "output_type": "stream",
          "name": "stderr",
          "text": [
            "/usr/local/lib/python3.10/dist-packages/autofeat/featsel.py:270: FutureWarning: Series.ravel is deprecated. The underlying array is already 1D, so ravel is not necessary.  Use `to_numpy()` for conversion to a numpy array instead.\n",
            "  if np.max(np.abs(correlations[c].ravel()[:i])) < 0.9:\n"
          ]
        }
      ],
      "source": [
        "diabetes = load_diabetes()\n",
        "X = pd.DataFrame(diabetes.data, columns=diabetes.feature_names)\n",
        "y = diabetes.target\n",
        "\n",
        "feature_selector = FeatureSelector()\n",
        "X_selected = feature_selector.fit_transform(X, y)\n",
        "num_original_features = X.shape[1]\n",
        "num_selected_features = X_selected.shape[1]\n",
        "features_discarded = num_original_features - num_selected_features\n",
        "\n",
        "print(f\"Original features: {num_original_features}\")\n",
        "print(f\"Selected features: {num_selected_features}\")\n",
        "print(f\"Features discarded: {features_discarded}\")"
      ]
    },
    {
      "cell_type": "markdown",
      "metadata": {
        "id": "BRYR5TpGvZBv"
      },
      "source": [
        "## Part 3. Perform a train-test split on your dataset. Select a regression model from skLearn and fit it to the training dataset. What is the R2 score on the training and test set?"
      ]
    },
    {
      "cell_type": "code",
      "execution_count": null,
      "metadata": {
        "id": "m5zJ1o7g08po"
      },
      "outputs": [],
      "source": [
        "from sklearn.model_selection import train_test_split\n",
        "from sklearn.linear_model import LinearRegression\n",
        "from sklearn.metrics import r2_score"
      ]
    },
    {
      "cell_type": "code",
      "execution_count": null,
      "metadata": {
        "id": "GYsGdrXK0mEF",
        "colab": {
          "base_uri": "https://localhost:8080/"
        },
        "outputId": "33b34e99-7c14-45d3-b8c0-b2c8470757d0"
      },
      "outputs": [
        {
          "output_type": "stream",
          "name": "stdout",
          "text": [
            "R2 score on training set: 0.5212927960835636\n",
            "R2 score on test set: 0.46323772750271597\n"
          ]
        }
      ],
      "source": [
        "X_train, X_test, y_train, y_test = train_test_split(X_selected, y, test_size=0.2, random_state=42)\n",
        "\n",
        "model = LinearRegression()\n",
        "model.fit(X_train, y_train)\n",
        "\n",
        "y_train_pred = model.predict(X_train)\n",
        "y_test_pred = model.predict(X_test)\n",
        "\n",
        "r2_score_train = r2_score(y_train, y_train_pred)\n",
        "r2_score_test = r2_score(y_test, y_test_pred)\n",
        "\n",
        "print(f\"R2 score on training set: {r2_score_train}\")\n",
        "print(f\"R2 score on test set: {r2_score_test}\")"
      ]
    },
    {
      "cell_type": "markdown",
      "metadata": {
        "id": "HyhgKP6bvY-W"
      },
      "source": [
        "## Part 4. Keepingthetrainandtestdatasetthesame,run3featureengineeringstepsusingAutoFeatRegressor(). What is the R2 score on the training and test set now? Mention any five new features generated by the output of AutoFeatRegressor()."
      ]
    },
    {
      "cell_type": "code",
      "execution_count": null,
      "metadata": {
        "id": "04uOf6mr1XSs",
        "colab": {
          "base_uri": "https://localhost:8080/"
        },
        "outputId": "2d453ab5-3505-41f9-975a-ddd61ba96a51"
      },
      "outputs": [
        {
          "output_type": "stream",
          "name": "stdout",
          "text": [
            "[featsel] Scaling data...done.\n"
          ]
        },
        {
          "output_type": "stream",
          "name": "stderr",
          "text": [
            "/usr/local/lib/python3.10/dist-packages/autofeat/featsel.py:270: FutureWarning: Series.ravel is deprecated. The underlying array is already 1D, so ravel is not necessary.  Use `to_numpy()` for conversion to a numpy array instead.\n",
            "  if np.max(np.abs(correlations[c].ravel()[:i])) < 0.9:\n"
          ]
        },
        {
          "output_type": "stream",
          "name": "stdout",
          "text": []
        }
      ],
      "source": [
        "from autofeat import AutoFeatRegressor\n",
        "\n",
        "auto_feat = AutoFeatRegressor(verbose=1, feateng_steps=3)\n",
        "\n",
        "X_train_auto = auto_feat.fit_transform(X_train, y_train)\n",
        "\n",
        "X_test_auto = auto_feat.transform(X_test)\n"
      ]
    },
    {
      "cell_type": "code",
      "execution_count": null,
      "metadata": {
        "id": "WQ8ZstBn1tYz",
        "colab": {
          "base_uri": "https://localhost:8080/"
        },
        "outputId": "4608de4b-1719-40d5-8d3d-5916346e9471"
      },
      "outputs": [
        {
          "output_type": "stream",
          "name": "stdout",
          "text": [
            "R^2 score on training set with AutoFeat: 0.6013\n",
            "R^2 score on test set with AutoFeat: 0.4603\n"
          ]
        }
      ],
      "source": [
        "\n",
        "model_auto = LinearRegression()\n",
        "model_auto.fit(X_train_auto, y_train)\n",
        "\n",
        "y_train_pred_auto = model_auto.predict(X_train_auto)\n",
        "y_test_pred_auto = model_auto.predict(X_test_auto)\n",
        "\n",
        "r2_train_auto = r2_score(y_train, y_train_pred_auto)\n",
        "r2_test_auto = r2_score(y_test, y_test_pred_auto)\n",
        "\n",
        "print(f\"R^2 score on training set with AutoFeat: {r2_train_auto:.4f}\")\n",
        "print(f\"R^2 score on test set with AutoFeat: {r2_test_auto:.4f}\")\n"
      ]
    },
    {
      "cell_type": "code",
      "execution_count": null,
      "metadata": {
        "id": "tFkJ2O0610Tv",
        "colab": {
          "base_uri": "https://localhost:8080/"
        },
        "outputId": "62cebaa3-59b1-4df8-f2cd-8c1ce631ffec"
      },
      "outputs": [
        {
          "output_type": "stream",
          "name": "stdout",
          "text": [
            "New features generated by AutoFeat: ['s3/Abs(bmi)', '1/(1/bp + 1/bmi)', '1/(bmi - s1**2)', 'exp(bmi)*exp(bp)', 'exp(s1**3/bp)']\n"
          ]
        }
      ],
      "source": [
        "# Get the names of the generated features\n",
        "new_features = set(X_train_auto.columns) - set(X_train.columns)\n",
        "print(f\"New features generated by AutoFeat: {list(new_features)[:5]}\")\n"
      ]
    },
    {
      "cell_type": "markdown",
      "metadata": {
        "id": "Te2S7_5CvY6J",
        "jp-MarkdownHeadingCollapsed": true
      },
      "source": [
        "# Problem 2.\n"
      ]
    },
    {
      "cell_type": "markdown",
      "metadata": {
        "id": "7YmHLUehvYwP"
      },
      "source": [
        "## Part1."
      ]
    },
    {
      "cell_type": "code",
      "execution_count": null,
      "metadata": {
        "colab": {
          "base_uri": "https://localhost:8080/"
        },
        "id": "UJTFvsjPMfdl",
        "outputId": "7434b2aa-ab19-4c12-e800-6e6fab060d67"
      },
      "outputs": [
        {
          "name": "stdout",
          "output_type": "stream",
          "text": [
            "Collecting ray[tune]\n",
            "  Downloading ray-2.40.0-cp310-cp310-manylinux2014_x86_64.whl.metadata (17 kB)\n",
            "Requirement already satisfied: click>=7.0 in /usr/local/lib/python3.10/dist-packages (from ray[tune]) (8.1.7)\n",
            "Requirement already satisfied: filelock in /usr/local/lib/python3.10/dist-packages (from ray[tune]) (3.16.1)\n",
            "Requirement already satisfied: jsonschema in /usr/local/lib/python3.10/dist-packages (from ray[tune]) (4.23.0)\n",
            "Requirement already satisfied: msgpack<2.0.0,>=1.0.0 in /usr/local/lib/python3.10/dist-packages (from ray[tune]) (1.1.0)\n",
            "Requirement already satisfied: packaging in /usr/local/lib/python3.10/dist-packages (from ray[tune]) (24.2)\n",
            "Requirement already satisfied: protobuf!=3.19.5,>=3.15.3 in /usr/local/lib/python3.10/dist-packages (from ray[tune]) (4.25.5)\n",
            "Requirement already satisfied: pyyaml in /usr/local/lib/python3.10/dist-packages (from ray[tune]) (6.0.2)\n",
            "Requirement already satisfied: aiosignal in /usr/local/lib/python3.10/dist-packages (from ray[tune]) (1.3.1)\n",
            "Requirement already satisfied: frozenlist in /usr/local/lib/python3.10/dist-packages (from ray[tune]) (1.5.0)\n",
            "Requirement already satisfied: requests in /usr/local/lib/python3.10/dist-packages (from ray[tune]) (2.32.3)\n",
            "Requirement already satisfied: pandas in /usr/local/lib/python3.10/dist-packages (from ray[tune]) (2.2.2)\n",
            "Collecting tensorboardX>=1.9 (from ray[tune])\n",
            "  Downloading tensorboardX-2.6.2.2-py2.py3-none-any.whl.metadata (5.8 kB)\n",
            "Requirement already satisfied: pyarrow>=9.0.0 in /usr/local/lib/python3.10/dist-packages (from ray[tune]) (17.0.0)\n",
            "Requirement already satisfied: fsspec in /usr/local/lib/python3.10/dist-packages (from ray[tune]) (2024.10.0)\n",
            "Requirement already satisfied: numpy>=1.16.6 in /usr/local/lib/python3.10/dist-packages (from pyarrow>=9.0.0->ray[tune]) (1.26.4)\n",
            "Requirement already satisfied: attrs>=22.2.0 in /usr/local/lib/python3.10/dist-packages (from jsonschema->ray[tune]) (24.2.0)\n",
            "Requirement already satisfied: jsonschema-specifications>=2023.03.6 in /usr/local/lib/python3.10/dist-packages (from jsonschema->ray[tune]) (2024.10.1)\n",
            "Requirement already satisfied: referencing>=0.28.4 in /usr/local/lib/python3.10/dist-packages (from jsonschema->ray[tune]) (0.35.1)\n",
            "Requirement already satisfied: rpds-py>=0.7.1 in /usr/local/lib/python3.10/dist-packages (from jsonschema->ray[tune]) (0.21.0)\n",
            "Requirement already satisfied: python-dateutil>=2.8.2 in /usr/local/lib/python3.10/dist-packages (from pandas->ray[tune]) (2.8.2)\n",
            "Requirement already satisfied: pytz>=2020.1 in /usr/local/lib/python3.10/dist-packages (from pandas->ray[tune]) (2024.2)\n",
            "Requirement already satisfied: tzdata>=2022.7 in /usr/local/lib/python3.10/dist-packages (from pandas->ray[tune]) (2024.2)\n",
            "Requirement already satisfied: charset-normalizer<4,>=2 in /usr/local/lib/python3.10/dist-packages (from requests->ray[tune]) (3.4.0)\n",
            "Requirement already satisfied: idna<4,>=2.5 in /usr/local/lib/python3.10/dist-packages (from requests->ray[tune]) (3.10)\n",
            "Requirement already satisfied: urllib3<3,>=1.21.1 in /usr/local/lib/python3.10/dist-packages (from requests->ray[tune]) (2.2.3)\n",
            "Requirement already satisfied: certifi>=2017.4.17 in /usr/local/lib/python3.10/dist-packages (from requests->ray[tune]) (2024.8.30)\n",
            "Requirement already satisfied: six>=1.5 in /usr/local/lib/python3.10/dist-packages (from python-dateutil>=2.8.2->pandas->ray[tune]) (1.16.0)\n",
            "Downloading tensorboardX-2.6.2.2-py2.py3-none-any.whl (101 kB)\n",
            "\u001b[2K   \u001b[90m━━━━━━━━━━━━━━━━━━━━━━━━━━━━━━━━━━━━━━━━\u001b[0m \u001b[32m101.7/101.7 kB\u001b[0m \u001b[31m8.6 MB/s\u001b[0m eta \u001b[36m0:00:00\u001b[0m\n",
            "\u001b[?25hDownloading ray-2.40.0-cp310-cp310-manylinux2014_x86_64.whl (66.8 MB)\n",
            "\u001b[2K   \u001b[90m━━━━━━━━━━━━━━━━━━━━━━━━━━━━━━━━━━━━━━━━\u001b[0m \u001b[32m66.8/66.8 MB\u001b[0m \u001b[31m29.7 MB/s\u001b[0m eta \u001b[36m0:00:00\u001b[0m\n",
            "\u001b[?25hInstalling collected packages: tensorboardX, ray\n",
            "Successfully installed ray-2.40.0 tensorboardX-2.6.2.2\n"
          ]
        }
      ],
      "source": [
        "!pip install -U \"ray[tune]\""
      ]
    },
    {
      "cell_type": "code",
      "execution_count": null,
      "metadata": {
        "id": "nxwDIQpqMiOm"
      },
      "outputs": [],
      "source": [
        "import tensorflow as tf\n",
        "from tensorflow import keras\n",
        "from tensorflow.keras.datasets import mnist\n",
        "\n",
        "import ray\n",
        "from ray import tune\n",
        "from ray.train.tensorflow.keras import ReportCheckpointCallback\n",
        "\n",
        "from ray.train.tensorflow.keras import ReportCheckpointCallback"
      ]
    },
    {
      "cell_type": "code",
      "execution_count": null,
      "metadata": {
        "id": "zhiHEoKaMi-i"
      },
      "outputs": [],
      "source": [
        "from ray import tune\n",
        "from ray.train.tensorflow.keras import ReportCheckpointCallback\n",
        "import tensorflow as tf\n",
        "from ray.air import session\n",
        "\n",
        "def train_mnist(config):\n",
        "    batch_size = config[\"batch_size\"]\n",
        "    epochs = 12\n",
        "\n",
        "    (x_train, y_train), (x_test, y_test) = tf.keras.datasets.mnist.load_data()\n",
        "    x_train, x_test = x_train / 255.0, x_test / 255.0\n",
        "\n",
        "    model = tf.keras.models.Sequential([\n",
        "        tf.keras.layers.Input(shape=(28, 28, 1)),\n",
        "        tf.keras.layers.Conv2D(filters=config[\"conv_filters\"], kernel_size=(5, 5), activation=\"relu\"),\n",
        "        tf.keras.layers.MaxPooling2D(pool_size=(2, 2)),\n",
        "        tf.keras.layers.Conv2D(filters=2 * config[\"conv_filters\"], kernel_size=(5, 5), activation=\"relu\"),\n",
        "        tf.keras.layers.MaxPooling2D(pool_size=(2, 2)),\n",
        "        tf.keras.layers.Flatten(),\n",
        "        tf.keras.layers.Dense(120, activation=\"relu\"),\n",
        "        tf.keras.layers.Dense(84, activation=\"relu\"),\n",
        "        tf.keras.layers.Dropout(config[\"dropout\"]),\n",
        "        tf.keras.layers.Dense(10, activation=\"softmax\"),\n",
        "    ])\n",
        "\n",
        "    model.compile(\n",
        "        optimizer=tf.keras.optimizers.Adam(learning_rate=config[\"lr\"]),\n",
        "        loss=\"sparse_categorical_crossentropy\",\n",
        "        metrics=[\"accuracy\"]\n",
        "    )\n",
        "\n",
        "    history = model.fit(\n",
        "        x_train, y_train,\n",
        "        batch_size=batch_size,\n",
        "        epochs=epochs,\n",
        "        validation_data=(x_test, y_test),\n",
        "        verbose=0\n",
        "    )\n",
        "\n",
        "    # Report metrics\n",
        "    session.report({\n",
        "        \"mean_accuracy\": history.history[\"accuracy\"][-1],\n",
        "        # \"val_accuracy\": history.history[\"val_accuracy\"][-1]\n",
        "    })\n"
      ]
    },
    {
      "cell_type": "code",
      "execution_count": null,
      "metadata": {
        "colab": {
          "base_uri": "https://localhost:8080/"
        },
        "id": "hHun5DZGMl1l",
        "outputId": "175ed864-0323-4912-baf7-a69ef8a866e5"
      },
      "outputs": [
        {
          "name": "stderr",
          "output_type": "stream",
          "text": [
            "2024-12-05 15:02:21,625\tINFO worker.py:1821 -- Started a local Ray instance.\n"
          ]
        },
        {
          "name": "stdout",
          "output_type": "stream",
          "text": [
            "{'accelerator_type:A100': 1.0, 'node:__internal_head__': 1.0, 'CPU': 12.0, 'memory': 53632175310.0, 'node:172.28.0.12': 1.0, 'object_store_memory': 26816087654.0, 'GPU': 1.0}\n"
          ]
        }
      ],
      "source": [
        "import ray\n",
        "\n",
        "# 清理之前的 Ray 实例\n",
        "ray.shutdown()\n",
        "\n",
        "# 重新初始化\n",
        "ray.init()\n",
        "print(ray.cluster_resources())\n"
      ]
    },
    {
      "cell_type": "code",
      "execution_count": null,
      "metadata": {
        "colab": {
          "base_uri": "https://localhost:8080/"
        },
        "id": "mh9ENTWxMo_7",
        "outputId": "004d5564-a239-4bcb-a8d5-59c02a3bdf12"
      },
      "outputs": [
        {
          "name": "stderr",
          "output_type": "stream",
          "text": [
            "2024-12-05 15:02:22,753\tINFO worker.py:1654 -- Calling ray.init() again after it has already been called.\n"
          ]
        },
        {
          "name": "stdout",
          "output_type": "stream",
          "text": [
            "{'accelerator_type:A100': 1.0, 'node:__internal_head__': 1.0, 'CPU': 12.0, 'object_store_memory': 26816087654.0, 'node:172.28.0.12': 1.0, 'memory': 53632175310.0, 'GPU': 1.0}\n"
          ]
        }
      ],
      "source": [
        "ray.init(ignore_reinit_error=True)\n",
        "print(ray.cluster_resources())"
      ]
    },
    {
      "cell_type": "code",
      "execution_count": null,
      "metadata": {
        "colab": {
          "base_uri": "https://localhost:8080/",
          "height": 77
        },
        "id": "8Uuk1IozMrZv",
        "outputId": "9359cc3d-58b8-423d-aa77-7d18bdd12078"
      },
      "outputs": [
        {
          "name": "stderr",
          "output_type": "stream",
          "text": [
            "2024-12-05 15:02:26,568\tINFO worker.py:1821 -- Started a local Ray instance.\n"
          ]
        },
        {
          "data": {
            "text/html": [
              "<div class=\"lm-Widget p-Widget lm-Panel p-Panel jp-Cell-outputWrapper\">\n",
              "    <div style=\"margin-left: 50px;display: flex;flex-direction: row;align-items: center\">\n",
              "        <div class=\"jp-RenderedHTMLCommon\" style=\"display: flex; flex-direction: row;\">\n",
              "  <svg viewBox=\"0 0 567 224\" fill=\"none\" xmlns=\"http://www.w3.org/2000/svg\" style=\"height: 3em;\">\n",
              "    <g clip-path=\"url(#clip0_4338_178347)\">\n",
              "        <path d=\"M341.29 165.561H355.29L330.13 129.051C345.63 123.991 354.21 112.051 354.21 94.2307C354.21 71.3707 338.72 58.1807 311.88 58.1807H271V165.561H283.27V131.661H311.8C314.25 131.661 316.71 131.501 319.01 131.351L341.25 165.561H341.29ZM283.29 119.851V70.0007H311.82C331.3 70.0007 342.34 78.2907 342.34 94.5507C342.34 111.271 331.34 119.861 311.82 119.861L283.29 119.851ZM451.4 138.411L463.4 165.561H476.74L428.74 58.1807H416L367.83 165.561H380.83L392.83 138.411H451.4ZM446.19 126.601H398L422 72.1407L446.24 126.601H446.19ZM526.11 128.741L566.91 58.1807H554.35L519.99 114.181L485.17 58.1807H472.44L514.01 129.181V165.541H526.13V128.741H526.11Z\" fill=\"var(--jp-ui-font-color0)\"/>\n",
              "        <path d=\"M82.35 104.44C84.0187 97.8827 87.8248 92.0678 93.1671 87.9146C98.5094 83.7614 105.083 81.5067 111.85 81.5067C118.617 81.5067 125.191 83.7614 130.533 87.9146C135.875 92.0678 139.681 97.8827 141.35 104.44H163.75C164.476 101.562 165.622 98.8057 167.15 96.2605L127.45 56.5605C121.071 60.3522 113.526 61.6823 106.235 60.3005C98.9443 58.9187 92.4094 54.9203 87.8602 49.0574C83.3109 43.1946 81.0609 35.8714 81.5332 28.4656C82.0056 21.0599 85.1679 14.0819 90.4252 8.8446C95.6824 3.60726 102.672 0.471508 110.08 0.0272655C117.487 -0.416977 124.802 1.86091 130.647 6.4324C136.493 11.0039 140.467 17.5539 141.821 24.8501C143.175 32.1463 141.816 39.6859 138 46.0505L177.69 85.7505C182.31 82.9877 187.58 81.4995 192.962 81.4375C198.345 81.3755 203.648 82.742 208.33 85.3976C213.012 88.0532 216.907 91.9029 219.616 96.5544C222.326 101.206 223.753 106.492 223.753 111.875C223.753 117.258 222.326 122.545 219.616 127.197C216.907 131.848 213.012 135.698 208.33 138.353C203.648 141.009 198.345 142.375 192.962 142.313C187.58 142.251 182.31 140.763 177.69 138L138 177.7C141.808 184.071 143.155 191.614 141.79 198.91C140.424 206.205 136.44 212.75 130.585 217.313C124.731 221.875 117.412 224.141 110.004 223.683C102.596 223.226 95.6103 220.077 90.3621 214.828C85.1139 209.58 81.9647 202.595 81.5072 195.187C81.0497 187.779 83.3154 180.459 87.878 174.605C92.4405 168.751 98.9853 164.766 106.281 163.401C113.576 162.035 121.119 163.383 127.49 167.19L167.19 127.49C165.664 124.941 164.518 122.182 163.79 119.3H141.39C139.721 125.858 135.915 131.673 130.573 135.826C125.231 139.98 118.657 142.234 111.89 142.234C105.123 142.234 98.5494 139.98 93.2071 135.826C87.8648 131.673 84.0587 125.858 82.39 119.3H60C58.1878 126.495 53.8086 132.78 47.6863 136.971C41.5641 141.163 34.1211 142.972 26.7579 142.059C19.3947 141.146 12.6191 137.574 7.70605 132.014C2.79302 126.454 0.0813599 119.29 0.0813599 111.87C0.0813599 104.451 2.79302 97.2871 7.70605 91.7272C12.6191 86.1673 19.3947 82.5947 26.7579 81.6817C34.1211 80.7686 41.5641 82.5781 47.6863 86.7696C53.8086 90.9611 58.1878 97.2456 60 104.44H82.35ZM100.86 204.32C103.407 206.868 106.759 208.453 110.345 208.806C113.93 209.159 117.527 208.258 120.522 206.256C123.517 204.254 125.725 201.276 126.771 197.828C127.816 194.38 127.633 190.677 126.253 187.349C124.874 184.021 122.383 181.274 119.205 179.577C116.027 177.88 112.359 177.337 108.826 178.042C105.293 178.746 102.113 180.654 99.8291 183.44C97.5451 186.226 96.2979 189.718 96.3 193.32C96.2985 195.364 96.7006 197.388 97.4831 199.275C98.2656 201.163 99.4132 202.877 100.86 204.32ZM204.32 122.88C206.868 120.333 208.453 116.981 208.806 113.396C209.159 109.811 208.258 106.214 206.256 103.219C204.254 100.223 201.275 98.0151 197.827 96.97C194.38 95.9249 190.676 96.1077 187.348 97.4873C184.02 98.8669 181.274 101.358 179.577 104.536C177.879 107.714 177.337 111.382 178.041 114.915C178.746 118.448 180.653 121.627 183.439 123.911C186.226 126.195 189.717 127.443 193.32 127.44C195.364 127.443 197.388 127.042 199.275 126.259C201.163 125.476 202.878 124.328 204.32 122.88ZM122.88 19.4205C120.333 16.8729 116.981 15.2876 113.395 14.9347C109.81 14.5817 106.213 15.483 103.218 17.4849C100.223 19.4868 98.0146 22.4654 96.9696 25.9131C95.9245 29.3608 96.1073 33.0642 97.4869 36.3922C98.8665 39.7202 101.358 42.4668 104.535 44.1639C107.713 45.861 111.381 46.4036 114.914 45.6992C118.447 44.9949 121.627 43.0871 123.911 40.301C126.195 37.515 127.442 34.0231 127.44 30.4205C127.44 28.3772 127.038 26.3539 126.255 24.4664C125.473 22.5788 124.326 20.8642 122.88 19.4205ZM19.42 100.86C16.8725 103.408 15.2872 106.76 14.9342 110.345C14.5813 113.93 15.4826 117.527 17.4844 120.522C19.4863 123.518 22.4649 125.726 25.9127 126.771C29.3604 127.816 33.0638 127.633 36.3918 126.254C39.7198 124.874 42.4664 122.383 44.1635 119.205C45.8606 116.027 46.4032 112.359 45.6988 108.826C44.9944 105.293 43.0866 102.114 40.3006 99.8296C37.5145 97.5455 34.0227 96.2983 30.42 96.3005C26.2938 96.3018 22.337 97.9421 19.42 100.86ZM100.86 100.86C98.3125 103.408 96.7272 106.76 96.3742 110.345C96.0213 113.93 96.9226 117.527 98.9244 120.522C100.926 123.518 103.905 125.726 107.353 126.771C110.8 127.816 114.504 127.633 117.832 126.254C121.16 124.874 123.906 122.383 125.604 119.205C127.301 116.027 127.843 112.359 127.139 108.826C126.434 105.293 124.527 102.114 121.741 99.8296C118.955 97.5455 115.463 96.2983 111.86 96.3005C109.817 96.299 107.793 96.701 105.905 97.4835C104.018 98.2661 102.303 99.4136 100.86 100.86Z\" fill=\"#00AEEF\"/>\n",
              "    </g>\n",
              "    <defs>\n",
              "        <clipPath id=\"clip0_4338_178347\">\n",
              "            <rect width=\"566.93\" height=\"223.75\" fill=\"white\"/>\n",
              "        </clipPath>\n",
              "    </defs>\n",
              "  </svg>\n",
              "</div>\n",
              "\n",
              "        <table class=\"jp-RenderedHTMLCommon\" style=\"border-collapse: collapse;color: var(--jp-ui-font-color1);font-size: var(--jp-ui-font-size1);\">\n",
              "    <tr>\n",
              "        <td style=\"text-align: left\"><b>Python version:</b></td>\n",
              "        <td style=\"text-align: left\"><b>3.10.12</b></td>\n",
              "    </tr>\n",
              "    <tr>\n",
              "        <td style=\"text-align: left\"><b>Ray version:</b></td>\n",
              "        <td style=\"text-align: left\"><b>2.40.0</b></td>\n",
              "    </tr>\n",
              "    \n",
              "</table>\n",
              "\n",
              "    </div>\n",
              "</div>\n"
            ],
            "text/plain": [
              "RayContext(dashboard_url='', python_version='3.10.12', ray_version='2.40.0', ray_commit='22541c38dbef25286cd6d19f1c151bf4fd62f2ed')"
            ]
          },
          "execution_count": 6,
          "metadata": {},
          "output_type": "execute_result"
        }
      ],
      "source": [
        "import ray\n",
        "ray.shutdown()  # 清理之前的 Ray 状态\n",
        "ray.init()"
      ]
    },
    {
      "cell_type": "markdown",
      "metadata": {
        "id": "_e-PAJS2KZfW"
      },
      "source": [
        "## Part 2."
      ]
    },
    {
      "cell_type": "markdown",
      "metadata": {
        "id": "umuF8m22NPC6"
      },
      "source": [
        "#### Grid Search"
      ]
    },
    {
      "cell_type": "code",
      "execution_count": null,
      "metadata": {
        "colab": {
          "base_uri": "https://localhost:8080/"
        },
        "id": "v5Lt6JC8Fe1t",
        "outputId": "aca425c1-c8c8-4030-c8f4-6d6c668a9921"
      },
      "outputs": [
        {
          "name": "stdout",
          "output_type": "stream",
          "text": [
            "+--------------------------------------------------------------------+\n",
            "| Configuration for experiment     train_mnist_2024-12-05_14-26-51   |\n",
            "+--------------------------------------------------------------------+\n",
            "| Search algorithm                 BasicVariantGenerator             |\n",
            "| Scheduler                        FIFOScheduler                     |\n",
            "| Number of trials                 27                                |\n",
            "+--------------------------------------------------------------------+\n",
            "\n",
            "View detailed results here: /root/ray_results/train_mnist_2024-12-05_14-26-51\n",
            "To visualize your results with TensorBoard, run: `tensorboard --logdir /tmp/ray/session_2024-12-05_14-26-48_632070_1199/artifacts/2024-12-05_14-26-51/train_mnist_2024-12-05_14-26-51/driver_artifacts`\n",
            "\n",
            "Trial status: 27 PENDING\n",
            "Current time: 2024-12-05 14:26:55. Total running time: 0s\n",
            "Logical resource usage: 2.0/12 CPUs, 1.0/1 GPUs (0.0/1.0 accelerator_type:L4)\n",
            "+----------------------------------------------------------------------------------------+\n",
            "| Trial name                status       dropout     conv_filters      lr     batch_size |\n",
            "+----------------------------------------------------------------------------------------+\n",
            "| train_mnist_f80bd_00000   PENDING    0.0800099               64   0.001             64 |\n",
            "| train_mnist_f80bd_00001   PENDING    0.157755                64   0.001            128 |\n",
            "| train_mnist_f80bd_00002   PENDING    0.56265                 64   0.001            256 |\n",
            "| train_mnist_f80bd_00003   PENDING    0.0198027              128   0.001             64 |\n",
            "| train_mnist_f80bd_00004   PENDING    0.76506                128   0.001            128 |\n",
            "+----------------------------------------------------------------------------------------+\n",
            "22 more PENDING\n"
          ]
        },
        {
          "name": "stderr",
          "output_type": "stream",
          "text": [
            "\u001b[36m(pid=3421)\u001b[0m 2024-12-05 14:26:56.834145: E external/local_xla/xla/stream_executor/cuda/cuda_fft.cc:485] Unable to register cuFFT factory: Attempting to register factory for plugin cuFFT when one has already been registered\n",
            "\u001b[36m(pid=3421)\u001b[0m 2024-12-05 14:26:56.856656: E external/local_xla/xla/stream_executor/cuda/cuda_dnn.cc:8454] Unable to register cuDNN factory: Attempting to register factory for plugin cuDNN when one has already been registered\n",
            "\u001b[36m(pid=3421)\u001b[0m 2024-12-05 14:26:56.863182: E external/local_xla/xla/stream_executor/cuda/cuda_blas.cc:1452] Unable to register cuBLAS factory: Attempting to register factory for plugin cuBLAS when one has already been registered\n",
            "\u001b[36m(pid=3421)\u001b[0m 2024-12-05 14:26:58.091632: W tensorflow/compiler/tf2tensorrt/utils/py_utils.cc:38] TF-TRT Warning: Could not find TensorRT\n"
          ]
        },
        {
          "name": "stdout",
          "output_type": "stream",
          "text": [
            "\n",
            "Trial train_mnist_f80bd_00000 started with configuration:\n",
            "+--------------------------------------------------+\n",
            "| Trial train_mnist_f80bd_00000 config             |\n",
            "+--------------------------------------------------+\n",
            "| batch_size                                    64 |\n",
            "| conv_filters                                  64 |\n",
            "| dropout                                  0.08001 |\n",
            "| lr                                         0.001 |\n",
            "+--------------------------------------------------+\n",
            "\n",
            "\u001b[36m(train_mnist pid=3421)\u001b[0m Downloading data from https://storage.googleapis.com/tensorflow/tf-keras-datasets/mnist.npz\n",
            "Trial train_mnist_f80bd_00001 started with configuration:\n",
            "+--------------------------------------------------+\n",
            "| Trial train_mnist_f80bd_00001 config             |\n",
            "+--------------------------------------------------+\n",
            "| batch_size                                   128 |\n",
            "| conv_filters                                  64 |\n",
            "| dropout                                  0.15776 |\n",
            "| lr                                         0.001 |\n",
            "+--------------------------------------------------+\n",
            "\u001b[1m       0/11490434\u001b[0m \u001b[37m━━━━━━━━━━━━━━━━━━━━\u001b[0m \u001b[1m0s\u001b[0m 0s/step\n",
            "\u001b[1m11490434/11490434\u001b[0m \u001b[32m━━━━━━━━━━━━━━━━━━━━\u001b[0m\u001b[37m\u001b[0m \u001b[1m0s\u001b[0m 0us/step\n",
            "\u001b[1m11490434/11490434\u001b[0m \u001b[32m━━━━━━━━━━━━━━━━━━━━\u001b[0m\u001b[37m\u001b[0m \u001b[1m0s\u001b[0m 0us/step\n"
          ]
        },
        {
          "name": "stderr",
          "output_type": "stream",
          "text": [
            "\u001b[36m(train_mnist pid=3421)\u001b[0m 2024-12-05 14:27:01.101091: W tensorflow/core/common_runtime/gpu/gpu_bfc_allocator.cc:47] Overriding orig_value setting because the TF_FORCE_GPU_ALLOW_GROWTH environment variable is set. Original config value was 0.\n",
            "\u001b[36m(train_mnist pid=3421)\u001b[0m WARNING: All log messages before absl::InitializeLog() is called are written to STDERR\n",
            "\u001b[36m(train_mnist pid=3421)\u001b[0m I0000 00:00:1733408824.377891    3635 service.cc:146] XLA service 0x7c155c017440 initialized for platform CUDA (this does not guarantee that XLA will be used). Devices:\n",
            "\u001b[36m(train_mnist pid=3421)\u001b[0m I0000 00:00:1733408824.377951    3635 service.cc:154]   StreamExecutor device (0): NVIDIA L4, Compute Capability 8.9\n",
            "\u001b[36m(pid=3422)\u001b[0m 2024-12-05 14:26:56.830723: E external/local_xla/xla/stream_executor/cuda/cuda_fft.cc:485] Unable to register cuFFT factory: Attempting to register factory for plugin cuFFT when one has already been registered\n",
            "\u001b[36m(pid=3422)\u001b[0m 2024-12-05 14:26:56.852288: E external/local_xla/xla/stream_executor/cuda/cuda_dnn.cc:8454] Unable to register cuDNN factory: Attempting to register factory for plugin cuDNN when one has already been registered\n",
            "\u001b[36m(pid=3422)\u001b[0m 2024-12-05 14:26:56.858668: E external/local_xla/xla/stream_executor/cuda/cuda_blas.cc:1452] Unable to register cuBLAS factory: Attempting to register factory for plugin cuBLAS when one has already been registered\n",
            "\u001b[36m(pid=3422)\u001b[0m 2024-12-05 14:26:58.166073: W tensorflow/compiler/tf2tensorrt/utils/py_utils.cc:38] TF-TRT Warning: Could not find TensorRT\n",
            "\u001b[36m(train_mnist pid=3421)\u001b[0m I0000 00:00:1733408834.113671    3635 device_compiler.h:188] Compiled cluster using XLA!  This line is logged at most once for the lifetime of the process.\n",
            "\u001b[36m(train_mnist pid=3422)\u001b[0m 2024-12-05 14:27:01.101178: W tensorflow/core/common_runtime/gpu/gpu_bfc_allocator.cc:47] Overriding orig_value setting because the TF_FORCE_GPU_ALLOW_GROWTH environment variable is set. Original config value was 0.\n",
            "\u001b[36m(train_mnist pid=3422)\u001b[0m WARNING: All log messages before absl::InitializeLog() is called are written to STDERR\n",
            "\u001b[36m(train_mnist pid=3422)\u001b[0m I0000 00:00:1733408824.346446    3639 service.cc:146] XLA service 0x7c4f58006cb0 initialized for platform CUDA (this does not guarantee that XLA will be used). Devices:\n",
            "\u001b[36m(train_mnist pid=3422)\u001b[0m I0000 00:00:1733408824.346488    3639 service.cc:154]   StreamExecutor device (0): NVIDIA L4, Compute Capability 8.9\n"
          ]
        },
        {
          "name": "stdout",
          "output_type": "stream",
          "text": [
            "\n",
            "Trial status: 2 RUNNING | 25 PENDING\n",
            "Current time: 2024-12-05 14:27:25. Total running time: 30s\n",
            "Logical resource usage: 2.0/12 CPUs, 1.0/1 GPUs (0.0/1.0 accelerator_type:L4)\n",
            "+----------------------------------------------------------------------------------------+\n",
            "| Trial name                status       dropout     conv_filters      lr     batch_size |\n",
            "+----------------------------------------------------------------------------------------+\n",
            "| train_mnist_f80bd_00000   RUNNING    0.0800099               64   0.001             64 |\n",
            "| train_mnist_f80bd_00001   RUNNING    0.157755                64   0.001            128 |\n",
            "| train_mnist_f80bd_00002   PENDING    0.56265                 64   0.001            256 |\n",
            "| train_mnist_f80bd_00003   PENDING    0.0198027              128   0.001             64 |\n",
            "| train_mnist_f80bd_00004   PENDING    0.76506                128   0.001            128 |\n",
            "| train_mnist_f80bd_00005   PENDING    0.628439               128   0.001            256 |\n",
            "| train_mnist_f80bd_00006   PENDING    0.407241               256   0.001             64 |\n",
            "+----------------------------------------------------------------------------------------+\n",
            "20 more PENDING\n",
            "\n",
            "Trial train_mnist_f80bd_00001 finished iteration 1 at 2024-12-05 14:27:43. Total running time: 48s\n",
            "+--------------------------------------------------+\n",
            "| Trial train_mnist_f80bd_00001 result             |\n",
            "+--------------------------------------------------+\n",
            "| checkpoint_dir_name                              |\n",
            "| time_this_iter_s                         44.0185 |\n",
            "| time_total_s                             44.0185 |\n",
            "| training_iteration                             1 |\n",
            "| mean_accuracy                            0.99797 |\n",
            "+--------------------------------------------------+\n",
            "\n",
            "Trial train_mnist_f80bd_00001 completed after 1 iterations at 2024-12-05 14:27:43. Total running time: 48s\n"
          ]
        },
        {
          "name": "stderr",
          "output_type": "stream",
          "text": [
            "\u001b[36m(pid=4892)\u001b[0m 2024-12-05 14:27:45.653519: E external/local_xla/xla/stream_executor/cuda/cuda_fft.cc:485] Unable to register cuFFT factory: Attempting to register factory for plugin cuFFT when one has already been registered\n",
            "\u001b[36m(pid=4892)\u001b[0m 2024-12-05 14:27:45.678801: E external/local_xla/xla/stream_executor/cuda/cuda_dnn.cc:8454] Unable to register cuDNN factory: Attempting to register factory for plugin cuDNN when one has already been registered\n",
            "\u001b[36m(pid=4892)\u001b[0m 2024-12-05 14:27:45.686125: E external/local_xla/xla/stream_executor/cuda/cuda_blas.cc:1452] Unable to register cuBLAS factory: Attempting to register factory for plugin cuBLAS when one has already been registered\n",
            "\u001b[36m(train_mnist pid=3422)\u001b[0m I0000 00:00:1733408834.270943    3639 device_compiler.h:188] Compiled cluster using XLA!  This line is logged at most once for the lifetime of the process.\n",
            "\u001b[36m(pid=4892)\u001b[0m 2024-12-05 14:27:47.050764: W tensorflow/compiler/tf2tensorrt/utils/py_utils.cc:38] TF-TRT Warning: Could not find TensorRT\n"
          ]
        },
        {
          "name": "stdout",
          "output_type": "stream",
          "text": [
            "\n",
            "Trial train_mnist_f80bd_00002 started with configuration:\n",
            "+--------------------------------------------------+\n",
            "| Trial train_mnist_f80bd_00002 config             |\n",
            "+--------------------------------------------------+\n",
            "| batch_size                                   256 |\n",
            "| conv_filters                                  64 |\n",
            "| dropout                                  0.56265 |\n",
            "| lr                                         0.001 |\n",
            "+--------------------------------------------------+\n"
          ]
        },
        {
          "name": "stderr",
          "output_type": "stream",
          "text": [
            "\u001b[36m(train_mnist pid=4892)\u001b[0m 2024-12-05 14:27:48.988422: W tensorflow/core/common_runtime/gpu/gpu_bfc_allocator.cc:47] Overriding orig_value setting because the TF_FORCE_GPU_ALLOW_GROWTH environment variable is set. Original config value was 0.\n",
            "\u001b[36m(train_mnist pid=4892)\u001b[0m WARNING: All log messages before absl::InitializeLog() is called are written to STDERR\n",
            "\u001b[36m(train_mnist pid=4892)\u001b[0m I0000 00:00:1733408871.916203    5087 service.cc:146] XLA service 0x793c24017f70 initialized for platform CUDA (this does not guarantee that XLA will be used). Devices:\n",
            "\u001b[36m(train_mnist pid=4892)\u001b[0m I0000 00:00:1733408871.916259    5087 service.cc:154]   StreamExecutor device (0): NVIDIA L4, Compute Capability 8.9\n"
          ]
        },
        {
          "name": "stdout",
          "output_type": "stream",
          "text": [
            "\n",
            "Trial train_mnist_f80bd_00000 finished iteration 1 at 2024-12-05 14:27:52. Total running time: 57s\n",
            "+--------------------------------------------------+\n",
            "| Trial train_mnist_f80bd_00000 result             |\n",
            "+--------------------------------------------------+\n",
            "| checkpoint_dir_name                              |\n",
            "| time_this_iter_s                         53.1455 |\n",
            "| time_total_s                             53.1455 |\n",
            "| training_iteration                             1 |\n",
            "| mean_accuracy                            0.99758 |\n",
            "+--------------------------------------------------+\n",
            "\n",
            "Trial train_mnist_f80bd_00000 completed after 1 iterations at 2024-12-05 14:27:52. Total running time: 57s\n",
            "\n",
            "Trial status: 2 TERMINATED | 1 RUNNING | 24 PENDING\n",
            "Current time: 2024-12-05 14:27:55. Total running time: 1min 0s\n",
            "Logical resource usage: 2.0/12 CPUs, 1.0/1 GPUs (0.0/1.0 accelerator_type:L4)\n",
            "Current best trial: f80bd_00001 with mean_accuracy=0.9979666471481323 and params={'conv_filters': 64, 'lr': 0.001, 'dropout': 0.1577551489310799, 'batch_size': 128}\n",
            "+----------------------------------------------------------------------------------------------------------------------------------+\n",
            "| Trial name                status          dropout     conv_filters      lr     batch_size        acc     iter     total time (s) |\n",
            "+----------------------------------------------------------------------------------------------------------------------------------+\n",
            "| train_mnist_f80bd_00002   RUNNING      0.56265                  64   0.001            256                                        |\n",
            "| train_mnist_f80bd_00000   TERMINATED   0.0800099                64   0.001             64   0.997583        1            53.1455 |\n",
            "| train_mnist_f80bd_00001   TERMINATED   0.157755                 64   0.001            128   0.997967        1            44.0186 |\n",
            "| train_mnist_f80bd_00003   PENDING      0.0198027               128   0.001             64                                        |\n",
            "| train_mnist_f80bd_00004   PENDING      0.76506                 128   0.001            128                                        |\n",
            "| train_mnist_f80bd_00005   PENDING      0.628439                128   0.001            256                                        |\n",
            "| train_mnist_f80bd_00006   PENDING      0.407241                256   0.001             64                                        |\n",
            "| train_mnist_f80bd_00007   PENDING      0.00844249              256   0.001            128                                        |\n",
            "+----------------------------------------------------------------------------------------------------------------------------------+\n",
            "19 more PENDING\n"
          ]
        },
        {
          "name": "stderr",
          "output_type": "stream",
          "text": [
            "\u001b[36m(pid=5233)\u001b[0m 2024-12-05 14:27:55.728114: E external/local_xla/xla/stream_executor/cuda/cuda_fft.cc:485] Unable to register cuFFT factory: Attempting to register factory for plugin cuFFT when one has already been registered\n",
            "\u001b[36m(pid=5233)\u001b[0m 2024-12-05 14:27:55.761735: E external/local_xla/xla/stream_executor/cuda/cuda_dnn.cc:8454] Unable to register cuDNN factory: Attempting to register factory for plugin cuDNN when one has already been registered\n",
            "\u001b[36m(pid=5233)\u001b[0m 2024-12-05 14:27:55.768290: E external/local_xla/xla/stream_executor/cuda/cuda_blas.cc:1452] Unable to register cuBLAS factory: Attempting to register factory for plugin cuBLAS when one has already been registered\n",
            "\u001b[36m(pid=5233)\u001b[0m 2024-12-05 14:27:57.024695: W tensorflow/compiler/tf2tensorrt/utils/py_utils.cc:38] TF-TRT Warning: Could not find TensorRT\n"
          ]
        },
        {
          "name": "stdout",
          "output_type": "stream",
          "text": [
            "\n",
            "Trial train_mnist_f80bd_00003 started with configuration:\n",
            "+-------------------------------------------------+\n",
            "| Trial train_mnist_f80bd_00003 config            |\n",
            "+-------------------------------------------------+\n",
            "| batch_size                                   64 |\n",
            "| conv_filters                                128 |\n",
            "| dropout                                  0.0198 |\n",
            "| lr                                        0.001 |\n",
            "+-------------------------------------------------+\n"
          ]
        },
        {
          "name": "stderr",
          "output_type": "stream",
          "text": [
            "\u001b[36m(train_mnist pid=5233)\u001b[0m 2024-12-05 14:27:58.854222: W tensorflow/core/common_runtime/gpu/gpu_bfc_allocator.cc:47] Overriding orig_value setting because the TF_FORCE_GPU_ALLOW_GROWTH environment variable is set. Original config value was 0.\n",
            "\u001b[36m(train_mnist pid=4892)\u001b[0m I0000 00:00:1733408879.831390    5087 device_compiler.h:188] Compiled cluster using XLA!  This line is logged at most once for the lifetime of the process.\n",
            "\u001b[36m(train_mnist pid=5233)\u001b[0m WARNING: All log messages before absl::InitializeLog() is called are written to STDERR\n",
            "\u001b[36m(train_mnist pid=5233)\u001b[0m I0000 00:00:1733408881.819963    5392 service.cc:146] XLA service 0x7fcb5c003970 initialized for platform CUDA (this does not guarantee that XLA will be used). Devices:\n",
            "\u001b[36m(train_mnist pid=5233)\u001b[0m I0000 00:00:1733408881.820042    5392 service.cc:154]   StreamExecutor device (0): NVIDIA L4, Compute Capability 8.9\n",
            "\u001b[36m(train_mnist pid=5233)\u001b[0m I0000 00:00:1733408889.301527    5392 device_compiler.h:188] Compiled cluster using XLA!  This line is logged at most once for the lifetime of the process.\n"
          ]
        },
        {
          "name": "stdout",
          "output_type": "stream",
          "text": [
            "\n",
            "Trial status: 2 TERMINATED | 2 RUNNING | 23 PENDING\n",
            "Current time: 2024-12-05 14:28:25. Total running time: 1min 30s\n",
            "Logical resource usage: 2.0/12 CPUs, 1.0/1 GPUs (0.0/1.0 accelerator_type:L4)\n",
            "Current best trial: f80bd_00001 with mean_accuracy=0.9979666471481323 and params={'conv_filters': 64, 'lr': 0.001, 'dropout': 0.1577551489310799, 'batch_size': 128}\n",
            "+----------------------------------------------------------------------------------------------------------------------------------+\n",
            "| Trial name                status          dropout     conv_filters      lr     batch_size        acc     iter     total time (s) |\n",
            "+----------------------------------------------------------------------------------------------------------------------------------+\n",
            "| train_mnist_f80bd_00002   RUNNING      0.56265                  64   0.001            256                                        |\n",
            "| train_mnist_f80bd_00003   RUNNING      0.0198027               128   0.001             64                                        |\n",
            "| train_mnist_f80bd_00000   TERMINATED   0.0800099                64   0.001             64   0.997583        1            53.1455 |\n",
            "| train_mnist_f80bd_00001   TERMINATED   0.157755                 64   0.001            128   0.997967        1            44.0186 |\n",
            "| train_mnist_f80bd_00004   PENDING      0.76506                 128   0.001            128                                        |\n",
            "| train_mnist_f80bd_00005   PENDING      0.628439                128   0.001            256                                        |\n",
            "| train_mnist_f80bd_00006   PENDING      0.407241                256   0.001             64                                        |\n",
            "| train_mnist_f80bd_00007   PENDING      0.00844249              256   0.001            128                                        |\n",
            "| train_mnist_f80bd_00008   PENDING      0.945128                256   0.001            256                                        |\n",
            "+----------------------------------------------------------------------------------------------------------------------------------+\n",
            "18 more PENDING\n",
            "\n",
            "Trial train_mnist_f80bd_00002 finished iteration 1 at 2024-12-05 14:28:28. Total running time: 1min 34s\n",
            "+--------------------------------------------------+\n",
            "| Trial train_mnist_f80bd_00002 result             |\n",
            "+--------------------------------------------------+\n",
            "| checkpoint_dir_name                              |\n",
            "| time_this_iter_s                         40.4398 |\n",
            "| time_total_s                             40.4398 |\n",
            "| training_iteration                             1 |\n",
            "| mean_accuracy                            0.99653 |\n",
            "+--------------------------------------------------+\n",
            "\n",
            "Trial train_mnist_f80bd_00002 completed after 1 iterations at 2024-12-05 14:28:28. Total running time: 1min 34s\n"
          ]
        },
        {
          "name": "stderr",
          "output_type": "stream",
          "text": [
            "\u001b[36m(pid=6308)\u001b[0m 2024-12-05 14:28:31.562498: E external/local_xla/xla/stream_executor/cuda/cuda_fft.cc:485] Unable to register cuFFT factory: Attempting to register factory for plugin cuFFT when one has already been registered\n",
            "\u001b[36m(pid=6308)\u001b[0m 2024-12-05 14:28:31.584314: E external/local_xla/xla/stream_executor/cuda/cuda_dnn.cc:8454] Unable to register cuDNN factory: Attempting to register factory for plugin cuDNN when one has already been registered\n",
            "\u001b[36m(pid=6308)\u001b[0m 2024-12-05 14:28:31.590757: E external/local_xla/xla/stream_executor/cuda/cuda_blas.cc:1452] Unable to register cuBLAS factory: Attempting to register factory for plugin cuBLAS when one has already been registered\n",
            "\u001b[36m(pid=6308)\u001b[0m 2024-12-05 14:28:32.921328: W tensorflow/compiler/tf2tensorrt/utils/py_utils.cc:38] TF-TRT Warning: Could not find TensorRT\n"
          ]
        },
        {
          "name": "stdout",
          "output_type": "stream",
          "text": [
            "\n",
            "Trial train_mnist_f80bd_00004 started with configuration:\n",
            "+--------------------------------------------------+\n",
            "| Trial train_mnist_f80bd_00004 config             |\n",
            "+--------------------------------------------------+\n",
            "| batch_size                                   128 |\n",
            "| conv_filters                                 128 |\n",
            "| dropout                                  0.76506 |\n",
            "| lr                                         0.001 |\n",
            "+--------------------------------------------------+\n"
          ]
        },
        {
          "name": "stderr",
          "output_type": "stream",
          "text": [
            "\u001b[36m(train_mnist pid=6308)\u001b[0m 2024-12-05 14:28:34.943849: W tensorflow/core/common_runtime/gpu/gpu_bfc_allocator.cc:47] Overriding orig_value setting because the TF_FORCE_GPU_ALLOW_GROWTH environment variable is set. Original config value was 0.\n",
            "\u001b[36m(train_mnist pid=6308)\u001b[0m WARNING: All log messages before absl::InitializeLog() is called are written to STDERR\n",
            "\u001b[36m(train_mnist pid=6308)\u001b[0m I0000 00:00:1733408917.797968    6472 service.cc:146] XLA service 0x79b47c005b80 initialized for platform CUDA (this does not guarantee that XLA will be used). Devices:\n",
            "\u001b[36m(train_mnist pid=6308)\u001b[0m I0000 00:00:1733408917.798017    6472 service.cc:154]   StreamExecutor device (0): NVIDIA L4, Compute Capability 8.9\n",
            "\u001b[36m(train_mnist pid=6308)\u001b[0m I0000 00:00:1733408925.274304    6472 device_compiler.h:188] Compiled cluster using XLA!  This line is logged at most once for the lifetime of the process.\n"
          ]
        },
        {
          "name": "stdout",
          "output_type": "stream",
          "text": [
            "\n",
            "Trial status: 3 TERMINATED | 2 RUNNING | 22 PENDING\n",
            "Current time: 2024-12-05 14:28:55. Total running time: 2min 0s\n",
            "Logical resource usage: 2.0/12 CPUs, 1.0/1 GPUs (0.0/1.0 accelerator_type:L4)\n",
            "Current best trial: f80bd_00001 with mean_accuracy=0.9979666471481323 and params={'conv_filters': 64, 'lr': 0.001, 'dropout': 0.1577551489310799, 'batch_size': 128}\n",
            "+----------------------------------------------------------------------------------------------------------------------------------+\n",
            "| Trial name                status          dropout     conv_filters      lr     batch_size        acc     iter     total time (s) |\n",
            "+----------------------------------------------------------------------------------------------------------------------------------+\n",
            "| train_mnist_f80bd_00003   RUNNING      0.0198027               128   0.001             64                                        |\n",
            "| train_mnist_f80bd_00004   RUNNING      0.76506                 128   0.001            128                                        |\n",
            "| train_mnist_f80bd_00000   TERMINATED   0.0800099                64   0.001             64   0.997583        1            53.1455 |\n",
            "| train_mnist_f80bd_00001   TERMINATED   0.157755                 64   0.001            128   0.997967        1            44.0186 |\n",
            "| train_mnist_f80bd_00002   TERMINATED   0.56265                  64   0.001            256   0.996533        1            40.4399 |\n",
            "| train_mnist_f80bd_00005   PENDING      0.628439                128   0.001            256                                        |\n",
            "| train_mnist_f80bd_00006   PENDING      0.407241                256   0.001             64                                        |\n",
            "| train_mnist_f80bd_00007   PENDING      0.00844249              256   0.001            128                                        |\n",
            "| train_mnist_f80bd_00008   PENDING      0.945128                256   0.001            256                                        |\n",
            "| train_mnist_f80bd_00009   PENDING      0.498486                 64   0.01              64                                        |\n",
            "+----------------------------------------------------------------------------------------------------------------------------------+\n",
            "17 more PENDING\n",
            "\n",
            "Trial train_mnist_f80bd_00003 finished iteration 1 at 2024-12-05 14:29:05. Total running time: 2min 10s\n",
            "+--------------------------------------------------+\n",
            "| Trial train_mnist_f80bd_00003 result             |\n",
            "+--------------------------------------------------+\n",
            "| checkpoint_dir_name                              |\n",
            "| time_this_iter_s                         67.3642 |\n",
            "| time_total_s                             67.3642 |\n",
            "| training_iteration                             1 |\n",
            "| mean_accuracy                            0.99778 |\n",
            "+--------------------------------------------------+\n",
            "\n",
            "Trial train_mnist_f80bd_00003 completed after 1 iterations at 2024-12-05 14:29:05. Total running time: 2min 10s\n"
          ]
        },
        {
          "name": "stderr",
          "output_type": "stream",
          "text": [
            "\u001b[36m(pid=7164)\u001b[0m 2024-12-05 14:29:07.505546: E external/local_xla/xla/stream_executor/cuda/cuda_fft.cc:485] Unable to register cuFFT factory: Attempting to register factory for plugin cuFFT when one has already been registered\n",
            "\u001b[36m(pid=7164)\u001b[0m 2024-12-05 14:29:07.527893: E external/local_xla/xla/stream_executor/cuda/cuda_dnn.cc:8454] Unable to register cuDNN factory: Attempting to register factory for plugin cuDNN when one has already been registered\n",
            "\u001b[36m(pid=7164)\u001b[0m 2024-12-05 14:29:07.534309: E external/local_xla/xla/stream_executor/cuda/cuda_blas.cc:1452] Unable to register cuBLAS factory: Attempting to register factory for plugin cuBLAS when one has already been registered\n",
            "\u001b[36m(pid=7164)\u001b[0m 2024-12-05 14:29:08.766144: W tensorflow/compiler/tf2tensorrt/utils/py_utils.cc:38] TF-TRT Warning: Could not find TensorRT\n"
          ]
        },
        {
          "name": "stdout",
          "output_type": "stream",
          "text": [
            "\n",
            "Trial train_mnist_f80bd_00005 started with configuration:\n",
            "+--------------------------------------------------+\n",
            "| Trial train_mnist_f80bd_00005 config             |\n",
            "+--------------------------------------------------+\n",
            "| batch_size                                   256 |\n",
            "| conv_filters                                 128 |\n",
            "| dropout                                  0.62844 |\n",
            "| lr                                         0.001 |\n",
            "+--------------------------------------------------+\n"
          ]
        },
        {
          "name": "stderr",
          "output_type": "stream",
          "text": [
            "\u001b[36m(train_mnist pid=7164)\u001b[0m 2024-12-05 14:29:10.654308: W tensorflow/core/common_runtime/gpu/gpu_bfc_allocator.cc:47] Overriding orig_value setting because the TF_FORCE_GPU_ALLOW_GROWTH environment variable is set. Original config value was 0.\n",
            "\u001b[36m(train_mnist pid=7164)\u001b[0m WARNING: All log messages before absl::InitializeLog() is called are written to STDERR\n",
            "\u001b[36m(train_mnist pid=7164)\u001b[0m I0000 00:00:1733408953.434473    7330 service.cc:146] XLA service 0x79f8ac0050b0 initialized for platform CUDA (this does not guarantee that XLA will be used). Devices:\n",
            "\u001b[36m(train_mnist pid=7164)\u001b[0m I0000 00:00:1733408953.434520    7330 service.cc:154]   StreamExecutor device (0): NVIDIA L4, Compute Capability 8.9\n",
            "\u001b[36m(train_mnist pid=7164)\u001b[0m I0000 00:00:1733408962.890004    7330 device_compiler.h:188] Compiled cluster using XLA!  This line is logged at most once for the lifetime of the process.\n"
          ]
        },
        {
          "name": "stdout",
          "output_type": "stream",
          "text": [
            "\n",
            "Trial status: 4 TERMINATED | 2 RUNNING | 21 PENDING\n",
            "Current time: 2024-12-05 14:29:25. Total running time: 2min 30s\n",
            "Logical resource usage: 2.0/12 CPUs, 1.0/1 GPUs (0.0/1.0 accelerator_type:L4)\n",
            "Current best trial: f80bd_00001 with mean_accuracy=0.9979666471481323 and params={'conv_filters': 64, 'lr': 0.001, 'dropout': 0.1577551489310799, 'batch_size': 128}\n",
            "+----------------------------------------------------------------------------------------------------------------------------------+\n",
            "| Trial name                status          dropout     conv_filters      lr     batch_size        acc     iter     total time (s) |\n",
            "+----------------------------------------------------------------------------------------------------------------------------------+\n",
            "| train_mnist_f80bd_00004   RUNNING      0.76506                 128   0.001            128                                        |\n",
            "| train_mnist_f80bd_00005   RUNNING      0.628439                128   0.001            256                                        |\n",
            "| train_mnist_f80bd_00000   TERMINATED   0.0800099                64   0.001             64   0.997583        1            53.1455 |\n",
            "| train_mnist_f80bd_00001   TERMINATED   0.157755                 64   0.001            128   0.997967        1            44.0186 |\n",
            "| train_mnist_f80bd_00002   TERMINATED   0.56265                  64   0.001            256   0.996533        1            40.4399 |\n",
            "| train_mnist_f80bd_00003   TERMINATED   0.0198027               128   0.001             64   0.997783        1            67.3642 |\n",
            "| train_mnist_f80bd_00006   PENDING      0.407241                256   0.001             64                                        |\n",
            "| train_mnist_f80bd_00007   PENDING      0.00844249              256   0.001            128                                        |\n",
            "| train_mnist_f80bd_00008   PENDING      0.945128                256   0.001            256                                        |\n",
            "| train_mnist_f80bd_00009   PENDING      0.498486                 64   0.01              64                                        |\n",
            "| train_mnist_f80bd_00010   PENDING      0.805977                 64   0.01             128                                        |\n",
            "+----------------------------------------------------------------------------------------------------------------------------------+\n",
            "16 more PENDING\n",
            "\n",
            "Trial train_mnist_f80bd_00004 finished iteration 1 at 2024-12-05 14:29:34. Total running time: 2min 39s\n",
            "+--------------------------------------------------+\n",
            "| Trial train_mnist_f80bd_00004 result             |\n",
            "+--------------------------------------------------+\n",
            "| checkpoint_dir_name                              |\n",
            "| time_this_iter_s                         59.8803 |\n",
            "| time_total_s                             59.8803 |\n",
            "| training_iteration                             1 |\n",
            "| mean_accuracy                            0.98455 |\n",
            "+--------------------------------------------------+\n",
            "\n",
            "Trial train_mnist_f80bd_00004 completed after 1 iterations at 2024-12-05 14:29:34. Total running time: 2min 39s\n"
          ]
        },
        {
          "name": "stderr",
          "output_type": "stream",
          "text": [
            "\u001b[36m(pid=7909)\u001b[0m 2024-12-05 14:29:36.637183: E external/local_xla/xla/stream_executor/cuda/cuda_fft.cc:485] Unable to register cuFFT factory: Attempting to register factory for plugin cuFFT when one has already been registered\n",
            "\u001b[36m(pid=7909)\u001b[0m 2024-12-05 14:29:36.673883: E external/local_xla/xla/stream_executor/cuda/cuda_dnn.cc:8454] Unable to register cuDNN factory: Attempting to register factory for plugin cuDNN when one has already been registered\n",
            "\u001b[36m(pid=7909)\u001b[0m 2024-12-05 14:29:36.684665: E external/local_xla/xla/stream_executor/cuda/cuda_blas.cc:1452] Unable to register cuBLAS factory: Attempting to register factory for plugin cuBLAS when one has already been registered\n",
            "\u001b[36m(pid=7909)\u001b[0m 2024-12-05 14:29:37.997176: W tensorflow/compiler/tf2tensorrt/utils/py_utils.cc:38] TF-TRT Warning: Could not find TensorRT\n"
          ]
        },
        {
          "name": "stdout",
          "output_type": "stream",
          "text": [
            "\n",
            "Trial train_mnist_f80bd_00006 started with configuration:\n",
            "+--------------------------------------------------+\n",
            "| Trial train_mnist_f80bd_00006 config             |\n",
            "+--------------------------------------------------+\n",
            "| batch_size                                    64 |\n",
            "| conv_filters                                 256 |\n",
            "| dropout                                  0.40724 |\n",
            "| lr                                         0.001 |\n",
            "+--------------------------------------------------+\n"
          ]
        },
        {
          "name": "stderr",
          "output_type": "stream",
          "text": [
            "\u001b[36m(train_mnist pid=7909)\u001b[0m 2024-12-05 14:29:39.861125: W tensorflow/core/common_runtime/gpu/gpu_bfc_allocator.cc:47] Overriding orig_value setting because the TF_FORCE_GPU_ALLOW_GROWTH environment variable is set. Original config value was 0.\n",
            "\u001b[36m(train_mnist pid=7909)\u001b[0m WARNING: All log messages before absl::InitializeLog() is called are written to STDERR\n",
            "\u001b[36m(train_mnist pid=7909)\u001b[0m I0000 00:00:1733408982.535671    8060 service.cc:146] XLA service 0x7a90c80067f0 initialized for platform CUDA (this does not guarantee that XLA will be used). Devices:\n",
            "\u001b[36m(train_mnist pid=7909)\u001b[0m I0000 00:00:1733408982.535715    8060 service.cc:154]   StreamExecutor device (0): NVIDIA L4, Compute Capability 8.9\n",
            "\u001b[36m(train_mnist pid=7909)\u001b[0m I0000 00:00:1733408990.210453    8060 device_compiler.h:188] Compiled cluster using XLA!  This line is logged at most once for the lifetime of the process.\n"
          ]
        },
        {
          "name": "stdout",
          "output_type": "stream",
          "text": [
            "\n",
            "Trial status: 5 TERMINATED | 2 RUNNING | 20 PENDING\n",
            "Current time: 2024-12-05 14:29:55. Total running time: 3min 0s\n",
            "Logical resource usage: 2.0/12 CPUs, 1.0/1 GPUs (0.0/1.0 accelerator_type:L4)\n",
            "Current best trial: f80bd_00001 with mean_accuracy=0.9979666471481323 and params={'conv_filters': 64, 'lr': 0.001, 'dropout': 0.1577551489310799, 'batch_size': 128}\n",
            "+----------------------------------------------------------------------------------------------------------------------------------+\n",
            "| Trial name                status          dropout     conv_filters      lr     batch_size        acc     iter     total time (s) |\n",
            "+----------------------------------------------------------------------------------------------------------------------------------+\n",
            "| train_mnist_f80bd_00005   RUNNING      0.628439                128   0.001            256                                        |\n",
            "| train_mnist_f80bd_00006   RUNNING      0.407241                256   0.001             64                                        |\n",
            "| train_mnist_f80bd_00000   TERMINATED   0.0800099                64   0.001             64   0.997583        1            53.1455 |\n",
            "| train_mnist_f80bd_00001   TERMINATED   0.157755                 64   0.001            128   0.997967        1            44.0186 |\n",
            "| train_mnist_f80bd_00002   TERMINATED   0.56265                  64   0.001            256   0.996533        1            40.4399 |\n",
            "| train_mnist_f80bd_00003   TERMINATED   0.0198027               128   0.001             64   0.997783        1            67.3642 |\n",
            "| train_mnist_f80bd_00004   TERMINATED   0.76506                 128   0.001            128   0.98455         1            59.8803 |\n",
            "| train_mnist_f80bd_00007   PENDING      0.00844249              256   0.001            128                                        |\n",
            "| train_mnist_f80bd_00008   PENDING      0.945128                256   0.001            256                                        |\n",
            "| train_mnist_f80bd_00009   PENDING      0.498486                 64   0.01              64                                        |\n",
            "| train_mnist_f80bd_00010   PENDING      0.805977                 64   0.01             128                                        |\n",
            "| train_mnist_f80bd_00011   PENDING      0.831537                 64   0.01             256                                        |\n",
            "+----------------------------------------------------------------------------------------------------------------------------------+\n",
            "15 more PENDING\n",
            "\n",
            "Trial train_mnist_f80bd_00005 finished iteration 1 at 2024-12-05 14:30:14. Total running time: 3min 19s\n",
            "+--------------------------------------------------+\n",
            "| Trial train_mnist_f80bd_00005 result             |\n",
            "+--------------------------------------------------+\n",
            "| checkpoint_dir_name                              |\n",
            "| time_this_iter_s                         64.1189 |\n",
            "| time_total_s                             64.1189 |\n",
            "| training_iteration                             1 |\n",
            "| mean_accuracy                            0.99642 |\n",
            "+--------------------------------------------------+\n",
            "\n",
            "Trial train_mnist_f80bd_00005 completed after 1 iterations at 2024-12-05 14:30:14. Total running time: 3min 19s\n"
          ]
        },
        {
          "name": "stderr",
          "output_type": "stream",
          "text": [
            "\u001b[36m(pid=8810)\u001b[0m 2024-12-05 14:30:16.502515: E external/local_xla/xla/stream_executor/cuda/cuda_fft.cc:485] Unable to register cuFFT factory: Attempting to register factory for plugin cuFFT when one has already been registered\n",
            "\u001b[36m(pid=8810)\u001b[0m 2024-12-05 14:30:16.524928: E external/local_xla/xla/stream_executor/cuda/cuda_dnn.cc:8454] Unable to register cuDNN factory: Attempting to register factory for plugin cuDNN when one has already been registered\n",
            "\u001b[36m(pid=8810)\u001b[0m 2024-12-05 14:30:16.531499: E external/local_xla/xla/stream_executor/cuda/cuda_blas.cc:1452] Unable to register cuBLAS factory: Attempting to register factory for plugin cuBLAS when one has already been registered\n",
            "\u001b[36m(pid=8810)\u001b[0m 2024-12-05 14:30:17.828169: W tensorflow/compiler/tf2tensorrt/utils/py_utils.cc:38] TF-TRT Warning: Could not find TensorRT\n"
          ]
        },
        {
          "name": "stdout",
          "output_type": "stream",
          "text": [
            "\n",
            "Trial train_mnist_f80bd_00007 started with configuration:\n",
            "+--------------------------------------------------+\n",
            "| Trial train_mnist_f80bd_00007 config             |\n",
            "+--------------------------------------------------+\n",
            "| batch_size                                   128 |\n",
            "| conv_filters                                 256 |\n",
            "| dropout                                  0.00844 |\n",
            "| lr                                         0.001 |\n",
            "+--------------------------------------------------+\n"
          ]
        },
        {
          "name": "stderr",
          "output_type": "stream",
          "text": [
            "\u001b[36m(train_mnist pid=8810)\u001b[0m 2024-12-05 14:30:19.772501: W tensorflow/core/common_runtime/gpu/gpu_bfc_allocator.cc:47] Overriding orig_value setting because the TF_FORCE_GPU_ALLOW_GROWTH environment variable is set. Original config value was 0.\n",
            "\u001b[36m(train_mnist pid=8810)\u001b[0m WARNING: All log messages before absl::InitializeLog() is called are written to STDERR\n",
            "\u001b[36m(train_mnist pid=8810)\u001b[0m I0000 00:00:1733409022.504539    8908 service.cc:146] XLA service 0x7a7a54006240 initialized for platform CUDA (this does not guarantee that XLA will be used). Devices:\n",
            "\u001b[36m(train_mnist pid=8810)\u001b[0m I0000 00:00:1733409022.504589    8908 service.cc:154]   StreamExecutor device (0): NVIDIA L4, Compute Capability 8.9\n"
          ]
        },
        {
          "name": "stdout",
          "output_type": "stream",
          "text": [
            "\n",
            "Trial status: 6 TERMINATED | 2 RUNNING | 19 PENDING\n",
            "Current time: 2024-12-05 14:30:25. Total running time: 3min 30s\n",
            "Logical resource usage: 2.0/12 CPUs, 1.0/1 GPUs (0.0/1.0 accelerator_type:L4)\n",
            "Current best trial: f80bd_00001 with mean_accuracy=0.9979666471481323 and params={'conv_filters': 64, 'lr': 0.001, 'dropout': 0.1577551489310799, 'batch_size': 128}\n",
            "+----------------------------------------------------------------------------------------------------------------------------------+\n",
            "| Trial name                status          dropout     conv_filters      lr     batch_size        acc     iter     total time (s) |\n",
            "+----------------------------------------------------------------------------------------------------------------------------------+\n",
            "| train_mnist_f80bd_00006   RUNNING      0.407241                256   0.001             64                                        |\n",
            "| train_mnist_f80bd_00007   RUNNING      0.00844249              256   0.001            128                                        |\n",
            "| train_mnist_f80bd_00000   TERMINATED   0.0800099                64   0.001             64   0.997583        1            53.1455 |\n",
            "| train_mnist_f80bd_00001   TERMINATED   0.157755                 64   0.001            128   0.997967        1            44.0186 |\n",
            "| train_mnist_f80bd_00002   TERMINATED   0.56265                  64   0.001            256   0.996533        1            40.4399 |\n",
            "| train_mnist_f80bd_00003   TERMINATED   0.0198027               128   0.001             64   0.997783        1            67.3642 |\n",
            "| train_mnist_f80bd_00004   TERMINATED   0.76506                 128   0.001            128   0.98455         1            59.8803 |\n",
            "| train_mnist_f80bd_00008   PENDING      0.945128                256   0.001            256                                        |\n",
            "| train_mnist_f80bd_00009   PENDING      0.498486                 64   0.01              64                                        |\n",
            "| train_mnist_f80bd_00010   PENDING      0.805977                 64   0.01             128                                        |\n",
            "| train_mnist_f80bd_00011   PENDING      0.831537                 64   0.01             256                                        |\n",
            "| train_mnist_f80bd_00012   PENDING      0.501939                128   0.01              64                                        |\n",
            "+----------------------------------------------------------------------------------------------------------------------------------+\n",
            "1 more TERMINATED, 14 more PENDING\n"
          ]
        },
        {
          "name": "stderr",
          "output_type": "stream",
          "text": [
            "\u001b[36m(train_mnist pid=8810)\u001b[0m I0000 00:00:1733409033.229955    8908 device_compiler.h:188] Compiled cluster using XLA!  This line is logged at most once for the lifetime of the process.\n"
          ]
        },
        {
          "name": "stdout",
          "output_type": "stream",
          "text": [
            "Trial status: 6 TERMINATED | 2 RUNNING | 19 PENDING\n",
            "Current time: 2024-12-05 14:30:55. Total running time: 4min 0s\n",
            "Logical resource usage: 2.0/12 CPUs, 1.0/1 GPUs (0.0/1.0 accelerator_type:L4)\n",
            "Current best trial: f80bd_00001 with mean_accuracy=0.9979666471481323 and params={'conv_filters': 64, 'lr': 0.001, 'dropout': 0.1577551489310799, 'batch_size': 128}\n",
            "+----------------------------------------------------------------------------------------------------------------------------------+\n",
            "| Trial name                status          dropout     conv_filters      lr     batch_size        acc     iter     total time (s) |\n",
            "+----------------------------------------------------------------------------------------------------------------------------------+\n",
            "| train_mnist_f80bd_00006   RUNNING      0.407241                256   0.001             64                                        |\n",
            "| train_mnist_f80bd_00007   RUNNING      0.00844249              256   0.001            128                                        |\n",
            "| train_mnist_f80bd_00000   TERMINATED   0.0800099                64   0.001             64   0.997583        1            53.1455 |\n",
            "| train_mnist_f80bd_00001   TERMINATED   0.157755                 64   0.001            128   0.997967        1            44.0186 |\n",
            "| train_mnist_f80bd_00002   TERMINATED   0.56265                  64   0.001            256   0.996533        1            40.4399 |\n",
            "| train_mnist_f80bd_00003   TERMINATED   0.0198027               128   0.001             64   0.997783        1            67.3642 |\n",
            "| train_mnist_f80bd_00004   TERMINATED   0.76506                 128   0.001            128   0.98455         1            59.8803 |\n",
            "| train_mnist_f80bd_00008   PENDING      0.945128                256   0.001            256                                        |\n",
            "| train_mnist_f80bd_00009   PENDING      0.498486                 64   0.01              64                                        |\n",
            "| train_mnist_f80bd_00010   PENDING      0.805977                 64   0.01             128                                        |\n",
            "| train_mnist_f80bd_00011   PENDING      0.831537                 64   0.01             256                                        |\n",
            "| train_mnist_f80bd_00012   PENDING      0.501939                128   0.01              64                                        |\n",
            "+----------------------------------------------------------------------------------------------------------------------------------+\n",
            "1 more TERMINATED, 14 more PENDING\n",
            "Trial status: 6 TERMINATED | 2 RUNNING | 19 PENDING\n",
            "Current time: 2024-12-05 14:31:25. Total running time: 4min 30s\n",
            "Logical resource usage: 2.0/12 CPUs, 1.0/1 GPUs (0.0/1.0 accelerator_type:L4)\n",
            "Current best trial: f80bd_00001 with mean_accuracy=0.9979666471481323 and params={'conv_filters': 64, 'lr': 0.001, 'dropout': 0.1577551489310799, 'batch_size': 128}\n",
            "+----------------------------------------------------------------------------------------------------------------------------------+\n",
            "| Trial name                status          dropout     conv_filters      lr     batch_size        acc     iter     total time (s) |\n",
            "+----------------------------------------------------------------------------------------------------------------------------------+\n",
            "| train_mnist_f80bd_00006   RUNNING      0.407241                256   0.001             64                                        |\n",
            "| train_mnist_f80bd_00007   RUNNING      0.00844249              256   0.001            128                                        |\n",
            "| train_mnist_f80bd_00000   TERMINATED   0.0800099                64   0.001             64   0.997583        1            53.1455 |\n",
            "| train_mnist_f80bd_00001   TERMINATED   0.157755                 64   0.001            128   0.997967        1            44.0186 |\n",
            "| train_mnist_f80bd_00002   TERMINATED   0.56265                  64   0.001            256   0.996533        1            40.4399 |\n",
            "| train_mnist_f80bd_00003   TERMINATED   0.0198027               128   0.001             64   0.997783        1            67.3642 |\n",
            "| train_mnist_f80bd_00004   TERMINATED   0.76506                 128   0.001            128   0.98455         1            59.8803 |\n",
            "| train_mnist_f80bd_00008   PENDING      0.945128                256   0.001            256                                        |\n",
            "| train_mnist_f80bd_00009   PENDING      0.498486                 64   0.01              64                                        |\n",
            "| train_mnist_f80bd_00010   PENDING      0.805977                 64   0.01             128                                        |\n",
            "| train_mnist_f80bd_00011   PENDING      0.831537                 64   0.01             256                                        |\n",
            "| train_mnist_f80bd_00012   PENDING      0.501939                128   0.01              64                                        |\n",
            "+----------------------------------------------------------------------------------------------------------------------------------+\n",
            "1 more TERMINATED, 14 more PENDING\n",
            "Trial status: 6 TERMINATED | 2 RUNNING | 19 PENDING\n",
            "Current time: 2024-12-05 14:31:55. Total running time: 5min 0s\n",
            "Logical resource usage: 2.0/12 CPUs, 1.0/1 GPUs (0.0/1.0 accelerator_type:L4)\n",
            "Current best trial: f80bd_00001 with mean_accuracy=0.9979666471481323 and params={'conv_filters': 64, 'lr': 0.001, 'dropout': 0.1577551489310799, 'batch_size': 128}\n",
            "+----------------------------------------------------------------------------------------------------------------------------------+\n",
            "| Trial name                status          dropout     conv_filters      lr     batch_size        acc     iter     total time (s) |\n",
            "+----------------------------------------------------------------------------------------------------------------------------------+\n",
            "| train_mnist_f80bd_00006   RUNNING      0.407241                256   0.001             64                                        |\n",
            "| train_mnist_f80bd_00007   RUNNING      0.00844249              256   0.001            128                                        |\n",
            "| train_mnist_f80bd_00000   TERMINATED   0.0800099                64   0.001             64   0.997583        1            53.1455 |\n",
            "| train_mnist_f80bd_00001   TERMINATED   0.157755                 64   0.001            128   0.997967        1            44.0186 |\n",
            "| train_mnist_f80bd_00002   TERMINATED   0.56265                  64   0.001            256   0.996533        1            40.4399 |\n",
            "| train_mnist_f80bd_00003   TERMINATED   0.0198027               128   0.001             64   0.997783        1            67.3642 |\n",
            "| train_mnist_f80bd_00004   TERMINATED   0.76506                 128   0.001            128   0.98455         1            59.8803 |\n",
            "| train_mnist_f80bd_00008   PENDING      0.945128                256   0.001            256                                        |\n",
            "| train_mnist_f80bd_00009   PENDING      0.498486                 64   0.01              64                                        |\n",
            "| train_mnist_f80bd_00010   PENDING      0.805977                 64   0.01             128                                        |\n",
            "| train_mnist_f80bd_00011   PENDING      0.831537                 64   0.01             256                                        |\n",
            "| train_mnist_f80bd_00012   PENDING      0.501939                128   0.01              64                                        |\n",
            "+----------------------------------------------------------------------------------------------------------------------------------+\n",
            "1 more TERMINATED, 14 more PENDING\n",
            "Trial status: 6 TERMINATED | 2 RUNNING | 19 PENDING\n",
            "Current time: 2024-12-05 14:32:25. Total running time: 5min 30s\n",
            "Logical resource usage: 2.0/12 CPUs, 1.0/1 GPUs (0.0/1.0 accelerator_type:L4)\n",
            "Current best trial: f80bd_00001 with mean_accuracy=0.9979666471481323 and params={'conv_filters': 64, 'lr': 0.001, 'dropout': 0.1577551489310799, 'batch_size': 128}\n",
            "+----------------------------------------------------------------------------------------------------------------------------------+\n",
            "| Trial name                status          dropout     conv_filters      lr     batch_size        acc     iter     total time (s) |\n",
            "+----------------------------------------------------------------------------------------------------------------------------------+\n",
            "| train_mnist_f80bd_00006   RUNNING      0.407241                256   0.001             64                                        |\n",
            "| train_mnist_f80bd_00007   RUNNING      0.00844249              256   0.001            128                                        |\n",
            "| train_mnist_f80bd_00000   TERMINATED   0.0800099                64   0.001             64   0.997583        1            53.1455 |\n",
            "| train_mnist_f80bd_00001   TERMINATED   0.157755                 64   0.001            128   0.997967        1            44.0186 |\n",
            "| train_mnist_f80bd_00002   TERMINATED   0.56265                  64   0.001            256   0.996533        1            40.4399 |\n",
            "| train_mnist_f80bd_00003   TERMINATED   0.0198027               128   0.001             64   0.997783        1            67.3642 |\n",
            "| train_mnist_f80bd_00004   TERMINATED   0.76506                 128   0.001            128   0.98455         1            59.8803 |\n",
            "| train_mnist_f80bd_00008   PENDING      0.945128                256   0.001            256                                        |\n",
            "| train_mnist_f80bd_00009   PENDING      0.498486                 64   0.01              64                                        |\n",
            "| train_mnist_f80bd_00010   PENDING      0.805977                 64   0.01             128                                        |\n",
            "| train_mnist_f80bd_00011   PENDING      0.831537                 64   0.01             256                                        |\n",
            "| train_mnist_f80bd_00012   PENDING      0.501939                128   0.01              64                                        |\n",
            "+----------------------------------------------------------------------------------------------------------------------------------+\n",
            "1 more TERMINATED, 14 more PENDING\n",
            "\n",
            "Trial train_mnist_f80bd_00006 finished iteration 1 at 2024-12-05 14:32:39. Total running time: 5min 45s\n",
            "+--------------------------------------------------+\n",
            "| Trial train_mnist_f80bd_00006 result             |\n",
            "+--------------------------------------------------+\n",
            "| checkpoint_dir_name                              |\n",
            "| time_this_iter_s                         180.512 |\n",
            "| time_total_s                             180.512 |\n",
            "| training_iteration                             1 |\n",
            "| mean_accuracy                            0.99762 |\n",
            "+--------------------------------------------------+\n",
            "\n",
            "Trial train_mnist_f80bd_00006 completed after 1 iterations at 2024-12-05 14:32:39. Total running time: 5min 45s\n"
          ]
        },
        {
          "name": "stderr",
          "output_type": "stream",
          "text": [
            "\u001b[36m(pid=10404)\u001b[0m 2024-12-05 14:32:42.497881: E external/local_xla/xla/stream_executor/cuda/cuda_fft.cc:485] Unable to register cuFFT factory: Attempting to register factory for plugin cuFFT when one has already been registered\n",
            "\u001b[36m(pid=10404)\u001b[0m 2024-12-05 14:32:42.519434: E external/local_xla/xla/stream_executor/cuda/cuda_dnn.cc:8454] Unable to register cuDNN factory: Attempting to register factory for plugin cuDNN when one has already been registered\n",
            "\u001b[36m(pid=10404)\u001b[0m 2024-12-05 14:32:42.526099: E external/local_xla/xla/stream_executor/cuda/cuda_blas.cc:1452] Unable to register cuBLAS factory: Attempting to register factory for plugin cuBLAS when one has already been registered\n",
            "\u001b[36m(pid=10404)\u001b[0m 2024-12-05 14:32:43.740639: W tensorflow/compiler/tf2tensorrt/utils/py_utils.cc:38] TF-TRT Warning: Could not find TensorRT\n"
          ]
        },
        {
          "name": "stdout",
          "output_type": "stream",
          "text": [
            "\n",
            "Trial train_mnist_f80bd_00008 started with configuration:\n",
            "+--------------------------------------------------+\n",
            "| Trial train_mnist_f80bd_00008 config             |\n",
            "+--------------------------------------------------+\n",
            "| batch_size                                   256 |\n",
            "| conv_filters                                 256 |\n",
            "| dropout                                  0.94513 |\n",
            "| lr                                         0.001 |\n",
            "+--------------------------------------------------+\n"
          ]
        },
        {
          "name": "stderr",
          "output_type": "stream",
          "text": [
            "\u001b[36m(train_mnist pid=10404)\u001b[0m 2024-12-05 14:32:45.583810: W tensorflow/core/common_runtime/gpu/gpu_bfc_allocator.cc:47] Overriding orig_value setting because the TF_FORCE_GPU_ALLOW_GROWTH environment variable is set. Original config value was 0.\n",
            "\u001b[36m(train_mnist pid=10404)\u001b[0m WARNING: All log messages before absl::InitializeLog() is called are written to STDERR\n",
            "\u001b[36m(train_mnist pid=10404)\u001b[0m I0000 00:00:1733409168.322337   10534 service.cc:146] XLA service 0x78d9d8003fc0 initialized for platform CUDA (this does not guarantee that XLA will be used). Devices:\n",
            "\u001b[36m(train_mnist pid=10404)\u001b[0m I0000 00:00:1733409168.322386   10534 service.cc:154]   StreamExecutor device (0): NVIDIA L4, Compute Capability 8.9\n"
          ]
        },
        {
          "name": "stdout",
          "output_type": "stream",
          "text": [
            "\n",
            "Trial status: 7 TERMINATED | 2 RUNNING | 18 PENDING\n",
            "Current time: 2024-12-05 14:32:55. Total running time: 6min 0s\n",
            "Logical resource usage: 2.0/12 CPUs, 1.0/1 GPUs (0.0/1.0 accelerator_type:L4)\n",
            "Current best trial: f80bd_00001 with mean_accuracy=0.9979666471481323 and params={'conv_filters': 64, 'lr': 0.001, 'dropout': 0.1577551489310799, 'batch_size': 128}\n",
            "+----------------------------------------------------------------------------------------------------------------------------------+\n",
            "| Trial name                status          dropout     conv_filters      lr     batch_size        acc     iter     total time (s) |\n",
            "+----------------------------------------------------------------------------------------------------------------------------------+\n",
            "| train_mnist_f80bd_00007   RUNNING      0.00844249              256   0.001            128                                        |\n",
            "| train_mnist_f80bd_00008   RUNNING      0.945128                256   0.001            256                                        |\n",
            "| train_mnist_f80bd_00000   TERMINATED   0.0800099                64   0.001             64   0.997583        1            53.1455 |\n",
            "| train_mnist_f80bd_00001   TERMINATED   0.157755                 64   0.001            128   0.997967        1            44.0186 |\n",
            "| train_mnist_f80bd_00002   TERMINATED   0.56265                  64   0.001            256   0.996533        1            40.4399 |\n",
            "| train_mnist_f80bd_00003   TERMINATED   0.0198027               128   0.001             64   0.997783        1            67.3642 |\n",
            "| train_mnist_f80bd_00004   TERMINATED   0.76506                 128   0.001            128   0.98455         1            59.8803 |\n",
            "| train_mnist_f80bd_00009   PENDING      0.498486                 64   0.01              64                                        |\n",
            "| train_mnist_f80bd_00010   PENDING      0.805977                 64   0.01             128                                        |\n",
            "| train_mnist_f80bd_00011   PENDING      0.831537                 64   0.01             256                                        |\n",
            "| train_mnist_f80bd_00012   PENDING      0.501939                128   0.01              64                                        |\n",
            "| train_mnist_f80bd_00013   PENDING      0.415879                128   0.01             128                                        |\n",
            "+----------------------------------------------------------------------------------------------------------------------------------+\n",
            "2 more TERMINATED, 13 more PENDING\n",
            "\n",
            "Trial train_mnist_f80bd_00007 finished iteration 1 at 2024-12-05 14:33:00. Total running time: 6min 6s\n",
            "+--------------------------------------------------+\n",
            "| Trial train_mnist_f80bd_00007 result             |\n",
            "+--------------------------------------------------+\n",
            "| checkpoint_dir_name                              |\n",
            "| time_this_iter_s                         161.731 |\n",
            "| time_total_s                             161.731 |\n",
            "| training_iteration                             1 |\n",
            "| mean_accuracy                            0.99813 |\n",
            "+--------------------------------------------------+\n",
            "\n",
            "Trial train_mnist_f80bd_00007 completed after 1 iterations at 2024-12-05 14:33:00. Total running time: 6min 6s\n"
          ]
        },
        {
          "name": "stderr",
          "output_type": "stream",
          "text": [
            "\u001b[36m(train_mnist pid=10404)\u001b[0m I0000 00:00:1733409182.864985   10534 device_compiler.h:188] Compiled cluster using XLA!  This line is logged at most once for the lifetime of the process.\n",
            "\u001b[36m(pid=10785)\u001b[0m 2024-12-05 14:33:03.512898: E external/local_xla/xla/stream_executor/cuda/cuda_fft.cc:485] Unable to register cuFFT factory: Attempting to register factory for plugin cuFFT when one has already been registered\n",
            "\u001b[36m(pid=10785)\u001b[0m 2024-12-05 14:33:03.534294: E external/local_xla/xla/stream_executor/cuda/cuda_dnn.cc:8454] Unable to register cuDNN factory: Attempting to register factory for plugin cuDNN when one has already been registered\n",
            "\u001b[36m(pid=10785)\u001b[0m 2024-12-05 14:33:03.540768: E external/local_xla/xla/stream_executor/cuda/cuda_blas.cc:1452] Unable to register cuBLAS factory: Attempting to register factory for plugin cuBLAS when one has already been registered\n",
            "\u001b[36m(pid=10785)\u001b[0m 2024-12-05 14:33:04.789751: W tensorflow/compiler/tf2tensorrt/utils/py_utils.cc:38] TF-TRT Warning: Could not find TensorRT\n"
          ]
        },
        {
          "name": "stdout",
          "output_type": "stream",
          "text": [
            "\n",
            "Trial train_mnist_f80bd_00009 started with configuration:\n",
            "+--------------------------------------------------+\n",
            "| Trial train_mnist_f80bd_00009 config             |\n",
            "+--------------------------------------------------+\n",
            "| batch_size                                    64 |\n",
            "| conv_filters                                  64 |\n",
            "| dropout                                  0.49849 |\n",
            "| lr                                          0.01 |\n",
            "+--------------------------------------------------+\n"
          ]
        },
        {
          "name": "stderr",
          "output_type": "stream",
          "text": [
            "\u001b[36m(train_mnist pid=10785)\u001b[0m 2024-12-05 14:33:06.640251: W tensorflow/core/common_runtime/gpu/gpu_bfc_allocator.cc:47] Overriding orig_value setting because the TF_FORCE_GPU_ALLOW_GROWTH environment variable is set. Original config value was 0.\n",
            "\u001b[36m(train_mnist pid=10785)\u001b[0m WARNING: All log messages before absl::InitializeLog() is called are written to STDERR\n",
            "\u001b[36m(train_mnist pid=10785)\u001b[0m I0000 00:00:1733409189.391745   10886 service.cc:146] XLA service 0x7ed2dc005370 initialized for platform CUDA (this does not guarantee that XLA will be used). Devices:\n",
            "\u001b[36m(train_mnist pid=10785)\u001b[0m I0000 00:00:1733409189.391794   10886 service.cc:154]   StreamExecutor device (0): NVIDIA L4, Compute Capability 8.9\n",
            "\u001b[36m(train_mnist pid=10785)\u001b[0m I0000 00:00:1733409198.090984   10886 device_compiler.h:188] Compiled cluster using XLA!  This line is logged at most once for the lifetime of the process.\n"
          ]
        },
        {
          "name": "stdout",
          "output_type": "stream",
          "text": [
            "\n",
            "Trial status: 8 TERMINATED | 2 RUNNING | 17 PENDING\n",
            "Current time: 2024-12-05 14:33:25. Total running time: 6min 31s\n",
            "Logical resource usage: 2.0/12 CPUs, 1.0/1 GPUs (0.0/1.0 accelerator_type:L4)\n",
            "Current best trial: f80bd_00007 with mean_accuracy=0.9981333613395691 and params={'conv_filters': 256, 'lr': 0.001, 'dropout': 0.00844249100058081, 'batch_size': 128}\n",
            "+---------------------------------------------------------------------------------------------------------------------------------+\n",
            "| Trial name                status         dropout     conv_filters      lr     batch_size        acc     iter     total time (s) |\n",
            "+---------------------------------------------------------------------------------------------------------------------------------+\n",
            "| train_mnist_f80bd_00008   RUNNING      0.945128               256   0.001            256                                        |\n",
            "| train_mnist_f80bd_00009   RUNNING      0.498486                64   0.01              64                                        |\n",
            "| train_mnist_f80bd_00000   TERMINATED   0.0800099               64   0.001             64   0.997583        1            53.1455 |\n",
            "| train_mnist_f80bd_00001   TERMINATED   0.157755                64   0.001            128   0.997967        1            44.0186 |\n",
            "| train_mnist_f80bd_00002   TERMINATED   0.56265                 64   0.001            256   0.996533        1            40.4399 |\n",
            "| train_mnist_f80bd_00003   TERMINATED   0.0198027              128   0.001             64   0.997783        1            67.3642 |\n",
            "| train_mnist_f80bd_00004   TERMINATED   0.76506                128   0.001            128   0.98455         1            59.8803 |\n",
            "| train_mnist_f80bd_00010   PENDING      0.805977                64   0.01             128                                        |\n",
            "| train_mnist_f80bd_00011   PENDING      0.831537                64   0.01             256                                        |\n",
            "| train_mnist_f80bd_00012   PENDING      0.501939               128   0.01              64                                        |\n",
            "| train_mnist_f80bd_00013   PENDING      0.415879               128   0.01             128                                        |\n",
            "| train_mnist_f80bd_00014   PENDING      0.225188               128   0.01             256                                        |\n",
            "+---------------------------------------------------------------------------------------------------------------------------------+\n",
            "3 more TERMINATED, 12 more PENDING\n",
            "Trial status: 8 TERMINATED | 2 RUNNING | 17 PENDING\n",
            "Current time: 2024-12-05 14:33:55. Total running time: 7min 1s\n",
            "Logical resource usage: 2.0/12 CPUs, 1.0/1 GPUs (0.0/1.0 accelerator_type:L4)\n",
            "Current best trial: f80bd_00007 with mean_accuracy=0.9981333613395691 and params={'conv_filters': 256, 'lr': 0.001, 'dropout': 0.00844249100058081, 'batch_size': 128}\n",
            "+---------------------------------------------------------------------------------------------------------------------------------+\n",
            "| Trial name                status         dropout     conv_filters      lr     batch_size        acc     iter     total time (s) |\n",
            "+---------------------------------------------------------------------------------------------------------------------------------+\n",
            "| train_mnist_f80bd_00008   RUNNING      0.945128               256   0.001            256                                        |\n",
            "| train_mnist_f80bd_00009   RUNNING      0.498486                64   0.01              64                                        |\n",
            "| train_mnist_f80bd_00000   TERMINATED   0.0800099               64   0.001             64   0.997583        1            53.1455 |\n",
            "| train_mnist_f80bd_00001   TERMINATED   0.157755                64   0.001            128   0.997967        1            44.0186 |\n",
            "| train_mnist_f80bd_00002   TERMINATED   0.56265                 64   0.001            256   0.996533        1            40.4399 |\n",
            "| train_mnist_f80bd_00003   TERMINATED   0.0198027              128   0.001             64   0.997783        1            67.3642 |\n",
            "| train_mnist_f80bd_00004   TERMINATED   0.76506                128   0.001            128   0.98455         1            59.8803 |\n",
            "| train_mnist_f80bd_00010   PENDING      0.805977                64   0.01             128                                        |\n",
            "| train_mnist_f80bd_00011   PENDING      0.831537                64   0.01             256                                        |\n",
            "| train_mnist_f80bd_00012   PENDING      0.501939               128   0.01              64                                        |\n",
            "| train_mnist_f80bd_00013   PENDING      0.415879               128   0.01             128                                        |\n",
            "| train_mnist_f80bd_00014   PENDING      0.225188               128   0.01             256                                        |\n",
            "+---------------------------------------------------------------------------------------------------------------------------------+\n",
            "3 more TERMINATED, 12 more PENDING\n",
            "Trial status: 8 TERMINATED | 2 RUNNING | 17 PENDING\n",
            "Current time: 2024-12-05 14:34:25. Total running time: 7min 31s\n",
            "Logical resource usage: 2.0/12 CPUs, 1.0/1 GPUs (0.0/1.0 accelerator_type:L4)\n",
            "Current best trial: f80bd_00007 with mean_accuracy=0.9981333613395691 and params={'conv_filters': 256, 'lr': 0.001, 'dropout': 0.00844249100058081, 'batch_size': 128}\n",
            "+---------------------------------------------------------------------------------------------------------------------------------+\n",
            "| Trial name                status         dropout     conv_filters      lr     batch_size        acc     iter     total time (s) |\n",
            "+---------------------------------------------------------------------------------------------------------------------------------+\n",
            "| train_mnist_f80bd_00008   RUNNING      0.945128               256   0.001            256                                        |\n",
            "| train_mnist_f80bd_00009   RUNNING      0.498486                64   0.01              64                                        |\n",
            "| train_mnist_f80bd_00000   TERMINATED   0.0800099               64   0.001             64   0.997583        1            53.1455 |\n",
            "| train_mnist_f80bd_00001   TERMINATED   0.157755                64   0.001            128   0.997967        1            44.0186 |\n",
            "| train_mnist_f80bd_00002   TERMINATED   0.56265                 64   0.001            256   0.996533        1            40.4399 |\n",
            "| train_mnist_f80bd_00003   TERMINATED   0.0198027              128   0.001             64   0.997783        1            67.3642 |\n",
            "| train_mnist_f80bd_00004   TERMINATED   0.76506                128   0.001            128   0.98455         1            59.8803 |\n",
            "| train_mnist_f80bd_00010   PENDING      0.805977                64   0.01             128                                        |\n",
            "| train_mnist_f80bd_00011   PENDING      0.831537                64   0.01             256                                        |\n",
            "| train_mnist_f80bd_00012   PENDING      0.501939               128   0.01              64                                        |\n",
            "| train_mnist_f80bd_00013   PENDING      0.415879               128   0.01             128                                        |\n",
            "| train_mnist_f80bd_00014   PENDING      0.225188               128   0.01             256                                        |\n",
            "+---------------------------------------------------------------------------------------------------------------------------------+\n",
            "3 more TERMINATED, 12 more PENDING\n",
            "\n",
            "Trial train_mnist_f80bd_00009 finished iteration 1 at 2024-12-05 14:34:29. Total running time: 7min 34s\n",
            "+--------------------------------------------------+\n",
            "| Trial train_mnist_f80bd_00009 result             |\n",
            "+--------------------------------------------------+\n",
            "| checkpoint_dir_name                              |\n",
            "| time_this_iter_s                         83.3411 |\n",
            "| time_total_s                             83.3411 |\n",
            "| training_iteration                             1 |\n",
            "| mean_accuracy                            0.97895 |\n",
            "+--------------------------------------------------+\n",
            "\n",
            "Trial train_mnist_f80bd_00009 completed after 1 iterations at 2024-12-05 14:34:29. Total running time: 7min 34s\n"
          ]
        },
        {
          "name": "stderr",
          "output_type": "stream",
          "text": [
            "\u001b[36m(pid=12247)\u001b[0m 2024-12-05 14:34:31.498805: E external/local_xla/xla/stream_executor/cuda/cuda_fft.cc:485] Unable to register cuFFT factory: Attempting to register factory for plugin cuFFT when one has already been registered\n",
            "\u001b[36m(pid=12247)\u001b[0m 2024-12-05 14:34:31.520488: E external/local_xla/xla/stream_executor/cuda/cuda_dnn.cc:8454] Unable to register cuDNN factory: Attempting to register factory for plugin cuDNN when one has already been registered\n",
            "\u001b[36m(pid=12247)\u001b[0m 2024-12-05 14:34:31.527097: E external/local_xla/xla/stream_executor/cuda/cuda_blas.cc:1452] Unable to register cuBLAS factory: Attempting to register factory for plugin cuBLAS when one has already been registered\n",
            "\u001b[36m(pid=12247)\u001b[0m 2024-12-05 14:34:32.760514: W tensorflow/compiler/tf2tensorrt/utils/py_utils.cc:38] TF-TRT Warning: Could not find TensorRT\n"
          ]
        },
        {
          "name": "stdout",
          "output_type": "stream",
          "text": [
            "\n",
            "Trial train_mnist_f80bd_00010 started with configuration:\n",
            "+--------------------------------------------------+\n",
            "| Trial train_mnist_f80bd_00010 config             |\n",
            "+--------------------------------------------------+\n",
            "| batch_size                                   128 |\n",
            "| conv_filters                                  64 |\n",
            "| dropout                                  0.80598 |\n",
            "| lr                                          0.01 |\n",
            "+--------------------------------------------------+\n"
          ]
        },
        {
          "name": "stderr",
          "output_type": "stream",
          "text": [
            "\u001b[36m(train_mnist pid=12247)\u001b[0m 2024-12-05 14:34:34.671377: W tensorflow/core/common_runtime/gpu/gpu_bfc_allocator.cc:47] Overriding orig_value setting because the TF_FORCE_GPU_ALLOW_GROWTH environment variable is set. Original config value was 0.\n",
            "\u001b[36m(train_mnist pid=12247)\u001b[0m WARNING: All log messages before absl::InitializeLog() is called are written to STDERR\n",
            "\u001b[36m(train_mnist pid=12247)\u001b[0m I0000 00:00:1733409277.380921   12377 service.cc:146] XLA service 0x7856ac006640 initialized for platform CUDA (this does not guarantee that XLA will be used). Devices:\n",
            "\u001b[36m(train_mnist pid=12247)\u001b[0m I0000 00:00:1733409277.380969   12377 service.cc:154]   StreamExecutor device (0): NVIDIA L4, Compute Capability 8.9\n",
            "\u001b[36m(train_mnist pid=12247)\u001b[0m I0000 00:00:1733409286.552222   12377 device_compiler.h:188] Compiled cluster using XLA!  This line is logged at most once for the lifetime of the process.\n"
          ]
        },
        {
          "name": "stdout",
          "output_type": "stream",
          "text": [
            "\n",
            "Trial train_mnist_f80bd_00008 finished iteration 1 at 2024-12-05 14:34:47. Total running time: 7min 52s\n",
            "+--------------------------------------------------+\n",
            "| Trial train_mnist_f80bd_00008 result             |\n",
            "+--------------------------------------------------+\n",
            "| checkpoint_dir_name                              |\n",
            "| time_this_iter_s                         122.647 |\n",
            "| time_total_s                             122.647 |\n",
            "| training_iteration                             1 |\n",
            "| mean_accuracy                            0.59305 |\n",
            "+--------------------------------------------------+\n",
            "\n",
            "Trial train_mnist_f80bd_00008 completed after 1 iterations at 2024-12-05 14:34:47. Total running time: 7min 52s\n"
          ]
        },
        {
          "name": "stderr",
          "output_type": "stream",
          "text": [
            "\u001b[36m(pid=12613)\u001b[0m 2024-12-05 14:34:50.077588: E external/local_xla/xla/stream_executor/cuda/cuda_fft.cc:485] Unable to register cuFFT factory: Attempting to register factory for plugin cuFFT when one has already been registered\n",
            "\u001b[36m(pid=12613)\u001b[0m 2024-12-05 14:34:50.114662: E external/local_xla/xla/stream_executor/cuda/cuda_dnn.cc:8454] Unable to register cuDNN factory: Attempting to register factory for plugin cuDNN when one has already been registered\n",
            "\u001b[36m(pid=12613)\u001b[0m 2024-12-05 14:34:50.125623: E external/local_xla/xla/stream_executor/cuda/cuda_blas.cc:1452] Unable to register cuBLAS factory: Attempting to register factory for plugin cuBLAS when one has already been registered\n",
            "\u001b[36m(pid=12613)\u001b[0m 2024-12-05 14:34:51.809248: W tensorflow/compiler/tf2tensorrt/utils/py_utils.cc:38] TF-TRT Warning: Could not find TensorRT\n"
          ]
        },
        {
          "name": "stdout",
          "output_type": "stream",
          "text": [
            "\n",
            "Trial train_mnist_f80bd_00011 started with configuration:\n",
            "+--------------------------------------------------+\n",
            "| Trial train_mnist_f80bd_00011 config             |\n",
            "+--------------------------------------------------+\n",
            "| batch_size                                   256 |\n",
            "| conv_filters                                  64 |\n",
            "| dropout                                  0.83154 |\n",
            "| lr                                          0.01 |\n",
            "+--------------------------------------------------+\n"
          ]
        },
        {
          "name": "stderr",
          "output_type": "stream",
          "text": [
            "\u001b[36m(train_mnist pid=12613)\u001b[0m 2024-12-05 14:34:53.640790: W tensorflow/core/common_runtime/gpu/gpu_bfc_allocator.cc:47] Overriding orig_value setting because the TF_FORCE_GPU_ALLOW_GROWTH environment variable is set. Original config value was 0.\n"
          ]
        },
        {
          "name": "stdout",
          "output_type": "stream",
          "text": [
            "\n",
            "Trial status: 10 TERMINATED | 2 RUNNING | 15 PENDING\n",
            "Current time: 2024-12-05 14:34:55. Total running time: 8min 1s\n",
            "Logical resource usage: 2.0/12 CPUs, 1.0/1 GPUs (0.0/1.0 accelerator_type:L4)\n",
            "Current best trial: f80bd_00007 with mean_accuracy=0.9981333613395691 and params={'conv_filters': 256, 'lr': 0.001, 'dropout': 0.00844249100058081, 'batch_size': 128}\n",
            "+---------------------------------------------------------------------------------------------------------------------------------+\n",
            "| Trial name                status         dropout     conv_filters      lr     batch_size        acc     iter     total time (s) |\n",
            "+---------------------------------------------------------------------------------------------------------------------------------+\n",
            "| train_mnist_f80bd_00010   RUNNING      0.805977                64   0.01             128                                        |\n",
            "| train_mnist_f80bd_00011   RUNNING      0.831537                64   0.01             256                                        |\n",
            "| train_mnist_f80bd_00000   TERMINATED   0.0800099               64   0.001             64   0.997583        1            53.1455 |\n",
            "| train_mnist_f80bd_00001   TERMINATED   0.157755                64   0.001            128   0.997967        1            44.0186 |\n",
            "| train_mnist_f80bd_00002   TERMINATED   0.56265                 64   0.001            256   0.996533        1            40.4399 |\n",
            "| train_mnist_f80bd_00003   TERMINATED   0.0198027              128   0.001             64   0.997783        1            67.3642 |\n",
            "| train_mnist_f80bd_00004   TERMINATED   0.76506                128   0.001            128   0.98455         1            59.8803 |\n",
            "| train_mnist_f80bd_00012   PENDING      0.501939               128   0.01              64                                        |\n",
            "| train_mnist_f80bd_00013   PENDING      0.415879               128   0.01             128                                        |\n",
            "| train_mnist_f80bd_00014   PENDING      0.225188               128   0.01             256                                        |\n",
            "| train_mnist_f80bd_00015   PENDING      0.386098               256   0.01              64                                        |\n",
            "| train_mnist_f80bd_00016   PENDING      0.0778066              256   0.01             128                                        |\n",
            "+---------------------------------------------------------------------------------------------------------------------------------+\n",
            "5 more TERMINATED, 10 more PENDING\n"
          ]
        },
        {
          "name": "stderr",
          "output_type": "stream",
          "text": [
            "\u001b[36m(train_mnist pid=12613)\u001b[0m WARNING: All log messages before absl::InitializeLog() is called are written to STDERR\n",
            "\u001b[36m(train_mnist pid=12613)\u001b[0m I0000 00:00:1733409296.373924   12769 service.cc:146] XLA service 0x7c36b4004f00 initialized for platform CUDA (this does not guarantee that XLA will be used). Devices:\n",
            "\u001b[36m(train_mnist pid=12613)\u001b[0m I0000 00:00:1733409296.373975   12769 service.cc:154]   StreamExecutor device (0): NVIDIA L4, Compute Capability 8.9\n",
            "\u001b[36m(train_mnist pid=12613)\u001b[0m I0000 00:00:1733409304.586698   12769 device_compiler.h:188] Compiled cluster using XLA!  This line is logged at most once for the lifetime of the process.\n"
          ]
        },
        {
          "name": "stdout",
          "output_type": "stream",
          "text": [
            "\n",
            "Trial train_mnist_f80bd_00010 finished iteration 1 at 2024-12-05 14:35:17. Total running time: 8min 23s\n",
            "+--------------------------------------------------+\n",
            "| Trial train_mnist_f80bd_00010 result             |\n",
            "+--------------------------------------------------+\n",
            "| checkpoint_dir_name                              |\n",
            "| time_this_iter_s                         43.7985 |\n",
            "| time_total_s                             43.7985 |\n",
            "| training_iteration                             1 |\n",
            "| mean_accuracy                            0.11138 |\n",
            "+--------------------------------------------------+\n",
            "\n",
            "Trial train_mnist_f80bd_00010 completed after 1 iterations at 2024-12-05 14:35:17. Total running time: 8min 23s\n"
          ]
        },
        {
          "name": "stderr",
          "output_type": "stream",
          "text": [
            "\u001b[36m(pid=13660)\u001b[0m 2024-12-05 14:35:20.564620: E external/local_xla/xla/stream_executor/cuda/cuda_fft.cc:485] Unable to register cuFFT factory: Attempting to register factory for plugin cuFFT when one has already been registered\n",
            "\u001b[36m(pid=13660)\u001b[0m 2024-12-05 14:35:20.586941: E external/local_xla/xla/stream_executor/cuda/cuda_dnn.cc:8454] Unable to register cuDNN factory: Attempting to register factory for plugin cuDNN when one has already been registered\n",
            "\u001b[36m(pid=13660)\u001b[0m 2024-12-05 14:35:20.593595: E external/local_xla/xla/stream_executor/cuda/cuda_blas.cc:1452] Unable to register cuBLAS factory: Attempting to register factory for plugin cuBLAS when one has already been registered\n",
            "\u001b[36m(pid=13660)\u001b[0m 2024-12-05 14:35:21.818837: W tensorflow/compiler/tf2tensorrt/utils/py_utils.cc:38] TF-TRT Warning: Could not find TensorRT\n"
          ]
        },
        {
          "name": "stdout",
          "output_type": "stream",
          "text": [
            "\n",
            "Trial train_mnist_f80bd_00012 started with configuration:\n",
            "+--------------------------------------------------+\n",
            "| Trial train_mnist_f80bd_00012 config             |\n",
            "+--------------------------------------------------+\n",
            "| batch_size                                    64 |\n",
            "| conv_filters                                 128 |\n",
            "| dropout                                  0.50194 |\n",
            "| lr                                          0.01 |\n",
            "+--------------------------------------------------+\n"
          ]
        },
        {
          "name": "stderr",
          "output_type": "stream",
          "text": [
            "\u001b[36m(train_mnist pid=13660)\u001b[0m 2024-12-05 14:35:23.685657: W tensorflow/core/common_runtime/gpu/gpu_bfc_allocator.cc:47] Overriding orig_value setting because the TF_FORCE_GPU_ALLOW_GROWTH environment variable is set. Original config value was 0.\n"
          ]
        },
        {
          "name": "stdout",
          "output_type": "stream",
          "text": [
            "\n",
            "Trial status: 11 TERMINATED | 2 RUNNING | 14 PENDING\n",
            "Current time: 2024-12-05 14:35:25. Total running time: 8min 31s\n",
            "Logical resource usage: 2.0/12 CPUs, 1.0/1 GPUs (0.0/1.0 accelerator_type:L4)\n",
            "Current best trial: f80bd_00007 with mean_accuracy=0.9981333613395691 and params={'conv_filters': 256, 'lr': 0.001, 'dropout': 0.00844249100058081, 'batch_size': 128}\n",
            "+---------------------------------------------------------------------------------------------------------------------------------+\n",
            "| Trial name                status         dropout     conv_filters      lr     batch_size        acc     iter     total time (s) |\n",
            "+---------------------------------------------------------------------------------------------------------------------------------+\n",
            "| train_mnist_f80bd_00011   RUNNING      0.831537                64   0.01             256                                        |\n",
            "| train_mnist_f80bd_00012   RUNNING      0.501939               128   0.01              64                                        |\n",
            "| train_mnist_f80bd_00000   TERMINATED   0.0800099               64   0.001             64   0.997583        1            53.1455 |\n",
            "| train_mnist_f80bd_00001   TERMINATED   0.157755                64   0.001            128   0.997967        1            44.0186 |\n",
            "| train_mnist_f80bd_00002   TERMINATED   0.56265                 64   0.001            256   0.996533        1            40.4399 |\n",
            "| train_mnist_f80bd_00003   TERMINATED   0.0198027              128   0.001             64   0.997783        1            67.3642 |\n",
            "| train_mnist_f80bd_00004   TERMINATED   0.76506                128   0.001            128   0.98455         1            59.8803 |\n",
            "| train_mnist_f80bd_00013   PENDING      0.415879               128   0.01             128                                        |\n",
            "| train_mnist_f80bd_00014   PENDING      0.225188               128   0.01             256                                        |\n",
            "| train_mnist_f80bd_00015   PENDING      0.386098               256   0.01              64                                        |\n",
            "| train_mnist_f80bd_00016   PENDING      0.0778066              256   0.01             128                                        |\n",
            "| train_mnist_f80bd_00017   PENDING      0.363803               256   0.01             256                                        |\n",
            "+---------------------------------------------------------------------------------------------------------------------------------+\n",
            "6 more TERMINATED, 9 more PENDING\n"
          ]
        },
        {
          "name": "stderr",
          "output_type": "stream",
          "text": [
            "\u001b[36m(train_mnist pid=13660)\u001b[0m WARNING: All log messages before absl::InitializeLog() is called are written to STDERR\n",
            "\u001b[36m(train_mnist pid=13660)\u001b[0m I0000 00:00:1733409326.496626   13883 service.cc:146] XLA service 0x7926d4006030 initialized for platform CUDA (this does not guarantee that XLA will be used). Devices:\n",
            "\u001b[36m(train_mnist pid=13660)\u001b[0m I0000 00:00:1733409326.496678   13883 service.cc:154]   StreamExecutor device (0): NVIDIA L4, Compute Capability 8.9\n"
          ]
        },
        {
          "name": "stdout",
          "output_type": "stream",
          "text": [
            "\n",
            "Trial train_mnist_f80bd_00011 finished iteration 1 at 2024-12-05 14:35:29. Total running time: 8min 34s\n",
            "+--------------------------------------------------+\n",
            "| Trial train_mnist_f80bd_00011 result             |\n",
            "+--------------------------------------------------+\n",
            "| checkpoint_dir_name                              |\n",
            "| time_this_iter_s                         36.4322 |\n",
            "| time_total_s                             36.4322 |\n",
            "| training_iteration                             1 |\n",
            "| mean_accuracy                            0.92167 |\n",
            "+--------------------------------------------------+\n",
            "\n",
            "Trial train_mnist_f80bd_00011 completed after 1 iterations at 2024-12-05 14:35:29. Total running time: 8min 34s\n"
          ]
        },
        {
          "name": "stderr",
          "output_type": "stream",
          "text": [
            "\u001b[36m(pid=14175)\u001b[0m 2024-12-05 14:35:31.548467: E external/local_xla/xla/stream_executor/cuda/cuda_fft.cc:485] Unable to register cuFFT factory: Attempting to register factory for plugin cuFFT when one has already been registered\n",
            "\u001b[36m(pid=14175)\u001b[0m 2024-12-05 14:35:31.570294: E external/local_xla/xla/stream_executor/cuda/cuda_dnn.cc:8454] Unable to register cuDNN factory: Attempting to register factory for plugin cuDNN when one has already been registered\n",
            "\u001b[36m(pid=14175)\u001b[0m 2024-12-05 14:35:31.577022: E external/local_xla/xla/stream_executor/cuda/cuda_blas.cc:1452] Unable to register cuBLAS factory: Attempting to register factory for plugin cuBLAS when one has already been registered\n",
            "\u001b[36m(train_mnist pid=13660)\u001b[0m I0000 00:00:1733409332.106029   13883 device_compiler.h:188] Compiled cluster using XLA!  This line is logged at most once for the lifetime of the process.\n",
            "\u001b[36m(pid=14175)\u001b[0m 2024-12-05 14:35:32.794772: W tensorflow/compiler/tf2tensorrt/utils/py_utils.cc:38] TF-TRT Warning: Could not find TensorRT\n"
          ]
        },
        {
          "name": "stdout",
          "output_type": "stream",
          "text": [
            "\n",
            "Trial train_mnist_f80bd_00013 started with configuration:\n",
            "+--------------------------------------------------+\n",
            "| Trial train_mnist_f80bd_00013 config             |\n",
            "+--------------------------------------------------+\n",
            "| batch_size                                   128 |\n",
            "| conv_filters                                 128 |\n",
            "| dropout                                  0.41588 |\n",
            "| lr                                          0.01 |\n",
            "+--------------------------------------------------+\n"
          ]
        },
        {
          "name": "stderr",
          "output_type": "stream",
          "text": [
            "\u001b[36m(train_mnist pid=14175)\u001b[0m 2024-12-05 14:35:34.691711: W tensorflow/core/common_runtime/gpu/gpu_bfc_allocator.cc:47] Overriding orig_value setting because the TF_FORCE_GPU_ALLOW_GROWTH environment variable is set. Original config value was 0.\n",
            "\u001b[36m(train_mnist pid=14175)\u001b[0m WARNING: All log messages before absl::InitializeLog() is called are written to STDERR\n",
            "\u001b[36m(train_mnist pid=14175)\u001b[0m I0000 00:00:1733409337.774772   14272 service.cc:146] XLA service 0x7b0368005eb0 initialized for platform CUDA (this does not guarantee that XLA will be used). Devices:\n",
            "\u001b[36m(train_mnist pid=14175)\u001b[0m I0000 00:00:1733409337.774845   14272 service.cc:154]   StreamExecutor device (0): NVIDIA L4, Compute Capability 8.9\n",
            "\u001b[36m(train_mnist pid=14175)\u001b[0m I0000 00:00:1733409345.306314   14272 device_compiler.h:188] Compiled cluster using XLA!  This line is logged at most once for the lifetime of the process.\n"
          ]
        },
        {
          "name": "stdout",
          "output_type": "stream",
          "text": [
            "\n",
            "Trial status: 12 TERMINATED | 2 RUNNING | 13 PENDING\n",
            "Current time: 2024-12-05 14:35:56. Total running time: 9min 1s\n",
            "Logical resource usage: 2.0/12 CPUs, 1.0/1 GPUs (0.0/1.0 accelerator_type:L4)\n",
            "Current best trial: f80bd_00007 with mean_accuracy=0.9981333613395691 and params={'conv_filters': 256, 'lr': 0.001, 'dropout': 0.00844249100058081, 'batch_size': 128}\n",
            "+---------------------------------------------------------------------------------------------------------------------------------+\n",
            "| Trial name                status         dropout     conv_filters      lr     batch_size        acc     iter     total time (s) |\n",
            "+---------------------------------------------------------------------------------------------------------------------------------+\n",
            "| train_mnist_f80bd_00012   RUNNING      0.501939               128   0.01              64                                        |\n",
            "| train_mnist_f80bd_00013   RUNNING      0.415879               128   0.01             128                                        |\n",
            "| train_mnist_f80bd_00000   TERMINATED   0.0800099               64   0.001             64   0.997583        1            53.1455 |\n",
            "| train_mnist_f80bd_00001   TERMINATED   0.157755                64   0.001            128   0.997967        1            44.0186 |\n",
            "| train_mnist_f80bd_00002   TERMINATED   0.56265                 64   0.001            256   0.996533        1            40.4399 |\n",
            "| train_mnist_f80bd_00003   TERMINATED   0.0198027              128   0.001             64   0.997783        1            67.3642 |\n",
            "| train_mnist_f80bd_00004   TERMINATED   0.76506                128   0.001            128   0.98455         1            59.8803 |\n",
            "| train_mnist_f80bd_00014   PENDING      0.225188               128   0.01             256                                        |\n",
            "| train_mnist_f80bd_00015   PENDING      0.386098               256   0.01              64                                        |\n",
            "| train_mnist_f80bd_00016   PENDING      0.0778066              256   0.01             128                                        |\n",
            "| train_mnist_f80bd_00017   PENDING      0.363803               256   0.01             256                                        |\n",
            "| train_mnist_f80bd_00018   PENDING      0.398897                64   0.1               64                                        |\n",
            "+---------------------------------------------------------------------------------------------------------------------------------+\n",
            "7 more TERMINATED, 8 more PENDING\n",
            "Trial status: 12 TERMINATED | 2 RUNNING | 13 PENDING\n",
            "Current time: 2024-12-05 14:36:26. Total running time: 9min 31s\n",
            "Logical resource usage: 2.0/12 CPUs, 1.0/1 GPUs (0.0/1.0 accelerator_type:L4)\n",
            "Current best trial: f80bd_00007 with mean_accuracy=0.9981333613395691 and params={'conv_filters': 256, 'lr': 0.001, 'dropout': 0.00844249100058081, 'batch_size': 128}\n",
            "+---------------------------------------------------------------------------------------------------------------------------------+\n",
            "| Trial name                status         dropout     conv_filters      lr     batch_size        acc     iter     total time (s) |\n",
            "+---------------------------------------------------------------------------------------------------------------------------------+\n",
            "| train_mnist_f80bd_00012   RUNNING      0.501939               128   0.01              64                                        |\n",
            "| train_mnist_f80bd_00013   RUNNING      0.415879               128   0.01             128                                        |\n",
            "| train_mnist_f80bd_00000   TERMINATED   0.0800099               64   0.001             64   0.997583        1            53.1455 |\n",
            "| train_mnist_f80bd_00001   TERMINATED   0.157755                64   0.001            128   0.997967        1            44.0186 |\n",
            "| train_mnist_f80bd_00002   TERMINATED   0.56265                 64   0.001            256   0.996533        1            40.4399 |\n",
            "| train_mnist_f80bd_00003   TERMINATED   0.0198027              128   0.001             64   0.997783        1            67.3642 |\n",
            "| train_mnist_f80bd_00004   TERMINATED   0.76506                128   0.001            128   0.98455         1            59.8803 |\n",
            "| train_mnist_f80bd_00014   PENDING      0.225188               128   0.01             256                                        |\n",
            "| train_mnist_f80bd_00015   PENDING      0.386098               256   0.01              64                                        |\n",
            "| train_mnist_f80bd_00016   PENDING      0.0778066              256   0.01             128                                        |\n",
            "| train_mnist_f80bd_00017   PENDING      0.363803               256   0.01             256                                        |\n",
            "| train_mnist_f80bd_00018   PENDING      0.398897                64   0.1               64                                        |\n",
            "+---------------------------------------------------------------------------------------------------------------------------------+\n",
            "7 more TERMINATED, 8 more PENDING\n",
            "\n",
            "Trial train_mnist_f80bd_00013 finished iteration 1 at 2024-12-05 14:36:34. Total running time: 9min 40s\n",
            "+--------------------------------------------------+\n",
            "| Trial train_mnist_f80bd_00013 result             |\n",
            "+--------------------------------------------------+\n",
            "| checkpoint_dir_name                              |\n",
            "| time_this_iter_s                         60.7309 |\n",
            "| time_total_s                             60.7309 |\n",
            "| training_iteration                             1 |\n",
            "| mean_accuracy                            0.98585 |\n",
            "+--------------------------------------------------+\n",
            "\n",
            "Trial train_mnist_f80bd_00013 completed after 1 iterations at 2024-12-05 14:36:34. Total running time: 9min 40s\n"
          ]
        },
        {
          "name": "stderr",
          "output_type": "stream",
          "text": [
            "\u001b[36m(pid=15612)\u001b[0m 2024-12-05 14:36:37.588301: E external/local_xla/xla/stream_executor/cuda/cuda_fft.cc:485] Unable to register cuFFT factory: Attempting to register factory for plugin cuFFT when one has already been registered\n",
            "\u001b[36m(pid=15612)\u001b[0m 2024-12-05 14:36:37.611873: E external/local_xla/xla/stream_executor/cuda/cuda_dnn.cc:8454] Unable to register cuDNN factory: Attempting to register factory for plugin cuDNN when one has already been registered\n",
            "\u001b[36m(pid=15612)\u001b[0m 2024-12-05 14:36:37.618298: E external/local_xla/xla/stream_executor/cuda/cuda_blas.cc:1452] Unable to register cuBLAS factory: Attempting to register factory for plugin cuBLAS when one has already been registered\n"
          ]
        },
        {
          "name": "stdout",
          "output_type": "stream",
          "text": [
            "\n",
            "Trial train_mnist_f80bd_00012 finished iteration 1 at 2024-12-05 14:36:37. Total running time: 9min 42s\n",
            "+--------------------------------------------------+\n",
            "| Trial train_mnist_f80bd_00012 result             |\n",
            "+--------------------------------------------------+\n",
            "| checkpoint_dir_name                              |\n",
            "| time_this_iter_s                         74.5761 |\n",
            "| time_total_s                             74.5761 |\n",
            "| training_iteration                             1 |\n",
            "| mean_accuracy                            0.97082 |\n",
            "+--------------------------------------------------+\n",
            "\n",
            "Trial train_mnist_f80bd_00012 completed after 1 iterations at 2024-12-05 14:36:37. Total running time: 9min 42s\n"
          ]
        },
        {
          "name": "stderr",
          "output_type": "stream",
          "text": [
            "\u001b[36m(pid=15612)\u001b[0m 2024-12-05 14:36:38.805727: W tensorflow/compiler/tf2tensorrt/utils/py_utils.cc:38] TF-TRT Warning: Could not find TensorRT\n"
          ]
        },
        {
          "name": "stdout",
          "output_type": "stream",
          "text": [
            "\n",
            "Trial train_mnist_f80bd_00014 started with configuration:\n",
            "+--------------------------------------------------+\n",
            "| Trial train_mnist_f80bd_00014 config             |\n",
            "+--------------------------------------------------+\n",
            "| batch_size                                   256 |\n",
            "| conv_filters                                 128 |\n",
            "| dropout                                  0.22519 |\n",
            "| lr                                          0.01 |\n",
            "+--------------------------------------------------+\n"
          ]
        },
        {
          "name": "stderr",
          "output_type": "stream",
          "text": [
            "\u001b[36m(train_mnist pid=15612)\u001b[0m 2024-12-05 14:36:40.613716: W tensorflow/core/common_runtime/gpu/gpu_bfc_allocator.cc:47] Overriding orig_value setting because the TF_FORCE_GPU_ALLOW_GROWTH environment variable is set. Original config value was 0.\n"
          ]
        },
        {
          "name": "stdout",
          "output_type": "stream",
          "text": [
            "\n",
            "Trial train_mnist_f80bd_00015 started with configuration:\n",
            "+-------------------------------------------------+\n",
            "| Trial train_mnist_f80bd_00015 config            |\n",
            "+-------------------------------------------------+\n",
            "| batch_size                                   64 |\n",
            "| conv_filters                                256 |\n",
            "| dropout                                  0.3861 |\n",
            "| lr                                         0.01 |\n",
            "+-------------------------------------------------+\n"
          ]
        },
        {
          "name": "stderr",
          "output_type": "stream",
          "text": [
            "\u001b[36m(pid=15682)\u001b[0m 2024-12-05 14:36:39.525228: E external/local_xla/xla/stream_executor/cuda/cuda_fft.cc:485] Unable to register cuFFT factory: Attempting to register factory for plugin cuFFT when one has already been registered\n",
            "\u001b[36m(train_mnist pid=15612)\u001b[0m WARNING: All log messages before absl::InitializeLog() is called are written to STDERR\n",
            "\u001b[36m(train_mnist pid=15612)\u001b[0m I0000 00:00:1733409403.235173   15772 service.cc:146] XLA service 0x7e10b4003fe0 initialized for platform CUDA (this does not guarantee that XLA will be used). Devices:\n",
            "\u001b[36m(train_mnist pid=15612)\u001b[0m I0000 00:00:1733409403.235215   15772 service.cc:154]   StreamExecutor device (0): NVIDIA L4, Compute Capability 8.9\n",
            "\u001b[36m(pid=15682)\u001b[0m 2024-12-05 14:36:39.546993: E external/local_xla/xla/stream_executor/cuda/cuda_dnn.cc:8454] Unable to register cuDNN factory: Attempting to register factory for plugin cuDNN when one has already been registered\n",
            "\u001b[36m(pid=15682)\u001b[0m 2024-12-05 14:36:39.553489: E external/local_xla/xla/stream_executor/cuda/cuda_blas.cc:1452] Unable to register cuBLAS factory: Attempting to register factory for plugin cuBLAS when one has already been registered\n",
            "\u001b[36m(pid=15682)\u001b[0m 2024-12-05 14:36:40.757582: W tensorflow/compiler/tf2tensorrt/utils/py_utils.cc:38] TF-TRT Warning: Could not find TensorRT\n",
            "\u001b[36m(train_mnist pid=15682)\u001b[0m 2024-12-05 14:36:42.596946: W tensorflow/core/common_runtime/gpu/gpu_bfc_allocator.cc:47] Overriding orig_value setting because the TF_FORCE_GPU_ALLOW_GROWTH environment variable is set. Original config value was 0.\n",
            "\u001b[36m(train_mnist pid=15612)\u001b[0m I0000 00:00:1733409411.229711   15772 device_compiler.h:188] Compiled cluster using XLA!  This line is logged at most once for the lifetime of the process.\n",
            "\u001b[36m(train_mnist pid=15682)\u001b[0m WARNING: All log messages before absl::InitializeLog() is called are written to STDERR\n",
            "\u001b[36m(train_mnist pid=15682)\u001b[0m I0000 00:00:1733409406.354903   15856 service.cc:146] XLA service 0x7a1da0003ae0 initialized for platform CUDA (this does not guarantee that XLA will be used). Devices:\n",
            "\u001b[36m(train_mnist pid=15682)\u001b[0m I0000 00:00:1733409406.354966   15856 service.cc:154]   StreamExecutor device (0): NVIDIA L4, Compute Capability 8.9\n"
          ]
        },
        {
          "name": "stdout",
          "output_type": "stream",
          "text": [
            "\n",
            "Trial status: 14 TERMINATED | 2 RUNNING | 11 PENDING\n",
            "Current time: 2024-12-05 14:36:56. Total running time: 10min 1s\n",
            "Logical resource usage: 2.0/12 CPUs, 1.0/1 GPUs (0.0/1.0 accelerator_type:L4)\n",
            "Current best trial: f80bd_00007 with mean_accuracy=0.9981333613395691 and params={'conv_filters': 256, 'lr': 0.001, 'dropout': 0.00844249100058081, 'batch_size': 128}\n",
            "+---------------------------------------------------------------------------------------------------------------------------------+\n",
            "| Trial name                status         dropout     conv_filters      lr     batch_size        acc     iter     total time (s) |\n",
            "+---------------------------------------------------------------------------------------------------------------------------------+\n",
            "| train_mnist_f80bd_00014   RUNNING      0.225188               128   0.01             256                                        |\n",
            "| train_mnist_f80bd_00015   RUNNING      0.386098               256   0.01              64                                        |\n",
            "| train_mnist_f80bd_00000   TERMINATED   0.0800099               64   0.001             64   0.997583        1            53.1455 |\n",
            "| train_mnist_f80bd_00001   TERMINATED   0.157755                64   0.001            128   0.997967        1            44.0186 |\n",
            "| train_mnist_f80bd_00002   TERMINATED   0.56265                 64   0.001            256   0.996533        1            40.4399 |\n",
            "| train_mnist_f80bd_00003   TERMINATED   0.0198027              128   0.001             64   0.997783        1            67.3642 |\n",
            "| train_mnist_f80bd_00004   TERMINATED   0.76506                128   0.001            128   0.98455         1            59.8803 |\n",
            "| train_mnist_f80bd_00016   PENDING      0.0778066              256   0.01             128                                        |\n",
            "| train_mnist_f80bd_00017   PENDING      0.363803               256   0.01             256                                        |\n",
            "| train_mnist_f80bd_00018   PENDING      0.398897                64   0.1               64                                        |\n",
            "| train_mnist_f80bd_00019   PENDING      0.123644                64   0.1              128                                        |\n",
            "| train_mnist_f80bd_00020   PENDING      0.427534                64   0.1              256                                        |\n",
            "+---------------------------------------------------------------------------------------------------------------------------------+\n",
            "9 more TERMINATED, 6 more PENDING\n",
            "Trial status: 14 TERMINATED | 2 RUNNING | 11 PENDING\n",
            "Current time: 2024-12-05 14:37:26. Total running time: 10min 31s\n",
            "Logical resource usage: 2.0/12 CPUs, 1.0/1 GPUs (0.0/1.0 accelerator_type:L4)\n",
            "Current best trial: f80bd_00007 with mean_accuracy=0.9981333613395691 and params={'conv_filters': 256, 'lr': 0.001, 'dropout': 0.00844249100058081, 'batch_size': 128}\n",
            "+---------------------------------------------------------------------------------------------------------------------------------+\n",
            "| Trial name                status         dropout     conv_filters      lr     batch_size        acc     iter     total time (s) |\n",
            "+---------------------------------------------------------------------------------------------------------------------------------+\n",
            "| train_mnist_f80bd_00014   RUNNING      0.225188               128   0.01             256                                        |\n",
            "| train_mnist_f80bd_00015   RUNNING      0.386098               256   0.01              64                                        |\n",
            "| train_mnist_f80bd_00000   TERMINATED   0.0800099               64   0.001             64   0.997583        1            53.1455 |\n",
            "| train_mnist_f80bd_00001   TERMINATED   0.157755                64   0.001            128   0.997967        1            44.0186 |\n",
            "| train_mnist_f80bd_00002   TERMINATED   0.56265                 64   0.001            256   0.996533        1            40.4399 |\n",
            "| train_mnist_f80bd_00003   TERMINATED   0.0198027              128   0.001             64   0.997783        1            67.3642 |\n",
            "| train_mnist_f80bd_00004   TERMINATED   0.76506                128   0.001            128   0.98455         1            59.8803 |\n",
            "| train_mnist_f80bd_00016   PENDING      0.0778066              256   0.01             128                                        |\n",
            "| train_mnist_f80bd_00017   PENDING      0.363803               256   0.01             256                                        |\n",
            "| train_mnist_f80bd_00018   PENDING      0.398897                64   0.1               64                                        |\n",
            "| train_mnist_f80bd_00019   PENDING      0.123644                64   0.1              128                                        |\n",
            "| train_mnist_f80bd_00020   PENDING      0.427534                64   0.1              256                                        |\n",
            "+---------------------------------------------------------------------------------------------------------------------------------+\n",
            "9 more TERMINATED, 6 more PENDING\n",
            "Trial status: 14 TERMINATED | 2 RUNNING | 11 PENDING\n",
            "Current time: 2024-12-05 14:37:56. Total running time: 11min 1s\n",
            "Logical resource usage: 2.0/12 CPUs, 1.0/1 GPUs (0.0/1.0 accelerator_type:L4)\n",
            "Current best trial: f80bd_00007 with mean_accuracy=0.9981333613395691 and params={'conv_filters': 256, 'lr': 0.001, 'dropout': 0.00844249100058081, 'batch_size': 128}\n",
            "+---------------------------------------------------------------------------------------------------------------------------------+\n",
            "| Trial name                status         dropout     conv_filters      lr     batch_size        acc     iter     total time (s) |\n",
            "+---------------------------------------------------------------------------------------------------------------------------------+\n",
            "| train_mnist_f80bd_00014   RUNNING      0.225188               128   0.01             256                                        |\n",
            "| train_mnist_f80bd_00015   RUNNING      0.386098               256   0.01              64                                        |\n",
            "| train_mnist_f80bd_00000   TERMINATED   0.0800099               64   0.001             64   0.997583        1            53.1455 |\n",
            "| train_mnist_f80bd_00001   TERMINATED   0.157755                64   0.001            128   0.997967        1            44.0186 |\n",
            "| train_mnist_f80bd_00002   TERMINATED   0.56265                 64   0.001            256   0.996533        1            40.4399 |\n",
            "| train_mnist_f80bd_00003   TERMINATED   0.0198027              128   0.001             64   0.997783        1            67.3642 |\n",
            "| train_mnist_f80bd_00004   TERMINATED   0.76506                128   0.001            128   0.98455         1            59.8803 |\n",
            "| train_mnist_f80bd_00016   PENDING      0.0778066              256   0.01             128                                        |\n",
            "| train_mnist_f80bd_00017   PENDING      0.363803               256   0.01             256                                        |\n",
            "| train_mnist_f80bd_00018   PENDING      0.398897                64   0.1               64                                        |\n",
            "| train_mnist_f80bd_00019   PENDING      0.123644                64   0.1              128                                        |\n",
            "| train_mnist_f80bd_00020   PENDING      0.427534                64   0.1              256                                        |\n",
            "+---------------------------------------------------------------------------------------------------------------------------------+\n",
            "9 more TERMINATED, 6 more PENDING\n",
            "\n",
            "Trial train_mnist_f80bd_00014 finished iteration 1 at 2024-12-05 14:37:56. Total running time: 11min 1s\n",
            "+--------------------------------------------------+\n",
            "| Trial train_mnist_f80bd_00014 result             |\n",
            "+--------------------------------------------------+\n",
            "| checkpoint_dir_name                              |\n",
            "| time_this_iter_s                         76.3839 |\n",
            "| time_total_s                             76.3839 |\n",
            "| training_iteration                             1 |\n",
            "| mean_accuracy                            0.99128 |\n",
            "+--------------------------------------------------+\n",
            "\n",
            "Trial train_mnist_f80bd_00014 completed after 1 iterations at 2024-12-05 14:37:56. Total running time: 11min 1s\n"
          ]
        },
        {
          "name": "stderr",
          "output_type": "stream",
          "text": [
            "\u001b[36m(pid=17115)\u001b[0m 2024-12-05 14:37:58.546170: E external/local_xla/xla/stream_executor/cuda/cuda_fft.cc:485] Unable to register cuFFT factory: Attempting to register factory for plugin cuFFT when one has already been registered\n",
            "\u001b[36m(pid=17115)\u001b[0m 2024-12-05 14:37:58.569302: E external/local_xla/xla/stream_executor/cuda/cuda_dnn.cc:8454] Unable to register cuDNN factory: Attempting to register factory for plugin cuDNN when one has already been registered\n",
            "\u001b[36m(pid=17115)\u001b[0m 2024-12-05 14:37:58.575894: E external/local_xla/xla/stream_executor/cuda/cuda_blas.cc:1452] Unable to register cuBLAS factory: Attempting to register factory for plugin cuBLAS when one has already been registered\n",
            "\u001b[36m(train_mnist pid=15682)\u001b[0m I0000 00:00:1733409412.801420   15856 device_compiler.h:188] Compiled cluster using XLA!  This line is logged at most once for the lifetime of the process.\n",
            "\u001b[36m(pid=17115)\u001b[0m 2024-12-05 14:37:59.775439: W tensorflow/compiler/tf2tensorrt/utils/py_utils.cc:38] TF-TRT Warning: Could not find TensorRT\n"
          ]
        },
        {
          "name": "stdout",
          "output_type": "stream",
          "text": [
            "\n",
            "Trial train_mnist_f80bd_00016 started with configuration:\n",
            "+--------------------------------------------------+\n",
            "| Trial train_mnist_f80bd_00016 config             |\n",
            "+--------------------------------------------------+\n",
            "| batch_size                                   128 |\n",
            "| conv_filters                                 256 |\n",
            "| dropout                                  0.07781 |\n",
            "| lr                                          0.01 |\n",
            "+--------------------------------------------------+\n"
          ]
        },
        {
          "name": "stderr",
          "output_type": "stream",
          "text": [
            "\u001b[36m(train_mnist pid=17115)\u001b[0m 2024-12-05 14:38:01.616102: W tensorflow/core/common_runtime/gpu/gpu_bfc_allocator.cc:47] Overriding orig_value setting because the TF_FORCE_GPU_ALLOW_GROWTH environment variable is set. Original config value was 0.\n",
            "\u001b[36m(train_mnist pid=17115)\u001b[0m WARNING: All log messages before absl::InitializeLog() is called are written to STDERR\n",
            "\u001b[36m(train_mnist pid=17115)\u001b[0m I0000 00:00:1733409484.355862   17247 service.cc:146] XLA service 0x7b084c004a30 initialized for platform CUDA (this does not guarantee that XLA will be used). Devices:\n",
            "\u001b[36m(train_mnist pid=17115)\u001b[0m I0000 00:00:1733409484.355914   17247 service.cc:154]   StreamExecutor device (0): NVIDIA L4, Compute Capability 8.9\n",
            "\u001b[36m(train_mnist pid=17115)\u001b[0m I0000 00:00:1733409495.804854   17247 device_compiler.h:188] Compiled cluster using XLA!  This line is logged at most once for the lifetime of the process.\n"
          ]
        },
        {
          "name": "stdout",
          "output_type": "stream",
          "text": [
            "\n",
            "Trial status: 15 TERMINATED | 2 RUNNING | 10 PENDING\n",
            "Current time: 2024-12-05 14:38:26. Total running time: 11min 31s\n",
            "Logical resource usage: 2.0/12 CPUs, 1.0/1 GPUs (0.0/1.0 accelerator_type:L4)\n",
            "Current best trial: f80bd_00007 with mean_accuracy=0.9981333613395691 and params={'conv_filters': 256, 'lr': 0.001, 'dropout': 0.00844249100058081, 'batch_size': 128}\n",
            "+---------------------------------------------------------------------------------------------------------------------------------+\n",
            "| Trial name                status         dropout     conv_filters      lr     batch_size        acc     iter     total time (s) |\n",
            "+---------------------------------------------------------------------------------------------------------------------------------+\n",
            "| train_mnist_f80bd_00015   RUNNING      0.386098               256   0.01              64                                        |\n",
            "| train_mnist_f80bd_00016   RUNNING      0.0778066              256   0.01             128                                        |\n",
            "| train_mnist_f80bd_00000   TERMINATED   0.0800099               64   0.001             64   0.997583        1            53.1455 |\n",
            "| train_mnist_f80bd_00001   TERMINATED   0.157755                64   0.001            128   0.997967        1            44.0186 |\n",
            "| train_mnist_f80bd_00002   TERMINATED   0.56265                 64   0.001            256   0.996533        1            40.4399 |\n",
            "| train_mnist_f80bd_00003   TERMINATED   0.0198027              128   0.001             64   0.997783        1            67.3642 |\n",
            "| train_mnist_f80bd_00004   TERMINATED   0.76506                128   0.001            128   0.98455         1            59.8803 |\n",
            "| train_mnist_f80bd_00017   PENDING      0.363803               256   0.01             256                                        |\n",
            "| train_mnist_f80bd_00018   PENDING      0.398897                64   0.1               64                                        |\n",
            "| train_mnist_f80bd_00019   PENDING      0.123644                64   0.1              128                                        |\n",
            "| train_mnist_f80bd_00020   PENDING      0.427534                64   0.1              256                                        |\n",
            "| train_mnist_f80bd_00021   PENDING      0.350408               128   0.1               64                                        |\n",
            "+---------------------------------------------------------------------------------------------------------------------------------+\n",
            "10 more TERMINATED, 5 more PENDING\n",
            "Trial status: 15 TERMINATED | 2 RUNNING | 10 PENDING\n",
            "Current time: 2024-12-05 14:38:56. Total running time: 12min 1s\n",
            "Logical resource usage: 2.0/12 CPUs, 1.0/1 GPUs (0.0/1.0 accelerator_type:L4)\n",
            "Current best trial: f80bd_00007 with mean_accuracy=0.9981333613395691 and params={'conv_filters': 256, 'lr': 0.001, 'dropout': 0.00844249100058081, 'batch_size': 128}\n",
            "+---------------------------------------------------------------------------------------------------------------------------------+\n",
            "| Trial name                status         dropout     conv_filters      lr     batch_size        acc     iter     total time (s) |\n",
            "+---------------------------------------------------------------------------------------------------------------------------------+\n",
            "| train_mnist_f80bd_00015   RUNNING      0.386098               256   0.01              64                                        |\n",
            "| train_mnist_f80bd_00016   RUNNING      0.0778066              256   0.01             128                                        |\n",
            "| train_mnist_f80bd_00000   TERMINATED   0.0800099               64   0.001             64   0.997583        1            53.1455 |\n",
            "| train_mnist_f80bd_00001   TERMINATED   0.157755                64   0.001            128   0.997967        1            44.0186 |\n",
            "| train_mnist_f80bd_00002   TERMINATED   0.56265                 64   0.001            256   0.996533        1            40.4399 |\n",
            "| train_mnist_f80bd_00003   TERMINATED   0.0198027              128   0.001             64   0.997783        1            67.3642 |\n",
            "| train_mnist_f80bd_00004   TERMINATED   0.76506                128   0.001            128   0.98455         1            59.8803 |\n",
            "| train_mnist_f80bd_00017   PENDING      0.363803               256   0.01             256                                        |\n",
            "| train_mnist_f80bd_00018   PENDING      0.398897                64   0.1               64                                        |\n",
            "| train_mnist_f80bd_00019   PENDING      0.123644                64   0.1              128                                        |\n",
            "| train_mnist_f80bd_00020   PENDING      0.427534                64   0.1              256                                        |\n",
            "| train_mnist_f80bd_00021   PENDING      0.350408               128   0.1               64                                        |\n",
            "+---------------------------------------------------------------------------------------------------------------------------------+\n",
            "10 more TERMINATED, 5 more PENDING\n",
            "\n",
            "Trial train_mnist_f80bd_00015 finished iteration 1 at 2024-12-05 14:39:23. Total running time: 12min 28s\n",
            "+--------------------------------------------------+\n",
            "| Trial train_mnist_f80bd_00015 result             |\n",
            "+--------------------------------------------------+\n",
            "| checkpoint_dir_name                              |\n",
            "| time_this_iter_s                         161.142 |\n",
            "| time_total_s                             161.142 |\n",
            "| training_iteration                             1 |\n",
            "| mean_accuracy                             0.9772 |\n",
            "+--------------------------------------------------+\n",
            "\n",
            "Trial train_mnist_f80bd_00015 completed after 1 iterations at 2024-12-05 14:39:23. Total running time: 12min 28s\n"
          ]
        },
        {
          "name": "stderr",
          "output_type": "stream",
          "text": [
            "\u001b[36m(pid=18195)\u001b[0m 2024-12-05 14:39:25.553213: E external/local_xla/xla/stream_executor/cuda/cuda_fft.cc:485] Unable to register cuFFT factory: Attempting to register factory for plugin cuFFT when one has already been registered\n",
            "\u001b[36m(pid=18195)\u001b[0m 2024-12-05 14:39:25.575285: E external/local_xla/xla/stream_executor/cuda/cuda_dnn.cc:8454] Unable to register cuDNN factory: Attempting to register factory for plugin cuDNN when one has already been registered\n",
            "\u001b[36m(pid=18195)\u001b[0m 2024-12-05 14:39:25.582014: E external/local_xla/xla/stream_executor/cuda/cuda_blas.cc:1452] Unable to register cuBLAS factory: Attempting to register factory for plugin cuBLAS when one has already been registered\n"
          ]
        },
        {
          "name": "stdout",
          "output_type": "stream",
          "text": [
            "\n",
            "Trial status: 16 TERMINATED | 1 RUNNING | 10 PENDING\n",
            "Current time: 2024-12-05 14:39:26. Total running time: 12min 31s\n",
            "Logical resource usage: 2.0/12 CPUs, 1.0/1 GPUs (0.0/1.0 accelerator_type:L4)\n",
            "Current best trial: f80bd_00007 with mean_accuracy=0.9981333613395691 and params={'conv_filters': 256, 'lr': 0.001, 'dropout': 0.00844249100058081, 'batch_size': 128}\n",
            "+---------------------------------------------------------------------------------------------------------------------------------+\n",
            "| Trial name                status         dropout     conv_filters      lr     batch_size        acc     iter     total time (s) |\n",
            "+---------------------------------------------------------------------------------------------------------------------------------+\n",
            "| train_mnist_f80bd_00016   RUNNING      0.0778066              256   0.01             128                                        |\n",
            "| train_mnist_f80bd_00000   TERMINATED   0.0800099               64   0.001             64   0.997583        1            53.1455 |\n",
            "| train_mnist_f80bd_00001   TERMINATED   0.157755                64   0.001            128   0.997967        1            44.0186 |\n",
            "| train_mnist_f80bd_00002   TERMINATED   0.56265                 64   0.001            256   0.996533        1            40.4399 |\n",
            "| train_mnist_f80bd_00003   TERMINATED   0.0198027              128   0.001             64   0.997783        1            67.3642 |\n",
            "| train_mnist_f80bd_00004   TERMINATED   0.76506                128   0.001            128   0.98455         1            59.8803 |\n",
            "| train_mnist_f80bd_00017   PENDING      0.363803               256   0.01             256                                        |\n",
            "| train_mnist_f80bd_00018   PENDING      0.398897                64   0.1               64                                        |\n",
            "| train_mnist_f80bd_00019   PENDING      0.123644                64   0.1              128                                        |\n",
            "| train_mnist_f80bd_00020   PENDING      0.427534                64   0.1              256                                        |\n",
            "| train_mnist_f80bd_00021   PENDING      0.350408               128   0.1               64                                        |\n",
            "+---------------------------------------------------------------------------------------------------------------------------------+\n",
            "11 more TERMINATED, 5 more PENDING\n"
          ]
        },
        {
          "name": "stderr",
          "output_type": "stream",
          "text": [
            "\u001b[36m(pid=18195)\u001b[0m 2024-12-05 14:39:26.788010: W tensorflow/compiler/tf2tensorrt/utils/py_utils.cc:38] TF-TRT Warning: Could not find TensorRT\n"
          ]
        },
        {
          "name": "stdout",
          "output_type": "stream",
          "text": [
            "\n",
            "Trial train_mnist_f80bd_00017 started with configuration:\n",
            "+-------------------------------------------------+\n",
            "| Trial train_mnist_f80bd_00017 config            |\n",
            "+-------------------------------------------------+\n",
            "| batch_size                                  256 |\n",
            "| conv_filters                                256 |\n",
            "| dropout                                  0.3638 |\n",
            "| lr                                         0.01 |\n",
            "+-------------------------------------------------+\n"
          ]
        },
        {
          "name": "stderr",
          "output_type": "stream",
          "text": [
            "\u001b[36m(train_mnist pid=18195)\u001b[0m 2024-12-05 14:39:28.664741: W tensorflow/core/common_runtime/gpu/gpu_bfc_allocator.cc:47] Overriding orig_value setting because the TF_FORCE_GPU_ALLOW_GROWTH environment variable is set. Original config value was 0.\n",
            "\u001b[36m(train_mnist pid=18195)\u001b[0m WARNING: All log messages before absl::InitializeLog() is called are written to STDERR\n",
            "\u001b[36m(train_mnist pid=18195)\u001b[0m I0000 00:00:1733409571.365072   18324 service.cc:146] XLA service 0x789ac8004e10 initialized for platform CUDA (this does not guarantee that XLA will be used). Devices:\n",
            "\u001b[36m(train_mnist pid=18195)\u001b[0m I0000 00:00:1733409571.365120   18324 service.cc:154]   StreamExecutor device (0): NVIDIA L4, Compute Capability 8.9\n",
            "\u001b[36m(train_mnist pid=18195)\u001b[0m I0000 00:00:1733409586.182305   18324 device_compiler.h:188] Compiled cluster using XLA!  This line is logged at most once for the lifetime of the process.\n"
          ]
        },
        {
          "name": "stdout",
          "output_type": "stream",
          "text": [
            "\n",
            "Trial status: 16 TERMINATED | 2 RUNNING | 9 PENDING\n",
            "Current time: 2024-12-05 14:39:56. Total running time: 13min 1s\n",
            "Logical resource usage: 2.0/12 CPUs, 1.0/1 GPUs (0.0/1.0 accelerator_type:L4)\n",
            "Current best trial: f80bd_00007 with mean_accuracy=0.9981333613395691 and params={'conv_filters': 256, 'lr': 0.001, 'dropout': 0.00844249100058081, 'batch_size': 128}\n",
            "+---------------------------------------------------------------------------------------------------------------------------------+\n",
            "| Trial name                status         dropout     conv_filters      lr     batch_size        acc     iter     total time (s) |\n",
            "+---------------------------------------------------------------------------------------------------------------------------------+\n",
            "| train_mnist_f80bd_00016   RUNNING      0.0778066              256   0.01             128                                        |\n",
            "| train_mnist_f80bd_00017   RUNNING      0.363803               256   0.01             256                                        |\n",
            "| train_mnist_f80bd_00000   TERMINATED   0.0800099               64   0.001             64   0.997583        1            53.1455 |\n",
            "| train_mnist_f80bd_00001   TERMINATED   0.157755                64   0.001            128   0.997967        1            44.0186 |\n",
            "| train_mnist_f80bd_00002   TERMINATED   0.56265                 64   0.001            256   0.996533        1            40.4399 |\n",
            "| train_mnist_f80bd_00003   TERMINATED   0.0198027              128   0.001             64   0.997783        1            67.3642 |\n",
            "| train_mnist_f80bd_00004   TERMINATED   0.76506                128   0.001            128   0.98455         1            59.8803 |\n",
            "| train_mnist_f80bd_00018   PENDING      0.398897                64   0.1               64                                        |\n",
            "| train_mnist_f80bd_00019   PENDING      0.123644                64   0.1              128                                        |\n",
            "| train_mnist_f80bd_00020   PENDING      0.427534                64   0.1              256                                        |\n",
            "| train_mnist_f80bd_00021   PENDING      0.350408               128   0.1               64                                        |\n",
            "| train_mnist_f80bd_00022   PENDING      0.885897               128   0.1              128                                        |\n",
            "+---------------------------------------------------------------------------------------------------------------------------------+\n",
            "11 more TERMINATED, 4 more PENDING\n",
            "Trial status: 16 TERMINATED | 2 RUNNING | 9 PENDING\n",
            "Current time: 2024-12-05 14:40:26. Total running time: 13min 31s\n",
            "Logical resource usage: 2.0/12 CPUs, 1.0/1 GPUs (0.0/1.0 accelerator_type:L4)\n",
            "Current best trial: f80bd_00007 with mean_accuracy=0.9981333613395691 and params={'conv_filters': 256, 'lr': 0.001, 'dropout': 0.00844249100058081, 'batch_size': 128}\n",
            "+---------------------------------------------------------------------------------------------------------------------------------+\n",
            "| Trial name                status         dropout     conv_filters      lr     batch_size        acc     iter     total time (s) |\n",
            "+---------------------------------------------------------------------------------------------------------------------------------+\n",
            "| train_mnist_f80bd_00016   RUNNING      0.0778066              256   0.01             128                                        |\n",
            "| train_mnist_f80bd_00017   RUNNING      0.363803               256   0.01             256                                        |\n",
            "| train_mnist_f80bd_00000   TERMINATED   0.0800099               64   0.001             64   0.997583        1            53.1455 |\n",
            "| train_mnist_f80bd_00001   TERMINATED   0.157755                64   0.001            128   0.997967        1            44.0186 |\n",
            "| train_mnist_f80bd_00002   TERMINATED   0.56265                 64   0.001            256   0.996533        1            40.4399 |\n",
            "| train_mnist_f80bd_00003   TERMINATED   0.0198027              128   0.001             64   0.997783        1            67.3642 |\n",
            "| train_mnist_f80bd_00004   TERMINATED   0.76506                128   0.001            128   0.98455         1            59.8803 |\n",
            "| train_mnist_f80bd_00018   PENDING      0.398897                64   0.1               64                                        |\n",
            "| train_mnist_f80bd_00019   PENDING      0.123644                64   0.1              128                                        |\n",
            "| train_mnist_f80bd_00020   PENDING      0.427534                64   0.1              256                                        |\n",
            "| train_mnist_f80bd_00021   PENDING      0.350408               128   0.1               64                                        |\n",
            "| train_mnist_f80bd_00022   PENDING      0.885897               128   0.1              128                                        |\n",
            "+---------------------------------------------------------------------------------------------------------------------------------+\n",
            "11 more TERMINATED, 4 more PENDING\n",
            "\n",
            "Trial train_mnist_f80bd_00016 finished iteration 1 at 2024-12-05 14:40:36. Total running time: 13min 42s\n",
            "+--------------------------------------------------+\n",
            "| Trial train_mnist_f80bd_00016 result             |\n",
            "+--------------------------------------------------+\n",
            "| checkpoint_dir_name                              |\n",
            "| time_this_iter_s                         155.882 |\n",
            "| time_total_s                             155.882 |\n",
            "| training_iteration                             1 |\n",
            "| mean_accuracy                            0.98565 |\n",
            "+--------------------------------------------------+\n",
            "\n",
            "Trial train_mnist_f80bd_00016 completed after 1 iterations at 2024-12-05 14:40:36. Total running time: 13min 42s\n"
          ]
        },
        {
          "name": "stderr",
          "output_type": "stream",
          "text": [
            "\u001b[36m(pid=19143)\u001b[0m 2024-12-05 14:40:39.603154: E external/local_xla/xla/stream_executor/cuda/cuda_fft.cc:485] Unable to register cuFFT factory: Attempting to register factory for plugin cuFFT when one has already been registered\n",
            "\u001b[36m(pid=19143)\u001b[0m 2024-12-05 14:40:39.624737: E external/local_xla/xla/stream_executor/cuda/cuda_dnn.cc:8454] Unable to register cuDNN factory: Attempting to register factory for plugin cuDNN when one has already been registered\n",
            "\u001b[36m(pid=19143)\u001b[0m 2024-12-05 14:40:39.631484: E external/local_xla/xla/stream_executor/cuda/cuda_blas.cc:1452] Unable to register cuBLAS factory: Attempting to register factory for plugin cuBLAS when one has already been registered\n",
            "\u001b[36m(pid=19143)\u001b[0m 2024-12-05 14:40:40.884907: W tensorflow/compiler/tf2tensorrt/utils/py_utils.cc:38] TF-TRT Warning: Could not find TensorRT\n"
          ]
        },
        {
          "name": "stdout",
          "output_type": "stream",
          "text": [
            "\n",
            "Trial train_mnist_f80bd_00018 started with configuration:\n",
            "+-------------------------------------------------+\n",
            "| Trial train_mnist_f80bd_00018 config            |\n",
            "+-------------------------------------------------+\n",
            "| batch_size                                   64 |\n",
            "| conv_filters                                 64 |\n",
            "| dropout                                  0.3989 |\n",
            "| lr                                          0.1 |\n",
            "+-------------------------------------------------+\n"
          ]
        },
        {
          "name": "stderr",
          "output_type": "stream",
          "text": [
            "\u001b[36m(train_mnist pid=19143)\u001b[0m 2024-12-05 14:40:42.747714: W tensorflow/core/common_runtime/gpu/gpu_bfc_allocator.cc:47] Overriding orig_value setting because the TF_FORCE_GPU_ALLOW_GROWTH environment variable is set. Original config value was 0.\n",
            "\u001b[36m(train_mnist pid=19143)\u001b[0m WARNING: All log messages before absl::InitializeLog() is called are written to STDERR\n",
            "\u001b[36m(train_mnist pid=19143)\u001b[0m I0000 00:00:1733409645.412869   19275 service.cc:146] XLA service 0x7b31c4004a50 initialized for platform CUDA (this does not guarantee that XLA will be used). Devices:\n",
            "\u001b[36m(train_mnist pid=19143)\u001b[0m I0000 00:00:1733409645.412912   19275 service.cc:154]   StreamExecutor device (0): NVIDIA L4, Compute Capability 8.9\n",
            "\u001b[36m(train_mnist pid=19143)\u001b[0m I0000 00:00:1733409653.148959   19275 device_compiler.h:188] Compiled cluster using XLA!  This line is logged at most once for the lifetime of the process.\n"
          ]
        },
        {
          "name": "stdout",
          "output_type": "stream",
          "text": [
            "\n",
            "Trial status: 17 TERMINATED | 2 RUNNING | 8 PENDING\n",
            "Current time: 2024-12-05 14:40:56. Total running time: 14min 1s\n",
            "Logical resource usage: 2.0/12 CPUs, 1.0/1 GPUs (0.0/1.0 accelerator_type:L4)\n",
            "Current best trial: f80bd_00007 with mean_accuracy=0.9981333613395691 and params={'conv_filters': 256, 'lr': 0.001, 'dropout': 0.00844249100058081, 'batch_size': 128}\n",
            "+---------------------------------------------------------------------------------------------------------------------------------+\n",
            "| Trial name                status         dropout     conv_filters      lr     batch_size        acc     iter     total time (s) |\n",
            "+---------------------------------------------------------------------------------------------------------------------------------+\n",
            "| train_mnist_f80bd_00017   RUNNING      0.363803               256   0.01             256                                        |\n",
            "| train_mnist_f80bd_00018   RUNNING      0.398897                64   0.1               64                                        |\n",
            "| train_mnist_f80bd_00000   TERMINATED   0.0800099               64   0.001             64   0.997583        1            53.1455 |\n",
            "| train_mnist_f80bd_00001   TERMINATED   0.157755                64   0.001            128   0.997967        1            44.0186 |\n",
            "| train_mnist_f80bd_00002   TERMINATED   0.56265                 64   0.001            256   0.996533        1            40.4399 |\n",
            "| train_mnist_f80bd_00003   TERMINATED   0.0198027              128   0.001             64   0.997783        1            67.3642 |\n",
            "| train_mnist_f80bd_00004   TERMINATED   0.76506                128   0.001            128   0.98455         1            59.8803 |\n",
            "| train_mnist_f80bd_00019   PENDING      0.123644                64   0.1              128                                        |\n",
            "| train_mnist_f80bd_00020   PENDING      0.427534                64   0.1              256                                        |\n",
            "| train_mnist_f80bd_00021   PENDING      0.350408               128   0.1               64                                        |\n",
            "| train_mnist_f80bd_00022   PENDING      0.885897               128   0.1              128                                        |\n",
            "| train_mnist_f80bd_00023   PENDING      0.615394               128   0.1              256                                        |\n",
            "+---------------------------------------------------------------------------------------------------------------------------------+\n",
            "12 more TERMINATED, 3 more PENDING\n",
            "Trial status: 17 TERMINATED | 2 RUNNING | 8 PENDING\n",
            "Current time: 2024-12-05 14:41:26. Total running time: 14min 31s\n",
            "Logical resource usage: 2.0/12 CPUs, 1.0/1 GPUs (0.0/1.0 accelerator_type:L4)\n",
            "Current best trial: f80bd_00007 with mean_accuracy=0.9981333613395691 and params={'conv_filters': 256, 'lr': 0.001, 'dropout': 0.00844249100058081, 'batch_size': 128}\n",
            "+---------------------------------------------------------------------------------------------------------------------------------+\n",
            "| Trial name                status         dropout     conv_filters      lr     batch_size        acc     iter     total time (s) |\n",
            "+---------------------------------------------------------------------------------------------------------------------------------+\n",
            "| train_mnist_f80bd_00017   RUNNING      0.363803               256   0.01             256                                        |\n",
            "| train_mnist_f80bd_00018   RUNNING      0.398897                64   0.1               64                                        |\n",
            "| train_mnist_f80bd_00000   TERMINATED   0.0800099               64   0.001             64   0.997583        1            53.1455 |\n",
            "| train_mnist_f80bd_00001   TERMINATED   0.157755                64   0.001            128   0.997967        1            44.0186 |\n",
            "| train_mnist_f80bd_00002   TERMINATED   0.56265                 64   0.001            256   0.996533        1            40.4399 |\n",
            "| train_mnist_f80bd_00003   TERMINATED   0.0198027              128   0.001             64   0.997783        1            67.3642 |\n",
            "| train_mnist_f80bd_00004   TERMINATED   0.76506                128   0.001            128   0.98455         1            59.8803 |\n",
            "| train_mnist_f80bd_00019   PENDING      0.123644                64   0.1              128                                        |\n",
            "| train_mnist_f80bd_00020   PENDING      0.427534                64   0.1              256                                        |\n",
            "| train_mnist_f80bd_00021   PENDING      0.350408               128   0.1               64                                        |\n",
            "| train_mnist_f80bd_00022   PENDING      0.885897               128   0.1              128                                        |\n",
            "| train_mnist_f80bd_00023   PENDING      0.615394               128   0.1              256                                        |\n",
            "+---------------------------------------------------------------------------------------------------------------------------------+\n",
            "12 more TERMINATED, 3 more PENDING\n",
            "\n",
            "Trial train_mnist_f80bd_00017 finished iteration 1 at 2024-12-05 14:41:42. Total running time: 14min 48s\n",
            "+-------------------------------------------------+\n",
            "| Trial train_mnist_f80bd_00017 result            |\n",
            "+-------------------------------------------------+\n",
            "| checkpoint_dir_name                             |\n",
            "| time_this_iter_s                         134.93 |\n",
            "| time_total_s                             134.93 |\n",
            "| training_iteration                            1 |\n",
            "| mean_accuracy                            0.1117 |\n",
            "+-------------------------------------------------+\n",
            "\n",
            "Trial train_mnist_f80bd_00017 completed after 1 iterations at 2024-12-05 14:41:42. Total running time: 14min 48s\n"
          ]
        },
        {
          "name": "stderr",
          "output_type": "stream",
          "text": [
            "\u001b[36m(pid=20284)\u001b[0m 2024-12-05 14:41:45.684915: E external/local_xla/xla/stream_executor/cuda/cuda_fft.cc:485] Unable to register cuFFT factory: Attempting to register factory for plugin cuFFT when one has already been registered\n",
            "\u001b[36m(pid=20284)\u001b[0m 2024-12-05 14:41:45.707189: E external/local_xla/xla/stream_executor/cuda/cuda_dnn.cc:8454] Unable to register cuDNN factory: Attempting to register factory for plugin cuDNN when one has already been registered\n",
            "\u001b[36m(pid=20284)\u001b[0m 2024-12-05 14:41:45.714022: E external/local_xla/xla/stream_executor/cuda/cuda_blas.cc:1452] Unable to register cuBLAS factory: Attempting to register factory for plugin cuBLAS when one has already been registered\n",
            "\u001b[36m(pid=20284)\u001b[0m 2024-12-05 14:41:46.982513: W tensorflow/compiler/tf2tensorrt/utils/py_utils.cc:38] TF-TRT Warning: Could not find TensorRT\n"
          ]
        },
        {
          "name": "stdout",
          "output_type": "stream",
          "text": [
            "\n",
            "Trial train_mnist_f80bd_00019 started with configuration:\n",
            "+--------------------------------------------------+\n",
            "| Trial train_mnist_f80bd_00019 config             |\n",
            "+--------------------------------------------------+\n",
            "| batch_size                                   128 |\n",
            "| conv_filters                                  64 |\n",
            "| dropout                                  0.12364 |\n",
            "| lr                                           0.1 |\n",
            "+--------------------------------------------------+\n"
          ]
        },
        {
          "name": "stderr",
          "output_type": "stream",
          "text": [
            "\u001b[36m(train_mnist pid=20284)\u001b[0m 2024-12-05 14:41:48.934629: W tensorflow/core/common_runtime/gpu/gpu_bfc_allocator.cc:47] Overriding orig_value setting because the TF_FORCE_GPU_ALLOW_GROWTH environment variable is set. Original config value was 0.\n"
          ]
        },
        {
          "name": "stdout",
          "output_type": "stream",
          "text": [
            "\n",
            "Trial train_mnist_f80bd_00018 finished iteration 1 at 2024-12-05 14:41:51. Total running time: 14min 56s\n",
            "+--------------------------------------------------+\n",
            "| Trial train_mnist_f80bd_00018 result             |\n",
            "+--------------------------------------------------+\n",
            "| checkpoint_dir_name                              |\n",
            "| time_this_iter_s                         69.2954 |\n",
            "| time_total_s                             69.2954 |\n",
            "| training_iteration                             1 |\n",
            "| mean_accuracy                            0.10305 |\n",
            "+--------------------------------------------------+\n",
            "\n",
            "Trial train_mnist_f80bd_00018 completed after 1 iterations at 2024-12-05 14:41:51. Total running time: 14min 56s\n"
          ]
        },
        {
          "name": "stderr",
          "output_type": "stream",
          "text": [
            "\u001b[36m(train_mnist pid=20284)\u001b[0m WARNING: All log messages before absl::InitializeLog() is called are written to STDERR\n",
            "\u001b[36m(train_mnist pid=20284)\u001b[0m I0000 00:00:1733409711.666232   20462 service.cc:146] XLA service 0x7800600167d0 initialized for platform CUDA (this does not guarantee that XLA will be used). Devices:\n",
            "\u001b[36m(train_mnist pid=20284)\u001b[0m I0000 00:00:1733409711.666279   20462 service.cc:154]   StreamExecutor device (0): NVIDIA L4, Compute Capability 8.9\n",
            "\u001b[36m(pid=20584)\u001b[0m 2024-12-05 14:41:54.487516: E external/local_xla/xla/stream_executor/cuda/cuda_fft.cc:485] Unable to register cuFFT factory: Attempting to register factory for plugin cuFFT when one has already been registered\n",
            "\u001b[36m(pid=20584)\u001b[0m 2024-12-05 14:41:54.524116: E external/local_xla/xla/stream_executor/cuda/cuda_dnn.cc:8454] Unable to register cuDNN factory: Attempting to register factory for plugin cuDNN when one has already been registered\n",
            "\u001b[36m(pid=20584)\u001b[0m 2024-12-05 14:41:54.535312: E external/local_xla/xla/stream_executor/cuda/cuda_blas.cc:1452] Unable to register cuBLAS factory: Attempting to register factory for plugin cuBLAS when one has already been registered\n",
            "\u001b[36m(pid=20584)\u001b[0m 2024-12-05 14:41:55.956855: W tensorflow/compiler/tf2tensorrt/utils/py_utils.cc:38] TF-TRT Warning: Could not find TensorRT\n"
          ]
        },
        {
          "name": "stdout",
          "output_type": "stream",
          "text": [
            "\n",
            "Trial status: 19 TERMINATED | 1 RUNNING | 7 PENDING\n",
            "Current time: 2024-12-05 14:41:56. Total running time: 15min 1s\n",
            "Logical resource usage: 2.0/12 CPUs, 1.0/1 GPUs (0.0/1.0 accelerator_type:L4)\n",
            "Current best trial: f80bd_00007 with mean_accuracy=0.9981333613395691 and params={'conv_filters': 256, 'lr': 0.001, 'dropout': 0.00844249100058081, 'batch_size': 128}\n",
            "+---------------------------------------------------------------------------------------------------------------------------------+\n",
            "| Trial name                status         dropout     conv_filters      lr     batch_size        acc     iter     total time (s) |\n",
            "+---------------------------------------------------------------------------------------------------------------------------------+\n",
            "| train_mnist_f80bd_00019   RUNNING      0.123644                64   0.1              128                                        |\n",
            "| train_mnist_f80bd_00000   TERMINATED   0.0800099               64   0.001             64   0.997583        1            53.1455 |\n",
            "| train_mnist_f80bd_00001   TERMINATED   0.157755                64   0.001            128   0.997967        1            44.0186 |\n",
            "| train_mnist_f80bd_00002   TERMINATED   0.56265                 64   0.001            256   0.996533        1            40.4399 |\n",
            "| train_mnist_f80bd_00003   TERMINATED   0.0198027              128   0.001             64   0.997783        1            67.3642 |\n",
            "| train_mnist_f80bd_00004   TERMINATED   0.76506                128   0.001            128   0.98455         1            59.8803 |\n",
            "| train_mnist_f80bd_00020   PENDING      0.427534                64   0.1              256                                        |\n",
            "| train_mnist_f80bd_00021   PENDING      0.350408               128   0.1               64                                        |\n",
            "| train_mnist_f80bd_00022   PENDING      0.885897               128   0.1              128                                        |\n",
            "| train_mnist_f80bd_00023   PENDING      0.615394               128   0.1              256                                        |\n",
            "| train_mnist_f80bd_00024   PENDING      0.0512337              256   0.1               64                                        |\n",
            "+---------------------------------------------------------------------------------------------------------------------------------+\n",
            "14 more TERMINATED, 2 more PENDING\n",
            "\n",
            "Trial train_mnist_f80bd_00020 started with configuration:\n",
            "+--------------------------------------------------+\n",
            "| Trial train_mnist_f80bd_00020 config             |\n",
            "+--------------------------------------------------+\n",
            "| batch_size                                   256 |\n",
            "| conv_filters                                  64 |\n",
            "| dropout                                  0.42753 |\n",
            "| lr                                           0.1 |\n",
            "+--------------------------------------------------+\n"
          ]
        },
        {
          "name": "stderr",
          "output_type": "stream",
          "text": [
            "\u001b[36m(train_mnist pid=20584)\u001b[0m 2024-12-05 14:41:57.807747: W tensorflow/core/common_runtime/gpu/gpu_bfc_allocator.cc:47] Overriding orig_value setting because the TF_FORCE_GPU_ALLOW_GROWTH environment variable is set. Original config value was 0.\n",
            "\u001b[36m(train_mnist pid=20284)\u001b[0m I0000 00:00:1733409718.419239   20462 device_compiler.h:188] Compiled cluster using XLA!  This line is logged at most once for the lifetime of the process.\n",
            "\u001b[36m(train_mnist pid=20584)\u001b[0m WARNING: All log messages before absl::InitializeLog() is called are written to STDERR\n",
            "\u001b[36m(train_mnist pid=20584)\u001b[0m I0000 00:00:1733409720.889859   20757 service.cc:146] XLA service 0x7cd5b80052b0 initialized for platform CUDA (this does not guarantee that XLA will be used). Devices:\n",
            "\u001b[36m(train_mnist pid=20584)\u001b[0m I0000 00:00:1733409720.889921   20757 service.cc:154]   StreamExecutor device (0): NVIDIA L4, Compute Capability 8.9\n",
            "\u001b[36m(train_mnist pid=20584)\u001b[0m I0000 00:00:1733409729.513958   20757 device_compiler.h:188] Compiled cluster using XLA!  This line is logged at most once for the lifetime of the process.\n"
          ]
        },
        {
          "name": "stdout",
          "output_type": "stream",
          "text": [
            "\n",
            "Trial status: 19 TERMINATED | 2 RUNNING | 6 PENDING\n",
            "Current time: 2024-12-05 14:42:26. Total running time: 15min 31s\n",
            "Logical resource usage: 2.0/12 CPUs, 1.0/1 GPUs (0.0/1.0 accelerator_type:L4)\n",
            "Current best trial: f80bd_00007 with mean_accuracy=0.9981333613395691 and params={'conv_filters': 256, 'lr': 0.001, 'dropout': 0.00844249100058081, 'batch_size': 128}\n",
            "+---------------------------------------------------------------------------------------------------------------------------------+\n",
            "| Trial name                status         dropout     conv_filters      lr     batch_size        acc     iter     total time (s) |\n",
            "+---------------------------------------------------------------------------------------------------------------------------------+\n",
            "| train_mnist_f80bd_00019   RUNNING      0.123644                64   0.1              128                                        |\n",
            "| train_mnist_f80bd_00020   RUNNING      0.427534                64   0.1              256                                        |\n",
            "| train_mnist_f80bd_00000   TERMINATED   0.0800099               64   0.001             64   0.997583        1            53.1455 |\n",
            "| train_mnist_f80bd_00001   TERMINATED   0.157755                64   0.001            128   0.997967        1            44.0186 |\n",
            "| train_mnist_f80bd_00002   TERMINATED   0.56265                 64   0.001            256   0.996533        1            40.4399 |\n",
            "| train_mnist_f80bd_00003   TERMINATED   0.0198027              128   0.001             64   0.997783        1            67.3642 |\n",
            "| train_mnist_f80bd_00004   TERMINATED   0.76506                128   0.001            128   0.98455         1            59.8803 |\n",
            "| train_mnist_f80bd_00021   PENDING      0.350408               128   0.1               64                                        |\n",
            "| train_mnist_f80bd_00022   PENDING      0.885897               128   0.1              128                                        |\n",
            "| train_mnist_f80bd_00023   PENDING      0.615394               128   0.1              256                                        |\n",
            "| train_mnist_f80bd_00024   PENDING      0.0512337              256   0.1               64                                        |\n",
            "| train_mnist_f80bd_00025   PENDING      0.408096               256   0.1              128                                        |\n",
            "+---------------------------------------------------------------------------------------------------------------------------------+\n",
            "14 more TERMINATED, 1 more PENDING\n",
            "\n",
            "Trial train_mnist_f80bd_00019 finished iteration 1 at 2024-12-05 14:42:31. Total running time: 15min 37s\n",
            "+--------------------------------------------------+\n",
            "| Trial train_mnist_f80bd_00019 result             |\n",
            "+--------------------------------------------------+\n",
            "| checkpoint_dir_name                              |\n",
            "| time_this_iter_s                         43.5329 |\n",
            "| time_total_s                             43.5329 |\n",
            "| training_iteration                             1 |\n",
            "| mean_accuracy                            0.10532 |\n",
            "+--------------------------------------------------+\n",
            "\n",
            "Trial train_mnist_f80bd_00019 completed after 1 iterations at 2024-12-05 14:42:31. Total running time: 15min 37s\n",
            "\n",
            "Trial train_mnist_f80bd_00020 finished iteration 1 at 2024-12-05 14:42:34. Total running time: 15min 39s\n",
            "+--------------------------------------------------+\n",
            "| Trial train_mnist_f80bd_00020 result             |\n",
            "+--------------------------------------------------+\n",
            "| checkpoint_dir_name                              |\n",
            "| time_this_iter_s                         37.4677 |\n",
            "| time_total_s                             37.4677 |\n",
            "| training_iteration                             1 |\n",
            "| mean_accuracy                            0.10505 |\n",
            "+--------------------------------------------------+\n",
            "\n",
            "Trial train_mnist_f80bd_00020 completed after 1 iterations at 2024-12-05 14:42:34. Total running time: 15min 39s\n"
          ]
        },
        {
          "name": "stderr",
          "output_type": "stream",
          "text": [
            "\u001b[36m(pid=21971)\u001b[0m 2024-12-05 14:42:34.690788: E external/local_xla/xla/stream_executor/cuda/cuda_fft.cc:485] Unable to register cuFFT factory: Attempting to register factory for plugin cuFFT when one has already been registered\n",
            "\u001b[36m(pid=21971)\u001b[0m 2024-12-05 14:42:34.718266: E external/local_xla/xla/stream_executor/cuda/cuda_dnn.cc:8454] Unable to register cuDNN factory: Attempting to register factory for plugin cuDNN when one has already been registered\n",
            "\u001b[36m(pid=21971)\u001b[0m 2024-12-05 14:42:34.729045: E external/local_xla/xla/stream_executor/cuda/cuda_blas.cc:1452] Unable to register cuBLAS factory: Attempting to register factory for plugin cuBLAS when one has already been registered\n",
            "\u001b[36m(pid=21971)\u001b[0m 2024-12-05 14:42:35.947538: W tensorflow/compiler/tf2tensorrt/utils/py_utils.cc:38] TF-TRT Warning: Could not find TensorRT\n"
          ]
        },
        {
          "name": "stdout",
          "output_type": "stream",
          "text": [
            "\n",
            "Trial train_mnist_f80bd_00021 started with configuration:\n",
            "+--------------------------------------------------+\n",
            "| Trial train_mnist_f80bd_00021 config             |\n",
            "+--------------------------------------------------+\n",
            "| batch_size                                    64 |\n",
            "| conv_filters                                 128 |\n",
            "| dropout                                  0.35041 |\n",
            "| lr                                           0.1 |\n",
            "+--------------------------------------------------+\n"
          ]
        },
        {
          "name": "stderr",
          "output_type": "stream",
          "text": [
            "\u001b[36m(train_mnist pid=21971)\u001b[0m 2024-12-05 14:42:37.842754: W tensorflow/core/common_runtime/gpu/gpu_bfc_allocator.cc:47] Overriding orig_value setting because the TF_FORCE_GPU_ALLOW_GROWTH environment variable is set. Original config value was 0.\n"
          ]
        },
        {
          "name": "stdout",
          "output_type": "stream",
          "text": [
            "\n",
            "Trial train_mnist_f80bd_00022 started with configuration:\n",
            "+-------------------------------------------------+\n",
            "| Trial train_mnist_f80bd_00022 config            |\n",
            "+-------------------------------------------------+\n",
            "| batch_size                                  128 |\n",
            "| conv_filters                                128 |\n",
            "| dropout                                  0.8859 |\n",
            "| lr                                          0.1 |\n",
            "+-------------------------------------------------+\n"
          ]
        },
        {
          "name": "stderr",
          "output_type": "stream",
          "text": [
            "\u001b[36m(train_mnist pid=21971)\u001b[0m WARNING: All log messages before absl::InitializeLog() is called are written to STDERR\n",
            "\u001b[36m(train_mnist pid=21971)\u001b[0m I0000 00:00:1733409760.452219   22164 service.cc:146] XLA service 0x7ea194015b60 initialized for platform CUDA (this does not guarantee that XLA will be used). Devices:\n",
            "\u001b[36m(train_mnist pid=21971)\u001b[0m I0000 00:00:1733409760.452272   22164 service.cc:154]   StreamExecutor device (0): NVIDIA L4, Compute Capability 8.9\n",
            "\u001b[36m(pid=22075)\u001b[0m 2024-12-05 14:42:36.651131: E external/local_xla/xla/stream_executor/cuda/cuda_fft.cc:485] Unable to register cuFFT factory: Attempting to register factory for plugin cuFFT when one has already been registered\n",
            "\u001b[36m(pid=22075)\u001b[0m 2024-12-05 14:42:36.672614: E external/local_xla/xla/stream_executor/cuda/cuda_dnn.cc:8454] Unable to register cuDNN factory: Attempting to register factory for plugin cuDNN when one has already been registered\n",
            "\u001b[36m(pid=22075)\u001b[0m 2024-12-05 14:42:36.679090: E external/local_xla/xla/stream_executor/cuda/cuda_blas.cc:1452] Unable to register cuBLAS factory: Attempting to register factory for plugin cuBLAS when one has already been registered\n",
            "\u001b[36m(pid=22075)\u001b[0m 2024-12-05 14:42:37.884002: W tensorflow/compiler/tf2tensorrt/utils/py_utils.cc:38] TF-TRT Warning: Could not find TensorRT\n",
            "\u001b[36m(train_mnist pid=22075)\u001b[0m 2024-12-05 14:42:39.719914: W tensorflow/core/common_runtime/gpu/gpu_bfc_allocator.cc:47] Overriding orig_value setting because the TF_FORCE_GPU_ALLOW_GROWTH environment variable is set. Original config value was 0.\n",
            "\u001b[36m(train_mnist pid=21971)\u001b[0m I0000 00:00:1733409767.370847   22164 device_compiler.h:188] Compiled cluster using XLA!  This line is logged at most once for the lifetime of the process.\n",
            "\u001b[36m(train_mnist pid=22075)\u001b[0m WARNING: All log messages before absl::InitializeLog() is called are written to STDERR\n",
            "\u001b[36m(train_mnist pid=22075)\u001b[0m I0000 00:00:1733409763.160252   22249 service.cc:146] XLA service 0x7ff428005b90 initialized for platform CUDA (this does not guarantee that XLA will be used). Devices:\n",
            "\u001b[36m(train_mnist pid=22075)\u001b[0m I0000 00:00:1733409763.160293   22249 service.cc:154]   StreamExecutor device (0): NVIDIA L4, Compute Capability 8.9\n"
          ]
        },
        {
          "name": "stdout",
          "output_type": "stream",
          "text": [
            "\n",
            "Trial status: 21 TERMINATED | 2 RUNNING | 4 PENDING\n",
            "Current time: 2024-12-05 14:42:56. Total running time: 16min 2s\n",
            "Logical resource usage: 2.0/12 CPUs, 1.0/1 GPUs (0.0/1.0 accelerator_type:L4)\n",
            "Current best trial: f80bd_00007 with mean_accuracy=0.9981333613395691 and params={'conv_filters': 256, 'lr': 0.001, 'dropout': 0.00844249100058081, 'batch_size': 128}\n",
            "+---------------------------------------------------------------------------------------------------------------------------------+\n",
            "| Trial name                status         dropout     conv_filters      lr     batch_size        acc     iter     total time (s) |\n",
            "+---------------------------------------------------------------------------------------------------------------------------------+\n",
            "| train_mnist_f80bd_00021   RUNNING      0.350408               128   0.1               64                                        |\n",
            "| train_mnist_f80bd_00022   RUNNING      0.885897               128   0.1              128                                        |\n",
            "| train_mnist_f80bd_00000   TERMINATED   0.0800099               64   0.001             64   0.997583        1            53.1455 |\n",
            "| train_mnist_f80bd_00001   TERMINATED   0.157755                64   0.001            128   0.997967        1            44.0186 |\n",
            "| train_mnist_f80bd_00002   TERMINATED   0.56265                 64   0.001            256   0.996533        1            40.4399 |\n",
            "| train_mnist_f80bd_00003   TERMINATED   0.0198027              128   0.001             64   0.997783        1            67.3642 |\n",
            "| train_mnist_f80bd_00004   TERMINATED   0.76506                128   0.001            128   0.98455         1            59.8803 |\n",
            "| train_mnist_f80bd_00023   PENDING      0.615394               128   0.1              256                                        |\n",
            "| train_mnist_f80bd_00024   PENDING      0.0512337              256   0.1               64                                        |\n",
            "| train_mnist_f80bd_00025   PENDING      0.408096               256   0.1              128                                        |\n",
            "| train_mnist_f80bd_00026   PENDING      0.878145               256   0.1              256                                        |\n",
            "+---------------------------------------------------------------------------------------------------------------------------------+\n",
            "16 more TERMINATED\n",
            "Trial status: 21 TERMINATED | 2 RUNNING | 4 PENDING\n",
            "Current time: 2024-12-05 14:43:26. Total running time: 16min 32s\n",
            "Logical resource usage: 2.0/12 CPUs, 1.0/1 GPUs (0.0/1.0 accelerator_type:L4)\n",
            "Current best trial: f80bd_00007 with mean_accuracy=0.9981333613395691 and params={'conv_filters': 256, 'lr': 0.001, 'dropout': 0.00844249100058081, 'batch_size': 128}\n",
            "+---------------------------------------------------------------------------------------------------------------------------------+\n",
            "| Trial name                status         dropout     conv_filters      lr     batch_size        acc     iter     total time (s) |\n",
            "+---------------------------------------------------------------------------------------------------------------------------------+\n",
            "| train_mnist_f80bd_00021   RUNNING      0.350408               128   0.1               64                                        |\n",
            "| train_mnist_f80bd_00022   RUNNING      0.885897               128   0.1              128                                        |\n",
            "| train_mnist_f80bd_00000   TERMINATED   0.0800099               64   0.001             64   0.997583        1            53.1455 |\n",
            "| train_mnist_f80bd_00001   TERMINATED   0.157755                64   0.001            128   0.997967        1            44.0186 |\n",
            "| train_mnist_f80bd_00002   TERMINATED   0.56265                 64   0.001            256   0.996533        1            40.4399 |\n",
            "| train_mnist_f80bd_00003   TERMINATED   0.0198027              128   0.001             64   0.997783        1            67.3642 |\n",
            "| train_mnist_f80bd_00004   TERMINATED   0.76506                128   0.001            128   0.98455         1            59.8803 |\n",
            "| train_mnist_f80bd_00023   PENDING      0.615394               128   0.1              256                                        |\n",
            "| train_mnist_f80bd_00024   PENDING      0.0512337              256   0.1               64                                        |\n",
            "| train_mnist_f80bd_00025   PENDING      0.408096               256   0.1              128                                        |\n",
            "| train_mnist_f80bd_00026   PENDING      0.878145               256   0.1              256                                        |\n",
            "+---------------------------------------------------------------------------------------------------------------------------------+\n",
            "16 more TERMINATED\n",
            "\n",
            "Trial train_mnist_f80bd_00022 finished iteration 1 at 2024-12-05 14:43:39. Total running time: 16min 44s\n",
            "+--------------------------------------------------+\n",
            "| Trial train_mnist_f80bd_00022 result             |\n",
            "+--------------------------------------------------+\n",
            "| checkpoint_dir_name                              |\n",
            "| time_this_iter_s                         60.2665 |\n",
            "| time_total_s                             60.2665 |\n",
            "| training_iteration                             1 |\n",
            "| mean_accuracy                            0.10285 |\n",
            "+--------------------------------------------------+\n",
            "\n",
            "Trial train_mnist_f80bd_00022 completed after 1 iterations at 2024-12-05 14:43:39. Total running time: 16min 44s\n"
          ]
        },
        {
          "name": "stderr",
          "output_type": "stream",
          "text": [
            "\u001b[36m(pid=23576)\u001b[0m 2024-12-05 14:43:41.700588: E external/local_xla/xla/stream_executor/cuda/cuda_fft.cc:485] Unable to register cuFFT factory: Attempting to register factory for plugin cuFFT when one has already been registered\n",
            "\u001b[36m(pid=23576)\u001b[0m 2024-12-05 14:43:41.723048: E external/local_xla/xla/stream_executor/cuda/cuda_dnn.cc:8454] Unable to register cuDNN factory: Attempting to register factory for plugin cuDNN when one has already been registered\n",
            "\u001b[36m(pid=23576)\u001b[0m 2024-12-05 14:43:41.729528: E external/local_xla/xla/stream_executor/cuda/cuda_blas.cc:1452] Unable to register cuBLAS factory: Attempting to register factory for plugin cuBLAS when one has already been registered\n",
            "\u001b[36m(train_mnist pid=22075)\u001b[0m I0000 00:00:1733409770.386017   22249 device_compiler.h:188] Compiled cluster using XLA!  This line is logged at most once for the lifetime of the process.\n",
            "\u001b[36m(pid=23576)\u001b[0m 2024-12-05 14:43:42.997245: W tensorflow/compiler/tf2tensorrt/utils/py_utils.cc:38] TF-TRT Warning: Could not find TensorRT\n"
          ]
        },
        {
          "name": "stdout",
          "output_type": "stream",
          "text": [
            "\n",
            "Trial train_mnist_f80bd_00023 started with configuration:\n",
            "+--------------------------------------------------+\n",
            "| Trial train_mnist_f80bd_00023 config             |\n",
            "+--------------------------------------------------+\n",
            "| batch_size                                   256 |\n",
            "| conv_filters                                 128 |\n",
            "| dropout                                  0.61539 |\n",
            "| lr                                           0.1 |\n",
            "+--------------------------------------------------+\n"
          ]
        },
        {
          "name": "stderr",
          "output_type": "stream",
          "text": [
            "\u001b[36m(train_mnist pid=23576)\u001b[0m 2024-12-05 14:43:44.915314: W tensorflow/core/common_runtime/gpu/gpu_bfc_allocator.cc:47] Overriding orig_value setting because the TF_FORCE_GPU_ALLOW_GROWTH environment variable is set. Original config value was 0.\n",
            "\u001b[36m(train_mnist pid=23576)\u001b[0m WARNING: All log messages before absl::InitializeLog() is called are written to STDERR\n",
            "\u001b[36m(train_mnist pid=23576)\u001b[0m I0000 00:00:1733409827.718865   23741 service.cc:146] XLA service 0x7fc8ec003ae0 initialized for platform CUDA (this does not guarantee that XLA will be used). Devices:\n",
            "\u001b[36m(train_mnist pid=23576)\u001b[0m I0000 00:00:1733409827.718913   23741 service.cc:154]   StreamExecutor device (0): NVIDIA L4, Compute Capability 8.9\n"
          ]
        },
        {
          "name": "stdout",
          "output_type": "stream",
          "text": [
            "\n",
            "Trial train_mnist_f80bd_00021 finished iteration 1 at 2024-12-05 14:43:51. Total running time: 16min 56s\n",
            "+--------------------------------------------------+\n",
            "| Trial train_mnist_f80bd_00021 result             |\n",
            "+--------------------------------------------------+\n",
            "| checkpoint_dir_name                              |\n",
            "| time_this_iter_s                         74.0165 |\n",
            "| time_total_s                             74.0165 |\n",
            "| training_iteration                             1 |\n",
            "| mean_accuracy                            0.10547 |\n",
            "+--------------------------------------------------+\n",
            "\n",
            "Trial train_mnist_f80bd_00021 completed after 1 iterations at 2024-12-05 14:43:51. Total running time: 16min 56s\n"
          ]
        },
        {
          "name": "stderr",
          "output_type": "stream",
          "text": [
            "\u001b[36m(pid=23954)\u001b[0m 2024-12-05 14:43:53.624729: E external/local_xla/xla/stream_executor/cuda/cuda_fft.cc:485] Unable to register cuFFT factory: Attempting to register factory for plugin cuFFT when one has already been registered\n",
            "\u001b[36m(pid=23954)\u001b[0m 2024-12-05 14:43:53.646492: E external/local_xla/xla/stream_executor/cuda/cuda_dnn.cc:8454] Unable to register cuDNN factory: Attempting to register factory for plugin cuDNN when one has already been registered\n",
            "\u001b[36m(pid=23954)\u001b[0m 2024-12-05 14:43:53.653220: E external/local_xla/xla/stream_executor/cuda/cuda_blas.cc:1452] Unable to register cuBLAS factory: Attempting to register factory for plugin cuBLAS when one has already been registered\n",
            "\u001b[36m(pid=23954)\u001b[0m 2024-12-05 14:43:54.868362: W tensorflow/compiler/tf2tensorrt/utils/py_utils.cc:38] TF-TRT Warning: Could not find TensorRT\n",
            "\u001b[36m(train_mnist pid=23576)\u001b[0m I0000 00:00:1733409835.298183   23741 device_compiler.h:188] Compiled cluster using XLA!  This line is logged at most once for the lifetime of the process.\n"
          ]
        },
        {
          "name": "stdout",
          "output_type": "stream",
          "text": [
            "\n",
            "Trial train_mnist_f80bd_00024 started with configuration:\n",
            "+--------------------------------------------------+\n",
            "| Trial train_mnist_f80bd_00024 config             |\n",
            "+--------------------------------------------------+\n",
            "| batch_size                                    64 |\n",
            "| conv_filters                                 256 |\n",
            "| dropout                                  0.05123 |\n",
            "| lr                                           0.1 |\n",
            "+--------------------------------------------------+\n"
          ]
        },
        {
          "name": "stderr",
          "output_type": "stream",
          "text": [
            "\u001b[36m(train_mnist pid=23954)\u001b[0m 2024-12-05 14:43:56.713925: W tensorflow/core/common_runtime/gpu/gpu_bfc_allocator.cc:47] Overriding orig_value setting because the TF_FORCE_GPU_ALLOW_GROWTH environment variable is set. Original config value was 0.\n"
          ]
        },
        {
          "name": "stdout",
          "output_type": "stream",
          "text": [
            "\n",
            "Trial status: 23 TERMINATED | 2 RUNNING | 2 PENDING\n",
            "Current time: 2024-12-05 14:43:56. Total running time: 17min 2s\n",
            "Logical resource usage: 2.0/12 CPUs, 1.0/1 GPUs (0.0/1.0 accelerator_type:L4)\n",
            "Current best trial: f80bd_00007 with mean_accuracy=0.9981333613395691 and params={'conv_filters': 256, 'lr': 0.001, 'dropout': 0.00844249100058081, 'batch_size': 128}\n",
            "+---------------------------------------------------------------------------------------------------------------------------------+\n",
            "| Trial name                status         dropout     conv_filters      lr     batch_size        acc     iter     total time (s) |\n",
            "+---------------------------------------------------------------------------------------------------------------------------------+\n",
            "| train_mnist_f80bd_00023   RUNNING      0.615394               128   0.1              256                                        |\n",
            "| train_mnist_f80bd_00024   RUNNING      0.0512337              256   0.1               64                                        |\n",
            "| train_mnist_f80bd_00000   TERMINATED   0.0800099               64   0.001             64   0.997583        1            53.1455 |\n",
            "| train_mnist_f80bd_00001   TERMINATED   0.157755                64   0.001            128   0.997967        1            44.0186 |\n",
            "| train_mnist_f80bd_00002   TERMINATED   0.56265                 64   0.001            256   0.996533        1            40.4399 |\n",
            "| train_mnist_f80bd_00003   TERMINATED   0.0198027              128   0.001             64   0.997783        1            67.3642 |\n",
            "| train_mnist_f80bd_00004   TERMINATED   0.76506                128   0.001            128   0.98455         1            59.8803 |\n",
            "| train_mnist_f80bd_00025   PENDING      0.408096               256   0.1              128                                        |\n",
            "| train_mnist_f80bd_00026   PENDING      0.878145               256   0.1              256                                        |\n",
            "+---------------------------------------------------------------------------------------------------------------------------------+\n",
            "18 more TERMINATED\n"
          ]
        },
        {
          "name": "stderr",
          "output_type": "stream",
          "text": [
            "\u001b[36m(train_mnist pid=23954)\u001b[0m WARNING: All log messages before absl::InitializeLog() is called are written to STDERR\n",
            "\u001b[36m(train_mnist pid=23954)\u001b[0m I0000 00:00:1733409840.272265   24056 service.cc:146] XLA service 0x78d5a8004820 initialized for platform CUDA (this does not guarantee that XLA will be used). Devices:\n",
            "\u001b[36m(train_mnist pid=23954)\u001b[0m I0000 00:00:1733409840.272309   24056 service.cc:154]   StreamExecutor device (0): NVIDIA L4, Compute Capability 8.9\n",
            "\u001b[36m(train_mnist pid=23954)\u001b[0m I0000 00:00:1733409847.177319   24056 device_compiler.h:188] Compiled cluster using XLA!  This line is logged at most once for the lifetime of the process.\n"
          ]
        },
        {
          "name": "stdout",
          "output_type": "stream",
          "text": [
            "Trial status: 23 TERMINATED | 2 RUNNING | 2 PENDING\n",
            "Current time: 2024-12-05 14:44:26. Total running time: 17min 32s\n",
            "Logical resource usage: 2.0/12 CPUs, 1.0/1 GPUs (0.0/1.0 accelerator_type:L4)\n",
            "Current best trial: f80bd_00007 with mean_accuracy=0.9981333613395691 and params={'conv_filters': 256, 'lr': 0.001, 'dropout': 0.00844249100058081, 'batch_size': 128}\n",
            "+---------------------------------------------------------------------------------------------------------------------------------+\n",
            "| Trial name                status         dropout     conv_filters      lr     batch_size        acc     iter     total time (s) |\n",
            "+---------------------------------------------------------------------------------------------------------------------------------+\n",
            "| train_mnist_f80bd_00023   RUNNING      0.615394               128   0.1              256                                        |\n",
            "| train_mnist_f80bd_00024   RUNNING      0.0512337              256   0.1               64                                        |\n",
            "| train_mnist_f80bd_00000   TERMINATED   0.0800099               64   0.001             64   0.997583        1            53.1455 |\n",
            "| train_mnist_f80bd_00001   TERMINATED   0.157755                64   0.001            128   0.997967        1            44.0186 |\n",
            "| train_mnist_f80bd_00002   TERMINATED   0.56265                 64   0.001            256   0.996533        1            40.4399 |\n",
            "| train_mnist_f80bd_00003   TERMINATED   0.0198027              128   0.001             64   0.997783        1            67.3642 |\n",
            "| train_mnist_f80bd_00004   TERMINATED   0.76506                128   0.001            128   0.98455         1            59.8803 |\n",
            "| train_mnist_f80bd_00025   PENDING      0.408096               256   0.1              128                                        |\n",
            "| train_mnist_f80bd_00026   PENDING      0.878145               256   0.1              256                                        |\n",
            "+---------------------------------------------------------------------------------------------------------------------------------+\n",
            "18 more TERMINATED\n",
            "\n",
            "Trial train_mnist_f80bd_00023 finished iteration 1 at 2024-12-05 14:44:53. Total running time: 17min 58s\n",
            "+--------------------------------------------------+\n",
            "| Trial train_mnist_f80bd_00023 result             |\n",
            "+--------------------------------------------------+\n",
            "| checkpoint_dir_name                              |\n",
            "| time_this_iter_s                         68.7462 |\n",
            "| time_total_s                             68.7462 |\n",
            "| training_iteration                             1 |\n",
            "| mean_accuracy                            0.10487 |\n",
            "+--------------------------------------------------+\n",
            "\n",
            "Trial train_mnist_f80bd_00023 completed after 1 iterations at 2024-12-05 14:44:53. Total running time: 17min 58s\n"
          ]
        },
        {
          "name": "stderr",
          "output_type": "stream",
          "text": [
            "\u001b[36m(pid=25087)\u001b[0m 2024-12-05 14:44:55.772760: E external/local_xla/xla/stream_executor/cuda/cuda_fft.cc:485] Unable to register cuFFT factory: Attempting to register factory for plugin cuFFT when one has already been registered\n",
            "\u001b[36m(pid=25087)\u001b[0m 2024-12-05 14:44:55.795537: E external/local_xla/xla/stream_executor/cuda/cuda_dnn.cc:8454] Unable to register cuDNN factory: Attempting to register factory for plugin cuDNN when one has already been registered\n",
            "\u001b[36m(pid=25087)\u001b[0m 2024-12-05 14:44:55.802324: E external/local_xla/xla/stream_executor/cuda/cuda_blas.cc:1452] Unable to register cuBLAS factory: Attempting to register factory for plugin cuBLAS when one has already been registered\n"
          ]
        },
        {
          "name": "stdout",
          "output_type": "stream",
          "text": [
            "\n",
            "Trial status: 24 TERMINATED | 1 RUNNING | 2 PENDING\n",
            "Current time: 2024-12-05 14:44:56. Total running time: 18min 2s\n",
            "Logical resource usage: 2.0/12 CPUs, 1.0/1 GPUs (0.0/1.0 accelerator_type:L4)\n",
            "Current best trial: f80bd_00007 with mean_accuracy=0.9981333613395691 and params={'conv_filters': 256, 'lr': 0.001, 'dropout': 0.00844249100058081, 'batch_size': 128}\n",
            "+---------------------------------------------------------------------------------------------------------------------------------+\n",
            "| Trial name                status         dropout     conv_filters      lr     batch_size        acc     iter     total time (s) |\n",
            "+---------------------------------------------------------------------------------------------------------------------------------+\n",
            "| train_mnist_f80bd_00024   RUNNING      0.0512337              256   0.1               64                                        |\n",
            "| train_mnist_f80bd_00000   TERMINATED   0.0800099               64   0.001             64   0.997583        1            53.1455 |\n",
            "| train_mnist_f80bd_00001   TERMINATED   0.157755                64   0.001            128   0.997967        1            44.0186 |\n",
            "| train_mnist_f80bd_00002   TERMINATED   0.56265                 64   0.001            256   0.996533        1            40.4399 |\n",
            "| train_mnist_f80bd_00003   TERMINATED   0.0198027              128   0.001             64   0.997783        1            67.3642 |\n",
            "| train_mnist_f80bd_00004   TERMINATED   0.76506                128   0.001            128   0.98455         1            59.8803 |\n",
            "| train_mnist_f80bd_00025   PENDING      0.408096               256   0.1              128                                        |\n",
            "| train_mnist_f80bd_00026   PENDING      0.878145               256   0.1              256                                        |\n",
            "+---------------------------------------------------------------------------------------------------------------------------------+\n",
            "19 more TERMINATED\n"
          ]
        },
        {
          "name": "stderr",
          "output_type": "stream",
          "text": [
            "\u001b[36m(pid=25087)\u001b[0m 2024-12-05 14:44:57.171567: W tensorflow/compiler/tf2tensorrt/utils/py_utils.cc:38] TF-TRT Warning: Could not find TensorRT\n"
          ]
        },
        {
          "name": "stdout",
          "output_type": "stream",
          "text": [
            "\n",
            "Trial train_mnist_f80bd_00025 started with configuration:\n",
            "+-------------------------------------------------+\n",
            "| Trial train_mnist_f80bd_00025 config            |\n",
            "+-------------------------------------------------+\n",
            "| batch_size                                  128 |\n",
            "| conv_filters                                256 |\n",
            "| dropout                                  0.4081 |\n",
            "| lr                                          0.1 |\n",
            "+-------------------------------------------------+\n"
          ]
        },
        {
          "name": "stderr",
          "output_type": "stream",
          "text": [
            "\u001b[36m(train_mnist pid=25087)\u001b[0m 2024-12-05 14:44:59.157203: W tensorflow/core/common_runtime/gpu/gpu_bfc_allocator.cc:47] Overriding orig_value setting because the TF_FORCE_GPU_ALLOW_GROWTH environment variable is set. Original config value was 0.\n",
            "\u001b[36m(train_mnist pid=25087)\u001b[0m WARNING: All log messages before absl::InitializeLog() is called are written to STDERR\n",
            "\u001b[36m(train_mnist pid=25087)\u001b[0m I0000 00:00:1733409902.107310   25218 service.cc:146] XLA service 0x7ad4a4004f30 initialized for platform CUDA (this does not guarantee that XLA will be used). Devices:\n",
            "\u001b[36m(train_mnist pid=25087)\u001b[0m I0000 00:00:1733409902.107364   25218 service.cc:154]   StreamExecutor device (0): NVIDIA L4, Compute Capability 8.9\n",
            "\u001b[36m(train_mnist pid=25087)\u001b[0m I0000 00:00:1733409913.116038   25218 device_compiler.h:188] Compiled cluster using XLA!  This line is logged at most once for the lifetime of the process.\n"
          ]
        },
        {
          "name": "stdout",
          "output_type": "stream",
          "text": [
            "\n",
            "Trial status: 24 TERMINATED | 2 RUNNING | 1 PENDING\n",
            "Current time: 2024-12-05 14:45:26. Total running time: 18min 32s\n",
            "Logical resource usage: 2.0/12 CPUs, 1.0/1 GPUs (0.0/1.0 accelerator_type:L4)\n",
            "Current best trial: f80bd_00007 with mean_accuracy=0.9981333613395691 and params={'conv_filters': 256, 'lr': 0.001, 'dropout': 0.00844249100058081, 'batch_size': 128}\n",
            "+---------------------------------------------------------------------------------------------------------------------------------+\n",
            "| Trial name                status         dropout     conv_filters      lr     batch_size        acc     iter     total time (s) |\n",
            "+---------------------------------------------------------------------------------------------------------------------------------+\n",
            "| train_mnist_f80bd_00024   RUNNING      0.0512337              256   0.1               64                                        |\n",
            "| train_mnist_f80bd_00025   RUNNING      0.408096               256   0.1              128                                        |\n",
            "| train_mnist_f80bd_00000   TERMINATED   0.0800099               64   0.001             64   0.997583        1            53.1455 |\n",
            "| train_mnist_f80bd_00001   TERMINATED   0.157755                64   0.001            128   0.997967        1            44.0186 |\n",
            "| train_mnist_f80bd_00002   TERMINATED   0.56265                 64   0.001            256   0.996533        1            40.4399 |\n",
            "| train_mnist_f80bd_00003   TERMINATED   0.0198027              128   0.001             64   0.997783        1            67.3642 |\n",
            "| train_mnist_f80bd_00004   TERMINATED   0.76506                128   0.001            128   0.98455         1            59.8803 |\n",
            "| train_mnist_f80bd_00026   PENDING      0.878145               256   0.1              256                                        |\n",
            "+---------------------------------------------------------------------------------------------------------------------------------+\n",
            "19 more TERMINATED\n",
            "Trial status: 24 TERMINATED | 2 RUNNING | 1 PENDING\n",
            "Current time: 2024-12-05 14:45:57. Total running time: 19min 2s\n",
            "Logical resource usage: 2.0/12 CPUs, 1.0/1 GPUs (0.0/1.0 accelerator_type:L4)\n",
            "Current best trial: f80bd_00007 with mean_accuracy=0.9981333613395691 and params={'conv_filters': 256, 'lr': 0.001, 'dropout': 0.00844249100058081, 'batch_size': 128}\n",
            "+---------------------------------------------------------------------------------------------------------------------------------+\n",
            "| Trial name                status         dropout     conv_filters      lr     batch_size        acc     iter     total time (s) |\n",
            "+---------------------------------------------------------------------------------------------------------------------------------+\n",
            "| train_mnist_f80bd_00024   RUNNING      0.0512337              256   0.1               64                                        |\n",
            "| train_mnist_f80bd_00025   RUNNING      0.408096               256   0.1              128                                        |\n",
            "| train_mnist_f80bd_00000   TERMINATED   0.0800099               64   0.001             64   0.997583        1            53.1455 |\n",
            "| train_mnist_f80bd_00001   TERMINATED   0.157755                64   0.001            128   0.997967        1            44.0186 |\n",
            "| train_mnist_f80bd_00002   TERMINATED   0.56265                 64   0.001            256   0.996533        1            40.4399 |\n",
            "| train_mnist_f80bd_00003   TERMINATED   0.0198027              128   0.001             64   0.997783        1            67.3642 |\n",
            "| train_mnist_f80bd_00004   TERMINATED   0.76506                128   0.001            128   0.98455         1            59.8803 |\n",
            "| train_mnist_f80bd_00026   PENDING      0.878145               256   0.1              256                                        |\n",
            "+---------------------------------------------------------------------------------------------------------------------------------+\n",
            "19 more TERMINATED\n",
            "Trial status: 24 TERMINATED | 2 RUNNING | 1 PENDING\n",
            "Current time: 2024-12-05 14:46:27. Total running time: 19min 32s\n",
            "Logical resource usage: 2.0/12 CPUs, 1.0/1 GPUs (0.0/1.0 accelerator_type:L4)\n",
            "Current best trial: f80bd_00007 with mean_accuracy=0.9981333613395691 and params={'conv_filters': 256, 'lr': 0.001, 'dropout': 0.00844249100058081, 'batch_size': 128}\n",
            "+---------------------------------------------------------------------------------------------------------------------------------+\n",
            "| Trial name                status         dropout     conv_filters      lr     batch_size        acc     iter     total time (s) |\n",
            "+---------------------------------------------------------------------------------------------------------------------------------+\n",
            "| train_mnist_f80bd_00024   RUNNING      0.0512337              256   0.1               64                                        |\n",
            "| train_mnist_f80bd_00025   RUNNING      0.408096               256   0.1              128                                        |\n",
            "| train_mnist_f80bd_00000   TERMINATED   0.0800099               64   0.001             64   0.997583        1            53.1455 |\n",
            "| train_mnist_f80bd_00001   TERMINATED   0.157755                64   0.001            128   0.997967        1            44.0186 |\n",
            "| train_mnist_f80bd_00002   TERMINATED   0.56265                 64   0.001            256   0.996533        1            40.4399 |\n",
            "| train_mnist_f80bd_00003   TERMINATED   0.0198027              128   0.001             64   0.997783        1            67.3642 |\n",
            "| train_mnist_f80bd_00004   TERMINATED   0.76506                128   0.001            128   0.98455         1            59.8803 |\n",
            "| train_mnist_f80bd_00026   PENDING      0.878145               256   0.1              256                                        |\n",
            "+---------------------------------------------------------------------------------------------------------------------------------+\n",
            "19 more TERMINATED\n",
            "\n",
            "Trial train_mnist_f80bd_00024 finished iteration 1 at 2024-12-05 14:46:48. Total running time: 19min 53s\n",
            "+--------------------------------------------------+\n",
            "| Trial train_mnist_f80bd_00024 result             |\n",
            "+--------------------------------------------------+\n",
            "| checkpoint_dir_name                              |\n",
            "| time_this_iter_s                         171.883 |\n",
            "| time_total_s                             171.883 |\n",
            "| training_iteration                             1 |\n",
            "| mean_accuracy                            0.10253 |\n",
            "+--------------------------------------------------+\n",
            "\n",
            "Trial train_mnist_f80bd_00024 completed after 1 iterations at 2024-12-05 14:46:48. Total running time: 19min 53s\n"
          ]
        },
        {
          "name": "stderr",
          "output_type": "stream",
          "text": [
            "\u001b[36m(pid=26433)\u001b[0m 2024-12-05 14:46:50.627388: E external/local_xla/xla/stream_executor/cuda/cuda_fft.cc:485] Unable to register cuFFT factory: Attempting to register factory for plugin cuFFT when one has already been registered\n",
            "\u001b[36m(pid=26433)\u001b[0m 2024-12-05 14:46:50.649995: E external/local_xla/xla/stream_executor/cuda/cuda_dnn.cc:8454] Unable to register cuDNN factory: Attempting to register factory for plugin cuDNN when one has already been registered\n",
            "\u001b[36m(pid=26433)\u001b[0m 2024-12-05 14:46:50.656529: E external/local_xla/xla/stream_executor/cuda/cuda_blas.cc:1452] Unable to register cuBLAS factory: Attempting to register factory for plugin cuBLAS when one has already been registered\n",
            "\u001b[36m(pid=26433)\u001b[0m 2024-12-05 14:46:51.905682: W tensorflow/compiler/tf2tensorrt/utils/py_utils.cc:38] TF-TRT Warning: Could not find TensorRT\n"
          ]
        },
        {
          "name": "stdout",
          "output_type": "stream",
          "text": [
            "\n",
            "Trial train_mnist_f80bd_00026 started with configuration:\n",
            "+--------------------------------------------------+\n",
            "| Trial train_mnist_f80bd_00026 config             |\n",
            "+--------------------------------------------------+\n",
            "| batch_size                                   256 |\n",
            "| conv_filters                                 256 |\n",
            "| dropout                                  0.87814 |\n",
            "| lr                                           0.1 |\n",
            "+--------------------------------------------------+\n"
          ]
        },
        {
          "name": "stderr",
          "output_type": "stream",
          "text": [
            "\u001b[36m(train_mnist pid=26433)\u001b[0m 2024-12-05 14:46:53.781238: W tensorflow/core/common_runtime/gpu/gpu_bfc_allocator.cc:47] Overriding orig_value setting because the TF_FORCE_GPU_ALLOW_GROWTH environment variable is set. Original config value was 0.\n",
            "\u001b[36m(train_mnist pid=26433)\u001b[0m WARNING: All log messages before absl::InitializeLog() is called are written to STDERR\n",
            "\u001b[36m(train_mnist pid=26433)\u001b[0m I0000 00:00:1733410016.501086   26532 service.cc:146] XLA service 0x7bcbd00041a0 initialized for platform CUDA (this does not guarantee that XLA will be used). Devices:\n",
            "\u001b[36m(train_mnist pid=26433)\u001b[0m I0000 00:00:1733410016.501132   26532 service.cc:154]   StreamExecutor device (0): NVIDIA L4, Compute Capability 8.9\n"
          ]
        },
        {
          "name": "stdout",
          "output_type": "stream",
          "text": [
            "\n",
            "Trial status: 25 TERMINATED | 2 RUNNING\n",
            "Current time: 2024-12-05 14:46:57. Total running time: 20min 2s\n",
            "Logical resource usage: 2.0/12 CPUs, 1.0/1 GPUs (0.0/1.0 accelerator_type:L4)\n",
            "Current best trial: f80bd_00007 with mean_accuracy=0.9981333613395691 and params={'conv_filters': 256, 'lr': 0.001, 'dropout': 0.00844249100058081, 'batch_size': 128}\n",
            "+---------------------------------------------------------------------------------------------------------------------------------+\n",
            "| Trial name                status         dropout     conv_filters      lr     batch_size        acc     iter     total time (s) |\n",
            "+---------------------------------------------------------------------------------------------------------------------------------+\n",
            "| train_mnist_f80bd_00025   RUNNING      0.408096               256   0.1              128                                        |\n",
            "| train_mnist_f80bd_00026   RUNNING      0.878145               256   0.1              256                                        |\n",
            "| train_mnist_f80bd_00000   TERMINATED   0.0800099               64   0.001             64   0.997583        1            53.1455 |\n",
            "| train_mnist_f80bd_00001   TERMINATED   0.157755                64   0.001            128   0.997967        1            44.0186 |\n",
            "| train_mnist_f80bd_00002   TERMINATED   0.56265                 64   0.001            256   0.996533        1            40.4399 |\n",
            "| train_mnist_f80bd_00003   TERMINATED   0.0198027              128   0.001             64   0.997783        1            67.3642 |\n",
            "| train_mnist_f80bd_00004   TERMINATED   0.76506                128   0.001            128   0.98455         1            59.8803 |\n",
            "+---------------------------------------------------------------------------------------------------------------------------------+\n",
            "20 more TERMINATED\n"
          ]
        },
        {
          "name": "stderr",
          "output_type": "stream",
          "text": [
            "\u001b[36m(train_mnist pid=26433)\u001b[0m I0000 00:00:1733410030.474018   26532 device_compiler.h:188] Compiled cluster using XLA!  This line is logged at most once for the lifetime of the process.\n"
          ]
        },
        {
          "name": "stdout",
          "output_type": "stream",
          "text": [
            "Trial status: 25 TERMINATED | 2 RUNNING\n",
            "Current time: 2024-12-05 14:47:27. Total running time: 20min 32s\n",
            "Logical resource usage: 2.0/12 CPUs, 1.0/1 GPUs (0.0/1.0 accelerator_type:L4)\n",
            "Current best trial: f80bd_00007 with mean_accuracy=0.9981333613395691 and params={'conv_filters': 256, 'lr': 0.001, 'dropout': 0.00844249100058081, 'batch_size': 128}\n",
            "+---------------------------------------------------------------------------------------------------------------------------------+\n",
            "| Trial name                status         dropout     conv_filters      lr     batch_size        acc     iter     total time (s) |\n",
            "+---------------------------------------------------------------------------------------------------------------------------------+\n",
            "| train_mnist_f80bd_00025   RUNNING      0.408096               256   0.1              128                                        |\n",
            "| train_mnist_f80bd_00026   RUNNING      0.878145               256   0.1              256                                        |\n",
            "| train_mnist_f80bd_00000   TERMINATED   0.0800099               64   0.001             64   0.997583        1            53.1455 |\n",
            "| train_mnist_f80bd_00001   TERMINATED   0.157755                64   0.001            128   0.997967        1            44.0186 |\n",
            "| train_mnist_f80bd_00002   TERMINATED   0.56265                 64   0.001            256   0.996533        1            40.4399 |\n",
            "| train_mnist_f80bd_00003   TERMINATED   0.0198027              128   0.001             64   0.997783        1            67.3642 |\n",
            "| train_mnist_f80bd_00004   TERMINATED   0.76506                128   0.001            128   0.98455         1            59.8803 |\n",
            "+---------------------------------------------------------------------------------------------------------------------------------+\n",
            "20 more TERMINATED\n",
            "\n",
            "Trial train_mnist_f80bd_00025 finished iteration 1 at 2024-12-05 14:47:32. Total running time: 20min 37s\n",
            "+--------------------------------------------------+\n",
            "| Trial train_mnist_f80bd_00025 result             |\n",
            "+--------------------------------------------------+\n",
            "| checkpoint_dir_name                              |\n",
            "| time_this_iter_s                         153.712 |\n",
            "| time_total_s                             153.712 |\n",
            "| training_iteration                             1 |\n",
            "| mean_accuracy                            0.10333 |\n",
            "+--------------------------------------------------+\n",
            "\n",
            "Trial train_mnist_f80bd_00025 completed after 1 iterations at 2024-12-05 14:47:32. Total running time: 20min 37s\n",
            "\n",
            "Trial status: 26 TERMINATED | 1 RUNNING\n",
            "Current time: 2024-12-05 14:47:57. Total running time: 21min 2s\n",
            "Logical resource usage: 1.0/12 CPUs, 0.5/1 GPUs (0.0/1.0 accelerator_type:L4)\n",
            "Current best trial: f80bd_00007 with mean_accuracy=0.9981333613395691 and params={'conv_filters': 256, 'lr': 0.001, 'dropout': 0.00844249100058081, 'batch_size': 128}\n",
            "+---------------------------------------------------------------------------------------------------------------------------------+\n",
            "| Trial name                status         dropout     conv_filters      lr     batch_size        acc     iter     total time (s) |\n",
            "+---------------------------------------------------------------------------------------------------------------------------------+\n",
            "| train_mnist_f80bd_00026   RUNNING      0.878145               256   0.1              256                                        |\n",
            "| train_mnist_f80bd_00000   TERMINATED   0.0800099               64   0.001             64   0.997583        1            53.1455 |\n",
            "| train_mnist_f80bd_00001   TERMINATED   0.157755                64   0.001            128   0.997967        1            44.0186 |\n",
            "| train_mnist_f80bd_00002   TERMINATED   0.56265                 64   0.001            256   0.996533        1            40.4399 |\n",
            "| train_mnist_f80bd_00003   TERMINATED   0.0198027              128   0.001             64   0.997783        1            67.3642 |\n",
            "| train_mnist_f80bd_00004   TERMINATED   0.76506                128   0.001            128   0.98455         1            59.8803 |\n",
            "+---------------------------------------------------------------------------------------------------------------------------------+\n",
            "21 more TERMINATED\n",
            "Trial status: 26 TERMINATED | 1 RUNNING\n",
            "Current time: 2024-12-05 14:48:27. Total running time: 21min 32s\n",
            "Logical resource usage: 1.0/12 CPUs, 0.5/1 GPUs (0.0/1.0 accelerator_type:L4)\n",
            "Current best trial: f80bd_00007 with mean_accuracy=0.9981333613395691 and params={'conv_filters': 256, 'lr': 0.001, 'dropout': 0.00844249100058081, 'batch_size': 128}\n",
            "+---------------------------------------------------------------------------------------------------------------------------------+\n",
            "| Trial name                status         dropout     conv_filters      lr     batch_size        acc     iter     total time (s) |\n",
            "+---------------------------------------------------------------------------------------------------------------------------------+\n",
            "| train_mnist_f80bd_00026   RUNNING      0.878145               256   0.1              256                                        |\n",
            "| train_mnist_f80bd_00000   TERMINATED   0.0800099               64   0.001             64   0.997583        1            53.1455 |\n",
            "| train_mnist_f80bd_00001   TERMINATED   0.157755                64   0.001            128   0.997967        1            44.0186 |\n",
            "| train_mnist_f80bd_00002   TERMINATED   0.56265                 64   0.001            256   0.996533        1            40.4399 |\n",
            "| train_mnist_f80bd_00003   TERMINATED   0.0198027              128   0.001             64   0.997783        1            67.3642 |\n",
            "| train_mnist_f80bd_00004   TERMINATED   0.76506                128   0.001            128   0.98455         1            59.8803 |\n",
            "+---------------------------------------------------------------------------------------------------------------------------------+\n",
            "21 more TERMINATED\n"
          ]
        },
        {
          "name": "stderr",
          "output_type": "stream",
          "text": [
            "2024-12-05 14:48:42,236\tINFO tune.py:1009 -- Wrote the latest version of all result files and experiment state to '/root/ray_results/train_mnist_2024-12-05_14-26-51' in 0.0086s.\n"
          ]
        },
        {
          "name": "stdout",
          "output_type": "stream",
          "text": [
            "\n",
            "Trial train_mnist_f80bd_00026 finished iteration 1 at 2024-12-05 14:48:42. Total running time: 21min 47s\n",
            "+--------------------------------------------------+\n",
            "| Trial train_mnist_f80bd_00026 result             |\n",
            "+--------------------------------------------------+\n",
            "| checkpoint_dir_name                              |\n",
            "| time_this_iter_s                         109.028 |\n",
            "| time_total_s                             109.028 |\n",
            "| training_iteration                             1 |\n",
            "| mean_accuracy                            0.10482 |\n",
            "+--------------------------------------------------+\n",
            "\n",
            "Trial train_mnist_f80bd_00026 completed after 1 iterations at 2024-12-05 14:48:42. Total running time: 21min 47s\n",
            "\n",
            "Trial status: 27 TERMINATED\n",
            "Current time: 2024-12-05 14:48:42. Total running time: 21min 47s\n",
            "Logical resource usage: 1.0/12 CPUs, 0.5/1 GPUs (0.0/1.0 accelerator_type:L4)\n",
            "Current best trial: f80bd_00007 with mean_accuracy=0.9981333613395691 and params={'conv_filters': 256, 'lr': 0.001, 'dropout': 0.00844249100058081, 'batch_size': 128}\n",
            "+----------------------------------------------------------------------------------------------------------------------------------+\n",
            "| Trial name                status          dropout     conv_filters      lr     batch_size        acc     iter     total time (s) |\n",
            "+----------------------------------------------------------------------------------------------------------------------------------+\n",
            "| train_mnist_f80bd_00000   TERMINATED   0.0800099                64   0.001             64   0.997583        1            53.1455 |\n",
            "| train_mnist_f80bd_00001   TERMINATED   0.157755                 64   0.001            128   0.997967        1            44.0186 |\n",
            "| train_mnist_f80bd_00002   TERMINATED   0.56265                  64   0.001            256   0.996533        1            40.4399 |\n",
            "| train_mnist_f80bd_00003   TERMINATED   0.0198027               128   0.001             64   0.997783        1            67.3642 |\n",
            "| train_mnist_f80bd_00004   TERMINATED   0.76506                 128   0.001            128   0.98455         1            59.8803 |\n",
            "| train_mnist_f80bd_00005   TERMINATED   0.628439                128   0.001            256   0.996417        1            64.1189 |\n",
            "| train_mnist_f80bd_00006   TERMINATED   0.407241                256   0.001             64   0.997617        1           180.512  |\n",
            "| train_mnist_f80bd_00007   TERMINATED   0.00844249              256   0.001            128   0.998133        1           161.731  |\n",
            "| train_mnist_f80bd_00008   TERMINATED   0.945128                256   0.001            256   0.59305         1           122.647  |\n",
            "| train_mnist_f80bd_00009   TERMINATED   0.498486                 64   0.01              64   0.97895         1            83.3411 |\n",
            "| train_mnist_f80bd_00010   TERMINATED   0.805977                 64   0.01             128   0.111383        1            43.7985 |\n",
            "| train_mnist_f80bd_00011   TERMINATED   0.831537                 64   0.01             256   0.921667        1            36.4322 |\n",
            "| train_mnist_f80bd_00012   TERMINATED   0.501939                128   0.01              64   0.970817        1            74.5761 |\n",
            "| train_mnist_f80bd_00013   TERMINATED   0.415879                128   0.01             128   0.98585         1            60.7309 |\n",
            "| train_mnist_f80bd_00014   TERMINATED   0.225188                128   0.01             256   0.991283        1            76.3839 |\n",
            "| train_mnist_f80bd_00015   TERMINATED   0.386098                256   0.01              64   0.9772          1           161.142  |\n",
            "| train_mnist_f80bd_00016   TERMINATED   0.0778066               256   0.01             128   0.98565         1           155.882  |\n",
            "| train_mnist_f80bd_00017   TERMINATED   0.363803                256   0.01             256   0.1117          1           134.93   |\n",
            "| train_mnist_f80bd_00018   TERMINATED   0.398897                 64   0.1               64   0.10305         1            69.2954 |\n",
            "| train_mnist_f80bd_00019   TERMINATED   0.123644                 64   0.1              128   0.105317        1            43.5329 |\n",
            "| train_mnist_f80bd_00020   TERMINATED   0.427534                 64   0.1              256   0.10505         1            37.4677 |\n",
            "| train_mnist_f80bd_00021   TERMINATED   0.350408                128   0.1               64   0.105467        1            74.0165 |\n",
            "| train_mnist_f80bd_00022   TERMINATED   0.885897                128   0.1              128   0.10285         1            60.2665 |\n",
            "| train_mnist_f80bd_00023   TERMINATED   0.615394                128   0.1              256   0.104867        1            68.7461 |\n",
            "| train_mnist_f80bd_00024   TERMINATED   0.0512337               256   0.1               64   0.102533        1           171.883  |\n",
            "| train_mnist_f80bd_00025   TERMINATED   0.408096                256   0.1              128   0.103333        1           153.712  |\n",
            "| train_mnist_f80bd_00026   TERMINATED   0.878145                256   0.1              256   0.104817        1           109.028  |\n",
            "+----------------------------------------------------------------------------------------------------------------------------------+\n",
            "\n"
          ]
        }
      ],
      "source": [
        "import time\n",
        "start_time = time.time()\n",
        "analysis = tune.run(\n",
        "    train_mnist,\n",
        "    resources_per_trial={\"cpu\": 1, \"gpu\": 0.5},\n",
        "    config={\n",
        "        \"conv_filters\": tune.grid_search([64, 128, 256]),\n",
        "        \"lr\": tune.grid_search([0.001, 0.01, 0.1]),\n",
        "        \"dropout\": tune.uniform(0, 1),\n",
        "        \"batch_size\": tune.grid_search([64, 128, 256]),\n",
        "    },\n",
        "    metric=\"mean_accuracy\",\n",
        "    mode=\"max\"\n",
        ")\n",
        "end_time = time.time()\n"
      ]
    },
    {
      "cell_type": "code",
      "execution_count": null,
      "metadata": {
        "colab": {
          "base_uri": "https://localhost:8080/"
        },
        "id": "kE-9dmfbMyhD",
        "outputId": "ea472bdd-11c4-4423-e673-97c42a6c5df6"
      },
      "outputs": [
        {
          "name": "stdout",
          "output_type": "stream",
          "text": [
            "Best hyperparameters found were:  {'conv_filters': 256, 'lr': 0.001, 'dropout': 0.00844249100058081, 'batch_size': 128}\n",
            "Best accuracy: 0.9981\n",
            "Time taken: 1310.90 seconds\n"
          ]
        }
      ],
      "source": [
        "print(\"Best hyperparameters found were: \", analysis.best_config)\n",
        "best_trial = analysis.best_trial    # 最佳试验\n",
        "best_accuracy = best_trial.last_result[\"mean_accuracy\"]\n",
        "print(f\"Best accuracy: {best_accuracy:.4f}\")\n",
        "time_taken = end_time - start_time\n",
        "print(f\"Time taken: {time_taken:.2f} seconds\")"
      ]
    },
    {
      "cell_type": "markdown",
      "metadata": {
        "id": "kH8k7hYYN5ZI"
      },
      "source": [
        "#### hyperband\n"
      ]
    },
    {
      "cell_type": "code",
      "execution_count": null,
      "metadata": {
        "id": "_8X_aWliN49o"
      },
      "outputs": [],
      "source": [
        "from ray.tune.schedulers import HyperBandScheduler\n",
        "hyperband_scheduler = HyperBandScheduler(\n",
        "    time_attr='training_iteration',\n",
        "    metric='mean_accuracy',\n",
        "    mode='max',\n",
        "    max_t=10,\n",
        "    reduction_factor=3)"
      ]
    },
    {
      "cell_type": "code",
      "execution_count": null,
      "metadata": {
        "colab": {
          "base_uri": "https://localhost:8080/"
        },
        "id": "eiZsjbY2OHCa",
        "outputId": "94e4ef68-a7d4-4c01-e887-36a8c54ad592"
      },
      "outputs": [
        {
          "name": "stdout",
          "output_type": "stream",
          "text": [
            "+--------------------------------------------------------+\n",
            "| Configuration for experiment     exp                   |\n",
            "+--------------------------------------------------------+\n",
            "| Search algorithm                 BasicVariantGenerator |\n",
            "| Scheduler                        HyperBandScheduler    |\n",
            "| Number of trials                 3                     |\n",
            "+--------------------------------------------------------+\n",
            "\n",
            "View detailed results here: /root/ray_results/exp\n",
            "To visualize your results with TensorBoard, run: `tensorboard --logdir /tmp/ray/session_2024-12-05_14-26-48_632070_1199/artifacts/2024-12-05_14-49-31/exp/driver_artifacts`\n",
            "\n",
            "Trial status: 3 PENDING\n",
            "Current time: 2024-12-05 14:49:31. Total running time: 0s\n",
            "Logical resource usage: 4.0/12 CPUs, 1.0/1 GPUs (0.0/1.0 accelerator_type:L4)\n",
            "+---------------------------------------------------------------------------------------------+\n",
            "| Trial name                status       conv_filters     dropout           lr     batch_size |\n",
            "+---------------------------------------------------------------------------------------------+\n",
            "| train_mnist_228ce_00000   PENDING               167    0.386379   0.0500024              64 |\n",
            "| train_mnist_228ce_00001   PENDING               193    0.802119   0.0457266             128 |\n",
            "| train_mnist_228ce_00002   PENDING               164    0.511372   0.00516603            256 |\n",
            "+---------------------------------------------------------------------------------------------+\n"
          ]
        },
        {
          "name": "stderr",
          "output_type": "stream",
          "text": [
            "\u001b[36m(pid=27967)\u001b[0m 2024-12-05 14:49:32.987114: E external/local_xla/xla/stream_executor/cuda/cuda_fft.cc:485] Unable to register cuFFT factory: Attempting to register factory for plugin cuFFT when one has already been registered\n",
            "\u001b[36m(pid=27967)\u001b[0m 2024-12-05 14:49:33.009166: E external/local_xla/xla/stream_executor/cuda/cuda_dnn.cc:8454] Unable to register cuDNN factory: Attempting to register factory for plugin cuDNN when one has already been registered\n",
            "\u001b[36m(pid=27967)\u001b[0m 2024-12-05 14:49:33.016040: E external/local_xla/xla/stream_executor/cuda/cuda_blas.cc:1452] Unable to register cuBLAS factory: Attempting to register factory for plugin cuBLAS when one has already been registered\n",
            "\u001b[36m(pid=27967)\u001b[0m 2024-12-05 14:49:34.194034: W tensorflow/compiler/tf2tensorrt/utils/py_utils.cc:38] TF-TRT Warning: Could not find TensorRT\n"
          ]
        },
        {
          "name": "stdout",
          "output_type": "stream",
          "text": [
            "\n",
            "Trial train_mnist_228ce_00000 started with configuration:\n",
            "+--------------------------------------------------+\n",
            "| Trial train_mnist_228ce_00000 config             |\n",
            "+--------------------------------------------------+\n",
            "| batch_size                                    64 |\n",
            "| conv_filters                                 167 |\n",
            "| dropout                                  0.38638 |\n",
            "| lr                                          0.05 |\n",
            "+--------------------------------------------------+\n"
          ]
        },
        {
          "name": "stderr",
          "output_type": "stream",
          "text": [
            "\u001b[36m(train_mnist pid=27967)\u001b[0m 2024-12-05 14:49:36.004460: W tensorflow/core/common_runtime/gpu/gpu_bfc_allocator.cc:47] Overriding orig_value setting because the TF_FORCE_GPU_ALLOW_GROWTH environment variable is set. Original config value was 0.\n",
            "\u001b[36m(train_mnist pid=27967)\u001b[0m WARNING: All log messages before absl::InitializeLog() is called are written to STDERR\n",
            "\u001b[36m(train_mnist pid=27967)\u001b[0m I0000 00:00:1733410178.584228   28083 service.cc:146] XLA service 0x7cb6e4005830 initialized for platform CUDA (this does not guarantee that XLA will be used). Devices:\n",
            "\u001b[36m(train_mnist pid=27967)\u001b[0m I0000 00:00:1733410178.584276   28083 service.cc:154]   StreamExecutor device (0): NVIDIA L4, Compute Capability 8.9\n",
            "\u001b[36m(train_mnist pid=27967)\u001b[0m I0000 00:00:1733410184.043662   28083 device_compiler.h:188] Compiled cluster using XLA!  This line is logged at most once for the lifetime of the process.\n"
          ]
        },
        {
          "name": "stdout",
          "output_type": "stream",
          "text": [
            "\n",
            "Trial status: 1 RUNNING | 2 PENDING\n",
            "Current time: 2024-12-05 14:50:01. Total running time: 30s\n",
            "Logical resource usage: 4.0/12 CPUs, 1.0/1 GPUs (0.0/1.0 accelerator_type:L4)\n",
            "+---------------------------------------------------------------------------------------------+\n",
            "| Trial name                status       conv_filters     dropout           lr     batch_size |\n",
            "+---------------------------------------------------------------------------------------------+\n",
            "| train_mnist_228ce_00000   RUNNING               167    0.386379   0.0500024              64 |\n",
            "| train_mnist_228ce_00001   PENDING               193    0.802119   0.0457266             128 |\n",
            "| train_mnist_228ce_00002   PENDING               164    0.511372   0.00516603            256 |\n",
            "+---------------------------------------------------------------------------------------------+\n",
            "Trial status: 1 RUNNING | 2 PENDING\n",
            "Current time: 2024-12-05 14:50:31. Total running time: 1min 0s\n",
            "Logical resource usage: 4.0/12 CPUs, 1.0/1 GPUs (0.0/1.0 accelerator_type:L4)\n",
            "+---------------------------------------------------------------------------------------------+\n",
            "| Trial name                status       conv_filters     dropout           lr     batch_size |\n",
            "+---------------------------------------------------------------------------------------------+\n",
            "| train_mnist_228ce_00000   RUNNING               167    0.386379   0.0500024              64 |\n",
            "| train_mnist_228ce_00001   PENDING               193    0.802119   0.0457266             128 |\n",
            "| train_mnist_228ce_00002   PENDING               164    0.511372   0.00516603            256 |\n",
            "+---------------------------------------------------------------------------------------------+\n",
            "\n",
            "Trial train_mnist_228ce_00000 finished iteration 1 at 2024-12-05 14:50:42. Total running time: 1min 11s\n",
            "+--------------------------------------------------+\n",
            "| Trial train_mnist_228ce_00000 result             |\n",
            "+--------------------------------------------------+\n",
            "| checkpoint_dir_name                              |\n",
            "| time_this_iter_s                          66.898 |\n",
            "| time_total_s                              66.898 |\n",
            "| training_iteration                             1 |\n",
            "| mean_accuracy                            0.10307 |\n",
            "+--------------------------------------------------+\n",
            "\n",
            "Trial train_mnist_228ce_00000 completed after 1 iterations at 2024-12-05 14:50:42. Total running time: 1min 11s\n"
          ]
        },
        {
          "name": "stderr",
          "output_type": "stream",
          "text": [
            "\u001b[36m(pid=28959)\u001b[0m 2024-12-05 14:50:44.573305: E external/local_xla/xla/stream_executor/cuda/cuda_fft.cc:485] Unable to register cuFFT factory: Attempting to register factory for plugin cuFFT when one has already been registered\n",
            "\u001b[36m(pid=28959)\u001b[0m 2024-12-05 14:50:44.594768: E external/local_xla/xla/stream_executor/cuda/cuda_dnn.cc:8454] Unable to register cuDNN factory: Attempting to register factory for plugin cuDNN when one has already been registered\n",
            "\u001b[36m(pid=28959)\u001b[0m 2024-12-05 14:50:44.601212: E external/local_xla/xla/stream_executor/cuda/cuda_blas.cc:1452] Unable to register cuBLAS factory: Attempting to register factory for plugin cuBLAS when one has already been registered\n",
            "\u001b[36m(pid=28959)\u001b[0m 2024-12-05 14:50:45.777244: W tensorflow/compiler/tf2tensorrt/utils/py_utils.cc:38] TF-TRT Warning: Could not find TensorRT\n"
          ]
        },
        {
          "name": "stdout",
          "output_type": "stream",
          "text": [
            "\n",
            "Trial train_mnist_228ce_00001 started with configuration:\n",
            "+--------------------------------------------------+\n",
            "| Trial train_mnist_228ce_00001 config             |\n",
            "+--------------------------------------------------+\n",
            "| batch_size                                   128 |\n",
            "| conv_filters                                 193 |\n",
            "| dropout                                  0.80212 |\n",
            "| lr                                       0.04573 |\n",
            "+--------------------------------------------------+\n"
          ]
        },
        {
          "name": "stderr",
          "output_type": "stream",
          "text": [
            "\u001b[36m(train_mnist pid=28959)\u001b[0m 2024-12-05 14:50:47.566382: W tensorflow/core/common_runtime/gpu/gpu_bfc_allocator.cc:47] Overriding orig_value setting because the TF_FORCE_GPU_ALLOW_GROWTH environment variable is set. Original config value was 0.\n",
            "\u001b[36m(train_mnist pid=28959)\u001b[0m WARNING: All log messages before absl::InitializeLog() is called are written to STDERR\n",
            "\u001b[36m(train_mnist pid=28959)\u001b[0m I0000 00:00:1733410250.208301   29070 service.cc:146] XLA service 0x7a9098006180 initialized for platform CUDA (this does not guarantee that XLA will be used). Devices:\n",
            "\u001b[36m(train_mnist pid=28959)\u001b[0m I0000 00:00:1733410250.208349   29070 service.cc:154]   StreamExecutor device (0): NVIDIA L4, Compute Capability 8.9\n",
            "\u001b[36m(train_mnist pid=28959)\u001b[0m I0000 00:00:1733410257.373853   29070 device_compiler.h:188] Compiled cluster using XLA!  This line is logged at most once for the lifetime of the process.\n"
          ]
        },
        {
          "name": "stdout",
          "output_type": "stream",
          "text": [
            "\n",
            "Trial status: 1 TERMINATED | 1 RUNNING | 1 PENDING\n",
            "Current time: 2024-12-05 14:51:01. Total running time: 1min 30s\n",
            "Logical resource usage: 4.0/12 CPUs, 1.0/1 GPUs (0.0/1.0 accelerator_type:L4)\n",
            "+--------------------------------------------------------------------------------------------------------------------------------------+\n",
            "| Trial name                status         conv_filters     dropout           lr     batch_size        acc     iter     total time (s) |\n",
            "+--------------------------------------------------------------------------------------------------------------------------------------+\n",
            "| train_mnist_228ce_00001   RUNNING                 193    0.802119   0.0457266             128                                        |\n",
            "| train_mnist_228ce_00000   TERMINATED              167    0.386379   0.0500024              64   0.103067        1             66.898 |\n",
            "| train_mnist_228ce_00002   PENDING                 164    0.511372   0.00516603            256                                        |\n",
            "+--------------------------------------------------------------------------------------------------------------------------------------+\n",
            "Trial status: 1 TERMINATED | 1 RUNNING | 1 PENDING\n",
            "Current time: 2024-12-05 14:51:31. Total running time: 2min 0s\n",
            "Logical resource usage: 4.0/12 CPUs, 1.0/1 GPUs (0.0/1.0 accelerator_type:L4)\n",
            "+--------------------------------------------------------------------------------------------------------------------------------------+\n",
            "| Trial name                status         conv_filters     dropout           lr     batch_size        acc     iter     total time (s) |\n",
            "+--------------------------------------------------------------------------------------------------------------------------------------+\n",
            "| train_mnist_228ce_00001   RUNNING                 193    0.802119   0.0457266             128                                        |\n",
            "| train_mnist_228ce_00000   TERMINATED              167    0.386379   0.0500024              64   0.103067        1             66.898 |\n",
            "| train_mnist_228ce_00002   PENDING                 164    0.511372   0.00516603            256                                        |\n",
            "+--------------------------------------------------------------------------------------------------------------------------------------+\n",
            "Trial status: 1 TERMINATED | 1 RUNNING | 1 PENDING\n",
            "Current time: 2024-12-05 14:52:01. Total running time: 2min 30s\n",
            "Logical resource usage: 4.0/12 CPUs, 1.0/1 GPUs (0.0/1.0 accelerator_type:L4)\n",
            "+--------------------------------------------------------------------------------------------------------------------------------------+\n",
            "| Trial name                status         conv_filters     dropout           lr     batch_size        acc     iter     total time (s) |\n",
            "+--------------------------------------------------------------------------------------------------------------------------------------+\n",
            "| train_mnist_228ce_00001   RUNNING                 193    0.802119   0.0457266             128                                        |\n",
            "| train_mnist_228ce_00000   TERMINATED              167    0.386379   0.0500024              64   0.103067        1             66.898 |\n",
            "| train_mnist_228ce_00002   PENDING                 164    0.511372   0.00516603            256                                        |\n",
            "+--------------------------------------------------------------------------------------------------------------------------------------+\n",
            "\n",
            "Trial train_mnist_228ce_00001 finished iteration 1 at 2024-12-05 14:52:06. Total running time: 2min 34s\n",
            "+--------------------------------------------------+\n",
            "| Trial train_mnist_228ce_00001 result             |\n",
            "+--------------------------------------------------+\n",
            "| checkpoint_dir_name                              |\n",
            "| time_this_iter_s                         79.1913 |\n",
            "| time_total_s                             79.1913 |\n",
            "| training_iteration                             1 |\n",
            "| mean_accuracy                            0.10532 |\n",
            "+--------------------------------------------------+\n",
            "\n",
            "Trial train_mnist_228ce_00001 completed after 1 iterations at 2024-12-05 14:52:06. Total running time: 2min 34s\n"
          ]
        },
        {
          "name": "stderr",
          "output_type": "stream",
          "text": [
            "\u001b[36m(pid=30018)\u001b[0m 2024-12-05 14:52:08.604617: E external/local_xla/xla/stream_executor/cuda/cuda_fft.cc:485] Unable to register cuFFT factory: Attempting to register factory for plugin cuFFT when one has already been registered\n",
            "\u001b[36m(pid=30018)\u001b[0m 2024-12-05 14:52:08.626509: E external/local_xla/xla/stream_executor/cuda/cuda_dnn.cc:8454] Unable to register cuDNN factory: Attempting to register factory for plugin cuDNN when one has already been registered\n",
            "\u001b[36m(pid=30018)\u001b[0m 2024-12-05 14:52:08.633078: E external/local_xla/xla/stream_executor/cuda/cuda_blas.cc:1452] Unable to register cuBLAS factory: Attempting to register factory for plugin cuBLAS when one has already been registered\n",
            "\u001b[36m(pid=30018)\u001b[0m 2024-12-05 14:52:09.810186: W tensorflow/compiler/tf2tensorrt/utils/py_utils.cc:38] TF-TRT Warning: Could not find TensorRT\n"
          ]
        },
        {
          "name": "stdout",
          "output_type": "stream",
          "text": [
            "\n",
            "Trial train_mnist_228ce_00002 started with configuration:\n",
            "+--------------------------------------------------+\n",
            "| Trial train_mnist_228ce_00002 config             |\n",
            "+--------------------------------------------------+\n",
            "| batch_size                                   256 |\n",
            "| conv_filters                                 164 |\n",
            "| dropout                                  0.51137 |\n",
            "| lr                                       0.00517 |\n",
            "+--------------------------------------------------+\n"
          ]
        },
        {
          "name": "stderr",
          "output_type": "stream",
          "text": [
            "\u001b[36m(train_mnist pid=30018)\u001b[0m 2024-12-05 14:52:11.636987: W tensorflow/core/common_runtime/gpu/gpu_bfc_allocator.cc:47] Overriding orig_value setting because the TF_FORCE_GPU_ALLOW_GROWTH environment variable is set. Original config value was 0.\n",
            "\u001b[36m(train_mnist pid=30018)\u001b[0m WARNING: All log messages before absl::InitializeLog() is called are written to STDERR\n",
            "\u001b[36m(train_mnist pid=30018)\u001b[0m I0000 00:00:1733410334.200745   30124 service.cc:146] XLA service 0x7b06b8004b60 initialized for platform CUDA (this does not guarantee that XLA will be used). Devices:\n",
            "\u001b[36m(train_mnist pid=30018)\u001b[0m I0000 00:00:1733410334.200796   30124 service.cc:154]   StreamExecutor device (0): NVIDIA L4, Compute Capability 8.9\n",
            "\u001b[36m(train_mnist pid=30018)\u001b[0m I0000 00:00:1733410341.726123   30124 device_compiler.h:188] Compiled cluster using XLA!  This line is logged at most once for the lifetime of the process.\n"
          ]
        },
        {
          "name": "stdout",
          "output_type": "stream",
          "text": [
            "\n",
            "Trial status: 2 TERMINATED | 1 RUNNING\n",
            "Current time: 2024-12-05 14:52:31. Total running time: 3min 0s\n",
            "Logical resource usage: 4.0/12 CPUs, 1.0/1 GPUs (0.0/1.0 accelerator_type:L4)\n",
            "+--------------------------------------------------------------------------------------------------------------------------------------+\n",
            "| Trial name                status         conv_filters     dropout           lr     batch_size        acc     iter     total time (s) |\n",
            "+--------------------------------------------------------------------------------------------------------------------------------------+\n",
            "| train_mnist_228ce_00002   RUNNING                 164    0.511372   0.00516603            256                                        |\n",
            "| train_mnist_228ce_00000   TERMINATED              167    0.386379   0.0500024              64   0.103067        1            66.898  |\n",
            "| train_mnist_228ce_00001   TERMINATED              193    0.802119   0.0457266             128   0.105317        1            79.1913 |\n",
            "+--------------------------------------------------------------------------------------------------------------------------------------+\n",
            "Trial status: 2 TERMINATED | 1 RUNNING\n",
            "Current time: 2024-12-05 14:53:01. Total running time: 3min 30s\n",
            "Logical resource usage: 4.0/12 CPUs, 1.0/1 GPUs (0.0/1.0 accelerator_type:L4)\n",
            "+--------------------------------------------------------------------------------------------------------------------------------------+\n",
            "| Trial name                status         conv_filters     dropout           lr     batch_size        acc     iter     total time (s) |\n",
            "+--------------------------------------------------------------------------------------------------------------------------------------+\n",
            "| train_mnist_228ce_00002   RUNNING                 164    0.511372   0.00516603            256                                        |\n",
            "| train_mnist_228ce_00000   TERMINATED              167    0.386379   0.0500024              64   0.103067        1            66.898  |\n",
            "| train_mnist_228ce_00001   TERMINATED              193    0.802119   0.0457266             128   0.105317        1            79.1913 |\n",
            "+--------------------------------------------------------------------------------------------------------------------------------------+\n"
          ]
        },
        {
          "name": "stderr",
          "output_type": "stream",
          "text": [
            "2024-12-05 14:53:16,003\tINFO tune.py:1009 -- Wrote the latest version of all result files and experiment state to '/root/ray_results/exp' in 0.0041s.\n"
          ]
        },
        {
          "name": "stdout",
          "output_type": "stream",
          "text": [
            "\n",
            "Trial train_mnist_228ce_00002 finished iteration 1 at 2024-12-05 14:53:15. Total running time: 3min 44s\n",
            "+--------------------------------------------------+\n",
            "| Trial train_mnist_228ce_00002 result             |\n",
            "+--------------------------------------------------+\n",
            "| checkpoint_dir_name                              |\n",
            "| time_this_iter_s                         64.9514 |\n",
            "| time_total_s                             64.9514 |\n",
            "| training_iteration                             1 |\n",
            "| mean_accuracy                            0.99435 |\n",
            "+--------------------------------------------------+\n",
            "\n",
            "Trial train_mnist_228ce_00002 completed after 1 iterations at 2024-12-05 14:53:15. Total running time: 3min 44s\n",
            "\n",
            "Trial status: 3 TERMINATED\n",
            "Current time: 2024-12-05 14:53:16. Total running time: 3min 44s\n",
            "Logical resource usage: 4.0/12 CPUs, 1.0/1 GPUs (0.0/1.0 accelerator_type:L4)\n",
            "+--------------------------------------------------------------------------------------------------------------------------------------+\n",
            "| Trial name                status         conv_filters     dropout           lr     batch_size        acc     iter     total time (s) |\n",
            "+--------------------------------------------------------------------------------------------------------------------------------------+\n",
            "| train_mnist_228ce_00000   TERMINATED              167    0.386379   0.0500024              64   0.103067        1            66.898  |\n",
            "| train_mnist_228ce_00001   TERMINATED              193    0.802119   0.0457266             128   0.105317        1            79.1913 |\n",
            "| train_mnist_228ce_00002   TERMINATED              164    0.511372   0.00516603            256   0.99435         1            64.9514 |\n",
            "+--------------------------------------------------------------------------------------------------------------------------------------+\n",
            "\n"
          ]
        }
      ],
      "source": [
        "start_time = time.time()\n",
        "\n",
        "analysis = tune.run(\n",
        "        train_mnist,\n",
        "        name=\"exp\",\n",
        "        resources_per_trial={\n",
        "            \"gpu\": 1,\n",
        "            \"cpu\": 4\n",
        "        },\n",
        "        config={\n",
        "            \"conv_filters\": tune.randint(64,256),\n",
        "\n",
        "            \"batch_size\": tune.grid_search([64, 128, 256]),\n",
        "            \"dropout\": tune.uniform(0, 1),\n",
        "            \"lr\": tune.uniform(0.001, 0.1)\n",
        "        },\n",
        "        scheduler=hyperband_scheduler,\n",
        "        )\n",
        "end_time = time.time()"
      ]
    },
    {
      "cell_type": "code",
      "execution_count": null,
      "metadata": {
        "colab": {
          "base_uri": "https://localhost:8080/"
        },
        "id": "9uSpDp2YOOmY",
        "outputId": "0ffea1e5-ff56-4d55-8bdc-a4f8311bedbb"
      },
      "outputs": [
        {
          "name": "stdout",
          "output_type": "stream",
          "text": [
            "{'conv_filters': 164, 'batch_size': 256, 'dropout': 0.5113715690967947, 'lr': 0.005166029382817264}\n",
            "0.994350016117096\n",
            "Time taken: 224.82 seconds\n"
          ]
        }
      ],
      "source": [
        "best_trial = analysis.get_best_trial(\"mean_accuracy\", \"max\", \"last\")\n",
        "best_accuracy = best_trial.metric_analysis[\"mean_accuracy\"][\"last\"]\n",
        "best_trial_config = best_trial.config\n",
        "print(best_trial_config)\n",
        "print(best_accuracy)\n",
        "time_taken = end_time - start_time\n",
        "print(f\"Time taken: {time_taken:.2f} seconds\")"
      ]
    },
    {
      "cell_type": "markdown",
      "metadata": {
        "id": "axbD6CDINDRs"
      },
      "source": [
        "### Bayesian\n"
      ]
    },
    {
      "cell_type": "code",
      "execution_count": null,
      "metadata": {
        "id": "c8G8StqTNGDZ"
      },
      "outputs": [],
      "source": [
        "import time\n",
        "from ray import train, tune\n",
        "import torch\n",
        "import torch.nn as nn\n",
        "import torch.optim as optim\n",
        "from torchvision import datasets, transforms\n",
        "from torch.utils.data import DataLoader\n",
        "# Define LeNet model\n",
        "class LeNet(nn.Module):\n",
        "    def __init__(self, num_filters, dropout):\n",
        "        super(LeNet, self).__init__()\n",
        "        self.conv1 = nn.Conv2d(1, num_filters, kernel_size=5)\n",
        "        self.conv2 = nn.Conv2d(num_filters, 2 * num_filters, kernel_size=5)\n",
        "        self.fc1 = nn.Linear(2 * num_filters * 4 * 4, 120)\n",
        "        self.fc2 = nn.Linear(120, 84)\n",
        "        self.fc3 = nn.Linear(84, 10)\n",
        "        self.dropout = nn.Dropout(dropout)\n",
        "\n",
        "    def forward(self, x):\n",
        "        x = torch.relu(self.conv1(x))\n",
        "        x = torch.max_pool2d(x, 2)\n",
        "        x = torch.relu(self.conv2(x))\n",
        "        x = torch.max_pool2d(x, 2)\n",
        "        x = x.view(x.size(0), -1)\n",
        "        x = torch.relu(self.fc1(x))\n",
        "        x = self.dropout(torch.relu(self.fc2(x)))\n",
        "        x = self.fc3(x)\n",
        "        return x\n"
      ]
    },
    {
      "cell_type": "code",
      "execution_count": null,
      "metadata": {
        "colab": {
          "base_uri": "https://localhost:8080/"
        },
        "id": "rr0khlmlvDKS",
        "outputId": "c801aef5-3d12-4d39-fa9e-6f16c092204b"
      },
      "outputs": [
        {
          "name": "stdout",
          "output_type": "stream",
          "text": [
            "Name: ray\n",
            "Version: 2.40.0\n",
            "Summary: Ray provides a simple, universal API for building distributed applications.\n",
            "Home-page: https://github.com/ray-project/ray\n",
            "Author: Ray Team\n",
            "Author-email: ray-dev@googlegroups.com\n",
            "License: Apache 2.0\n",
            "Location: /usr/local/lib/python3.10/dist-packages\n",
            "Requires: aiosignal, click, filelock, frozenlist, jsonschema, msgpack, packaging, protobuf, pyyaml, requests\n",
            "Required-by: \n",
            "\u001b[33mWARNING: Package(s) not found: bayesian-optimization\u001b[0m\u001b[33m\n",
            "\u001b[0m"
          ]
        }
      ],
      "source": [
        "!pip show ray\n",
        "!pip show bayesian-optimization\n"
      ]
    },
    {
      "cell_type": "code",
      "execution_count": null,
      "metadata": {
        "colab": {
          "base_uri": "https://localhost:8080/"
        },
        "id": "biatZNVlv69T",
        "outputId": "158d1551-77b7-40cd-dc9f-454ae6176444"
      },
      "outputs": [
        {
          "name": "stdout",
          "output_type": "stream",
          "text": [
            "\u001b[33mWARNING: Skipping bayesian-optimization as it is not installed.\u001b[0m\u001b[33m\n",
            "\u001b[0m"
          ]
        }
      ],
      "source": [
        "!pip uninstall bayesian-optimization -y\n"
      ]
    },
    {
      "cell_type": "code",
      "execution_count": null,
      "metadata": {
        "colab": {
          "base_uri": "https://localhost:8080/"
        },
        "id": "11PjqYVMv9NH",
        "outputId": "8cec479f-26e6-4f49-ce8c-051516ed66b3"
      },
      "outputs": [
        {
          "name": "stdout",
          "output_type": "stream",
          "text": [
            "Collecting bayesian-optimization==1.4.2\n",
            "  Downloading bayesian_optimization-1.4.2-py3-none-any.whl.metadata (527 bytes)\n",
            "Requirement already satisfied: numpy>=1.9.0 in /usr/local/lib/python3.10/dist-packages (from bayesian-optimization==1.4.2) (1.26.4)\n",
            "Requirement already satisfied: scipy>=1.0.0 in /usr/local/lib/python3.10/dist-packages (from bayesian-optimization==1.4.2) (1.13.1)\n",
            "Requirement already satisfied: scikit-learn>=0.18.0 in /usr/local/lib/python3.10/dist-packages (from bayesian-optimization==1.4.2) (1.5.2)\n",
            "Collecting colorama>=0.4.6 (from bayesian-optimization==1.4.2)\n",
            "  Downloading colorama-0.4.6-py2.py3-none-any.whl.metadata (17 kB)\n",
            "Requirement already satisfied: joblib>=1.2.0 in /usr/local/lib/python3.10/dist-packages (from scikit-learn>=0.18.0->bayesian-optimization==1.4.2) (1.4.2)\n",
            "Requirement already satisfied: threadpoolctl>=3.1.0 in /usr/local/lib/python3.10/dist-packages (from scikit-learn>=0.18.0->bayesian-optimization==1.4.2) (3.5.0)\n",
            "Downloading bayesian_optimization-1.4.2-py3-none-any.whl (17 kB)\n",
            "Downloading colorama-0.4.6-py2.py3-none-any.whl (25 kB)\n",
            "Installing collected packages: colorama, bayesian-optimization\n",
            "Successfully installed bayesian-optimization-1.4.2 colorama-0.4.6\n"
          ]
        }
      ],
      "source": [
        "!pip install bayesian-optimization==1.4.2"
      ]
    },
    {
      "cell_type": "code",
      "execution_count": null,
      "metadata": {
        "colab": {
          "base_uri": "https://localhost:8080/"
        },
        "id": "6gr4IWDDwII8",
        "outputId": "5ccbd125-444f-4aaf-b9cc-bbe686cc9a33"
      },
      "outputs": [
        {
          "name": "stdout",
          "output_type": "stream",
          "text": [
            "Name: bayesian-optimization\n",
            "Version: 1.4.2\n",
            "Summary: Bayesian Optimization package\n",
            "Home-page: https://github.com/fmfn/BayesianOptimization\n",
            "Author: Fernando Nogueira\n",
            "Author-email: fmfnogueira@gmail.com\n",
            "License: \n",
            "Location: /usr/local/lib/python3.10/dist-packages\n",
            "Requires: colorama, numpy, scikit-learn, scipy\n",
            "Required-by: \n"
          ]
        }
      ],
      "source": [
        "!pip show bayesian-optimization\n"
      ]
    },
    {
      "cell_type": "code",
      "execution_count": null,
      "metadata": {
        "id": "MIRcHc0fxa4W"
      },
      "outputs": [],
      "source": [
        "\n",
        "from ray.air import session\n",
        "\n",
        "def train_mnist_bayesian(config):\n",
        "    batch_size_mapping = [64, 128, 256]\n",
        "    batch_size = batch_size_mapping[int(config[\"batch_size_idx\"])]  # Convert index to actual batch size\n",
        "\n",
        "    transform = transforms.Compose([transforms.ToTensor(), transforms.Normalize((0.5,), (0.5,))])\n",
        "    train_dataset = datasets.MNIST(root=\"./data\", train=True, download=True, transform=transform)\n",
        "    val_dataset = datasets.MNIST(root=\"./data\", train=False, download=True, transform=transform)\n",
        "\n",
        "    train_loader = torch.utils.data.DataLoader(\n",
        "        train_dataset, batch_size=batch_size, shuffle=True\n",
        "    )\n",
        "    val_loader = torch.utils.data.DataLoader(\n",
        "        val_dataset, batch_size=batch_size, shuffle=False\n",
        "    )\n",
        "\n",
        "    device = \"cuda\" if torch.cuda.is_available() else \"cpu\"\n",
        "    model = LeNet(int(config[\"num_filters\"]), config[\"dropout\"]).to(device)\n",
        "    criterion = nn.CrossEntropyLoss()\n",
        "    optimizer = optim.Adam(model.parameters(), lr=config[\"lr\"])\n",
        "\n",
        "    start_time = time.time()\n",
        "\n",
        "    for epoch in range(12):\n",
        "        model.train()\n",
        "        for data, target in train_loader:\n",
        "            data, target = data.to(device), target.to(device)\n",
        "            optimizer.zero_grad()\n",
        "            output = model(data)\n",
        "            loss = criterion(output, target)\n",
        "            loss.backward()\n",
        "            optimizer.step()\n",
        "\n",
        "    model.eval()\n",
        "    correct = 0\n",
        "    total = 0\n",
        "    with torch.no_grad():\n",
        "        for data, target in val_loader:\n",
        "            data, target = data.to(device), target.to(device)\n",
        "            output = model(data)\n",
        "            _, predicted = torch.max(output, 1)\n",
        "            total += target.size(0)\n",
        "            correct += (predicted == target).sum().item()\n",
        "\n",
        "    accuracy = correct / total\n",
        "\n",
        "    total_time = time.time() - start_time\n",
        "    session.report({\"accuracy\": accuracy, \"time_total_s\": total_time})\n",
        "    print(f\"Accuracy: {accuracy:.4f},Time: {total_time:.4f}\")\n"
      ]
    },
    {
      "cell_type": "code",
      "execution_count": null,
      "metadata": {
        "colab": {
          "base_uri": "https://localhost:8080/"
        },
        "id": "wzJ-3Nv0PO5x",
        "outputId": "c27fec45-8a35-4cee-9a3b-37f2d98bb142"
      },
      "outputs": [
        {
          "name": "stderr",
          "output_type": "stream",
          "text": [
            "2024-12-05 15:11:46,271\tWARNING bayesopt_search.py:431 -- BayesOpt does not support specific sampling methods. The LogUniform sampler will be dropped.\n"
          ]
        },
        {
          "name": "stdout",
          "output_type": "stream",
          "text": [
            "+-----------------------------------------------------------------------------+\n",
            "| Configuration for experiment     train_mnist_bayesian_2024-12-05_15-11-46   |\n",
            "+-----------------------------------------------------------------------------+\n",
            "| Search algorithm                 SearchGenerator                            |\n",
            "| Scheduler                        FIFOScheduler                              |\n",
            "| Number of trials                 1                                          |\n",
            "+-----------------------------------------------------------------------------+\n",
            "\n",
            "View detailed results here: /root/ray_results/train_mnist_bayesian_2024-12-05_15-11-46\n",
            "To visualize your results with TensorBoard, run: `tensorboard --logdir /tmp/ray/session_2024-12-05_15-02-24_292439_278/artifacts/2024-12-05_15-11-46/train_mnist_bayesian_2024-12-05_15-11-46/driver_artifacts`\n",
            "\n",
            "Trial status: 1 PENDING\n",
            "Current time: 2024-12-05 15:11:46. Total running time: 0s\n",
            "Logical resource usage: 1.0/12 CPUs, 0.5/1 GPUs (0.0/1.0 accelerator_type:A100)\n",
            "+-----------------------------------------------------------------------------------------------------+\n",
            "| Trial name                      status       num_filters          lr     batch_size_idx     dropout |\n",
            "+-----------------------------------------------------------------------------------------------------+\n",
            "| train_mnist_bayesian_61e69b58   PENDING          178.942   0.0734674            0.74908    0.950714 |\n",
            "+-----------------------------------------------------------------------------------------------------+\n",
            "\n",
            "Trial train_mnist_bayesian_61e69b58 started with configuration:\n",
            "+--------------------------------------------------------+\n",
            "| Trial train_mnist_bayesian_61e69b58 config             |\n",
            "+--------------------------------------------------------+\n",
            "| batch_size_idx                                 0.74908 |\n",
            "| dropout                                        0.95071 |\n",
            "| lr                                             0.07347 |\n",
            "| num_filters                                    178.942 |\n",
            "+--------------------------------------------------------+\n",
            "\u001b[36m(train_mnist_bayesian pid=4628)\u001b[0m Downloading http://yann.lecun.com/exdb/mnist/train-images-idx3-ubyte.gz\n",
            "\u001b[36m(train_mnist_bayesian pid=4628)\u001b[0m Failed to download (trying next):\n",
            "\u001b[36m(train_mnist_bayesian pid=4628)\u001b[0m HTTP Error 403: Forbidden\n",
            "\u001b[36m(train_mnist_bayesian pid=4628)\u001b[0m \n",
            "\u001b[36m(train_mnist_bayesian pid=4628)\u001b[0m Downloading https://ossci-datasets.s3.amazonaws.com/mnist/train-images-idx3-ubyte.gz\n",
            "\u001b[36m(train_mnist_bayesian pid=4628)\u001b[0m Downloading https://ossci-datasets.s3.amazonaws.com/mnist/train-images-idx3-ubyte.gz to ./data/MNIST/raw/train-images-idx3-ubyte.gz\n"
          ]
        },
        {
          "name": "stderr",
          "output_type": "stream",
          "text": [
            "  0%|          | 0.00/9.91M [00:00<?, ?B/s]\n",
            "  0%|          | 32.8k/9.91M [00:00<01:05, 151kB/s]\n",
            "  1%|          | 65.5k/9.91M [00:00<01:05, 150kB/s]\n",
            "  1%|▏         | 131k/9.91M [00:00<00:44, 219kB/s] \n",
            "  3%|▎         | 262k/9.91M [00:00<00:26, 369kB/s]\n",
            "  5%|▌         | 524k/9.91M [00:01<00:14, 668kB/s]\n",
            " 11%|█         | 1.05M/9.91M [00:01<00:07, 1.26MB/s]\n",
            " 21%|██        | 2.10M/9.91M [00:01<00:03, 2.41MB/s]\n",
            " 42%|████▏     | 4.19M/9.91M [00:01<00:01, 4.70MB/s]\n"
          ]
        },
        {
          "name": "stdout",
          "output_type": "stream",
          "text": [
            "\u001b[36m(train_mnist_bayesian pid=4628)\u001b[0m Extracting ./data/MNIST/raw/train-images-idx3-ubyte.gz to ./data/MNIST/raw\n"
          ]
        },
        {
          "name": "stderr",
          "output_type": "stream",
          "text": [
            "\u001b[36m(train_mnist_bayesian pid=4628)\u001b[0m \r",
            " 82%|████████▏ | 8.13M/9.91M [00:01<00:00, 8.80MB/s]\r",
            "100%|██████████| 9.91M/9.91M [00:01<00:00, 5.02MB/s]\n"
          ]
        },
        {
          "name": "stdout",
          "output_type": "stream",
          "text": [
            "\u001b[36m(train_mnist_bayesian pid=4628)\u001b[0m \n",
            "\u001b[36m(train_mnist_bayesian pid=4628)\u001b[0m Downloading http://yann.lecun.com/exdb/mnist/train-labels-idx1-ubyte.gz\n",
            "\u001b[36m(train_mnist_bayesian pid=4628)\u001b[0m Failed to download (trying next):\n",
            "\u001b[36m(train_mnist_bayesian pid=4628)\u001b[0m HTTP Error 403: Forbidden\n",
            "\u001b[36m(train_mnist_bayesian pid=4628)\u001b[0m \n",
            "\u001b[36m(train_mnist_bayesian pid=4628)\u001b[0m Downloading https://ossci-datasets.s3.amazonaws.com/mnist/train-labels-idx1-ubyte.gz\n",
            "\u001b[36m(train_mnist_bayesian pid=4628)\u001b[0m Downloading https://ossci-datasets.s3.amazonaws.com/mnist/train-labels-idx1-ubyte.gz to ./data/MNIST/raw/train-labels-idx1-ubyte.gz\n"
          ]
        },
        {
          "name": "stderr",
          "output_type": "stream",
          "text": [
            "\u001b[36m(train_mnist_bayesian pid=4628)\u001b[0m \r",
            "  0%|          | 0.00/28.9k [00:00<?, ?B/s]\n"
          ]
        },
        {
          "name": "stdout",
          "output_type": "stream",
          "text": [
            "\u001b[36m(train_mnist_bayesian pid=4628)\u001b[0m Extracting ./data/MNIST/raw/train-labels-idx1-ubyte.gz to ./data/MNIST/raw\n",
            "\u001b[36m(train_mnist_bayesian pid=4628)\u001b[0m \n",
            "\u001b[36m(train_mnist_bayesian pid=4628)\u001b[0m Downloading http://yann.lecun.com/exdb/mnist/t10k-images-idx3-ubyte.gz\n"
          ]
        },
        {
          "name": "stderr",
          "output_type": "stream",
          "text": [
            "\u001b[36m(train_mnist_bayesian pid=4628)\u001b[0m \r",
            "100%|██████████| 28.9k/28.9k [00:00<00:00, 65.1kB/s]\r",
            "100%|██████████| 28.9k/28.9k [00:00<00:00, 65.1kB/s]\n"
          ]
        },
        {
          "name": "stdout",
          "output_type": "stream",
          "text": [
            "\u001b[36m(train_mnist_bayesian pid=4628)\u001b[0m Failed to download (trying next):\n",
            "\u001b[36m(train_mnist_bayesian pid=4628)\u001b[0m HTTP Error 403: Forbidden\n",
            "\u001b[36m(train_mnist_bayesian pid=4628)\u001b[0m \n",
            "\u001b[36m(train_mnist_bayesian pid=4628)\u001b[0m Downloading https://ossci-datasets.s3.amazonaws.com/mnist/t10k-images-idx3-ubyte.gz\n",
            "\u001b[36m(train_mnist_bayesian pid=4628)\u001b[0m Downloading https://ossci-datasets.s3.amazonaws.com/mnist/t10k-images-idx3-ubyte.gz to ./data/MNIST/raw/t10k-images-idx3-ubyte.gz\n"
          ]
        },
        {
          "name": "stderr",
          "output_type": "stream",
          "text": [
            "  0%|          | 0.00/1.65M [00:00<?, ?B/s]\n",
            "  2%|▏         | 32.8k/1.65M [00:00<00:32, 49.9kB/s]\n",
            "  4%|▍         | 65.5k/1.65M [00:01<00:31, 51.1kB/s]\n",
            "  6%|▌         | 98.3k/1.65M [00:01<00:26, 58.4kB/s]\n",
            "  8%|▊         | 131k/1.65M [00:02<00:23, 63.6kB/s] \n",
            " 10%|▉         | 164k/1.65M [00:02<00:22, 67.2kB/s]\n",
            " 12%|█▏        | 197k/1.65M [00:03<00:20, 70.0kB/s]\n",
            " 14%|█▍        | 229k/1.65M [00:03<00:16, 84.2kB/s]\n",
            " 16%|█▌        | 262k/1.65M [00:03<00:14, 97.7kB/s]\n",
            " 18%|█▊        | 295k/1.65M [00:03<00:12, 110kB/s] \n",
            " 20%|█▉        | 328k/1.65M [00:03<00:10, 120kB/s]\n",
            " 24%|██▍       | 393k/1.65M [00:04<00:07, 165kB/s]\n",
            " 26%|██▌       | 426k/1.65M [00:04<00:07, 163kB/s]\n",
            " 28%|██▊       | 459k/1.65M [00:04<00:07, 159kB/s]\n",
            " 32%|███▏      | 524k/1.65M [00:04<00:05, 199kB/s]\n",
            " 38%|███▊      | 623k/1.65M [00:05<00:03, 271kB/s]\n",
            " 42%|████▏     | 688k/1.65M [00:05<00:03, 280kB/s]\n",
            " 48%|████▊     | 786k/1.65M [00:05<00:02, 329kB/s]\n",
            " 54%|█████▎    | 885k/1.65M [00:05<00:02, 365kB/s]\n",
            " 60%|█████▉    | 983k/1.65M [00:05<00:01, 390kB/s]\n",
            " 68%|██████▊   | 1.11M/1.65M [00:06<00:01, 452kB/s]\n",
            " 76%|███████▌  | 1.25M/1.65M [00:06<00:00, 495kB/s]\n",
            " 85%|████████▌ | 1.41M/1.65M [00:06<00:00, 571kB/s]\n"
          ]
        },
        {
          "name": "stdout",
          "output_type": "stream",
          "text": [
            "\u001b[36m(train_mnist_bayesian pid=4628)\u001b[0m Extracting ./data/MNIST/raw/t10k-images-idx3-ubyte.gz to ./data/MNIST/raw\n",
            "\u001b[36m(train_mnist_bayesian pid=4628)\u001b[0m \n",
            "\u001b[36m(train_mnist_bayesian pid=4628)\u001b[0m Downloading http://yann.lecun.com/exdb/mnist/t10k-labels-idx1-ubyte.gz\n"
          ]
        },
        {
          "name": "stderr",
          "output_type": "stream",
          "text": [
            "\u001b[36m(train_mnist_bayesian pid=4628)\u001b[0m \r",
            " 95%|█████████▌| 1.57M/1.65M [00:06<00:00, 624kB/s]\r",
            "100%|██████████| 1.65M/1.65M [00:06<00:00, 242kB/s]\n"
          ]
        },
        {
          "name": "stdout",
          "output_type": "stream",
          "text": [
            "\u001b[36m(train_mnist_bayesian pid=4628)\u001b[0m Failed to download (trying next):\n",
            "\u001b[36m(train_mnist_bayesian pid=4628)\u001b[0m HTTP Error 403: Forbidden\n",
            "\u001b[36m(train_mnist_bayesian pid=4628)\u001b[0m \n",
            "\u001b[36m(train_mnist_bayesian pid=4628)\u001b[0m Downloading https://ossci-datasets.s3.amazonaws.com/mnist/t10k-labels-idx1-ubyte.gz\n",
            "\u001b[36m(train_mnist_bayesian pid=4628)\u001b[0m Downloading https://ossci-datasets.s3.amazonaws.com/mnist/t10k-labels-idx1-ubyte.gz to ./data/MNIST/raw/t10k-labels-idx1-ubyte.gz\n",
            "\u001b[36m(train_mnist_bayesian pid=4628)\u001b[0m Extracting ./data/MNIST/raw/t10k-labels-idx1-ubyte.gz to ./data/MNIST/raw\n",
            "\u001b[36m(train_mnist_bayesian pid=4628)\u001b[0m \n"
          ]
        },
        {
          "name": "stderr",
          "output_type": "stream",
          "text": [
            "\u001b[36m(train_mnist_bayesian pid=4628)\u001b[0m \r",
            "  0%|          | 0.00/4.54k [00:00<?, ?B/s]\r",
            "100%|██████████| 4.54k/4.54k [00:00<00:00, 14.1MB/s]\n"
          ]
        },
        {
          "name": "stdout",
          "output_type": "stream",
          "text": [
            "\n",
            "Trial status: 1 RUNNING\n",
            "Current time: 2024-12-05 15:12:16. Total running time: 30s\n",
            "Logical resource usage: 1.0/12 CPUs, 0.5/1 GPUs (0.0/1.0 accelerator_type:A100)\n",
            "+-----------------------------------------------------------------------------------------------------+\n",
            "| Trial name                      status       num_filters          lr     batch_size_idx     dropout |\n",
            "+-----------------------------------------------------------------------------------------------------+\n",
            "| train_mnist_bayesian_61e69b58   RUNNING          178.942   0.0734674            0.74908    0.950714 |\n",
            "+-----------------------------------------------------------------------------------------------------+\n",
            "Trial status: 1 RUNNING\n",
            "Current time: 2024-12-05 15:12:46. Total running time: 1min 0s\n",
            "Logical resource usage: 1.0/12 CPUs, 0.5/1 GPUs (0.0/1.0 accelerator_type:A100)\n",
            "+-----------------------------------------------------------------------------------------------------+\n",
            "| Trial name                      status       num_filters          lr     batch_size_idx     dropout |\n",
            "+-----------------------------------------------------------------------------------------------------+\n",
            "| train_mnist_bayesian_61e69b58   RUNNING          178.942   0.0734674            0.74908    0.950714 |\n",
            "+-----------------------------------------------------------------------------------------------------+\n",
            "Trial status: 1 RUNNING\n",
            "Current time: 2024-12-05 15:13:16. Total running time: 1min 30s\n",
            "Logical resource usage: 1.0/12 CPUs, 0.5/1 GPUs (0.0/1.0 accelerator_type:A100)\n",
            "+-----------------------------------------------------------------------------------------------------+\n",
            "| Trial name                      status       num_filters          lr     batch_size_idx     dropout |\n",
            "+-----------------------------------------------------------------------------------------------------+\n",
            "| train_mnist_bayesian_61e69b58   RUNNING          178.942   0.0734674            0.74908    0.950714 |\n",
            "+-----------------------------------------------------------------------------------------------------+\n",
            "Trial status: 1 RUNNING\n",
            "Current time: 2024-12-05 15:13:46. Total running time: 2min 0s\n",
            "Logical resource usage: 1.0/12 CPUs, 0.5/1 GPUs (0.0/1.0 accelerator_type:A100)\n",
            "+-----------------------------------------------------------------------------------------------------+\n",
            "| Trial name                      status       num_filters          lr     batch_size_idx     dropout |\n",
            "+-----------------------------------------------------------------------------------------------------+\n",
            "| train_mnist_bayesian_61e69b58   RUNNING          178.942   0.0734674            0.74908    0.950714 |\n",
            "+-----------------------------------------------------------------------------------------------------+\n",
            "Trial status: 1 RUNNING\n",
            "Current time: 2024-12-05 15:14:16. Total running time: 2min 30s\n",
            "Logical resource usage: 1.0/12 CPUs, 0.5/1 GPUs (0.0/1.0 accelerator_type:A100)\n",
            "+-----------------------------------------------------------------------------------------------------+\n",
            "| Trial name                      status       num_filters          lr     batch_size_idx     dropout |\n",
            "+-----------------------------------------------------------------------------------------------------+\n",
            "| train_mnist_bayesian_61e69b58   RUNNING          178.942   0.0734674            0.74908    0.950714 |\n",
            "+-----------------------------------------------------------------------------------------------------+\n",
            "Trial status: 1 RUNNING\n",
            "Current time: 2024-12-05 15:14:46. Total running time: 3min 0s\n",
            "Logical resource usage: 1.0/12 CPUs, 0.5/1 GPUs (0.0/1.0 accelerator_type:A100)\n",
            "+-----------------------------------------------------------------------------------------------------+\n",
            "| Trial name                      status       num_filters          lr     batch_size_idx     dropout |\n",
            "+-----------------------------------------------------------------------------------------------------+\n",
            "| train_mnist_bayesian_61e69b58   RUNNING          178.942   0.0734674            0.74908    0.950714 |\n",
            "+-----------------------------------------------------------------------------------------------------+\n"
          ]
        },
        {
          "name": "stderr",
          "output_type": "stream",
          "text": [
            "2024-12-05 15:15:11,903\tINFO tune.py:1009 -- Wrote the latest version of all result files and experiment state to '/root/ray_results/train_mnist_bayesian_2024-12-05_15-11-46' in 0.0039s.\n"
          ]
        },
        {
          "name": "stdout",
          "output_type": "stream",
          "text": [
            "\n",
            "Trial train_mnist_bayesian_61e69b58 finished iteration 1 at 2024-12-05 15:15:11. Total running time: 3min 25s\n",
            "+--------------------------------------------------------+\n",
            "| Trial train_mnist_bayesian_61e69b58 result             |\n",
            "+--------------------------------------------------------+\n",
            "| checkpoint_dir_name                                    |\n",
            "| time_this_iter_s                               201.275 |\n",
            "| time_total_s                                   201.275 |\n",
            "| training_iteration                                   1 |\n",
            "| accuracy                                        0.0892 |\n",
            "+--------------------------------------------------------+\n",
            "\n",
            "Trial train_mnist_bayesian_61e69b58 completed after 1 iterations at 2024-12-05 15:15:11. Total running time: 3min 25s\n",
            "\n",
            "Trial status: 1 TERMINATED\n",
            "Current time: 2024-12-05 15:15:11. Total running time: 3min 25s\n",
            "Logical resource usage: 1.0/12 CPUs, 0.5/1 GPUs (0.0/1.0 accelerator_type:A100)\n",
            "Current best trial: 61e69b58 with accuracy=0.0892 and params={'num_filters': 178.94242896583103, 'lr': 0.07346740023932911, 'batch_size_idx': 0.749080237694725, 'dropout': 0.9507143064099162}\n",
            "+------------------------------------------------------------------------------------------------------------------------------------------------+\n",
            "| Trial name                      status         num_filters          lr     batch_size_idx     dropout     iter     total time (s)     accuracy |\n",
            "+------------------------------------------------------------------------------------------------------------------------------------------------+\n",
            "| train_mnist_bayesian_61e69b58   TERMINATED         178.942   0.0734674            0.74908    0.950714        1            201.275       0.0892 |\n",
            "+------------------------------------------------------------------------------------------------------------------------------------------------+\n",
            "\n"
          ]
        }
      ],
      "source": [
        "from ray.tune.search.bayesopt import BayesOptSearch\n",
        "\n",
        "search_space = {\n",
        "    \"num_filters\": tune.uniform(64, 256),\n",
        "    \"lr\": tune.loguniform(0.001, 0.1),\n",
        "    \"batch_size_idx\": tune.uniform(0, 2),  # Index for batch size\n",
        "    \"dropout\": tune.uniform(0.0, 1.0)\n",
        "}\n",
        "\n",
        "search_alg = BayesOptSearch(metric=\"accuracy\", mode=\"max\")\n",
        "start_time = time.time()\n",
        "analysis = tune.run(\n",
        "    train_mnist_bayesian,\n",
        "    config=search_space,\n",
        "    search_alg=search_alg,\n",
        "    resources_per_trial={\"cpu\": 1, \"gpu\": 0.5},\n",
        "    metric=\"accuracy\",\n",
        "    mode=\"max\"\n",
        ")\n",
        "end_time = time.time()\n",
        "\n",
        "\n",
        "best_config = analysis.get_best_config(metric=\"accuracy\", mode=\"max\")\n",
        "batch_size_mapping = [64, 128, 256]\n",
        "best_config[\"batch_size\"] = batch_size_mapping[int(best_config.pop(\"batch_size_idx\"))]\n",
        "\n",
        "best_accuracy = analysis.best_result[\"accuracy\"]\n",
        "# best_time = analysis.best_result[\"time_total_s\"]\n",
        "time_taken = end_time - start_time\n",
        "\n",
        "\n",
        "\n"
      ]
    },
    {
      "cell_type": "code",
      "execution_count": null,
      "metadata": {
        "colab": {
          "base_uri": "https://localhost:8080/"
        },
        "id": "f7Xhccj7WIVB",
        "outputId": "39d90b3b-35a1-44e4-ccbf-02fc46b088f0"
      },
      "outputs": [
        {
          "name": "stdout",
          "output_type": "stream",
          "text": [
            "Best hyperparameters: {'num_filters': 178.94242896583103, 'lr': 0.07346740023932911, 'dropout': 0.9507143064099162, 'batch_size': 64}\n",
            "Best validation accuracy: 0.0892\n",
            "Time taken: 205.67 seconds\n"
          ]
        }
      ],
      "source": [
        "print(\"Best hyperparameters:\", best_config)\n",
        "print(f\"Best validation accuracy: {best_accuracy:.4f}\")\n",
        "print(f\"Time taken: {time_taken:.2f} seconds\")"
      ]
    },
    {
      "cell_type": "markdown",
      "metadata": {
        "id": "KGNlim0n6yLD"
      },
      "source": [
        "## Part 3."
      ]
    },
    {
      "cell_type": "markdown",
      "metadata": {
        "id": "Ip4DdmDl7ebW"
      },
      "source": [
        "For these three methods, Grid search takes the longest time to find the best model with accuracy is 0.9981. While for the other two, although they are faster, their accuracies are incredible low. For Bayesian, the hyperparameter's range is too big thus it hard to perform well. For Hyperband, it relys on early stopping which may stop too early. Thus Grid Search produced the best model with the highest validation accuracy but at the cost of significantly higher computation time. Both Bayesian Optimization and Hyperband were faster but failed to identify the best hyperparameter configurations if we don't set the stop point, leading to very poor model performance."
      ]
    },
    {
      "cell_type": "markdown",
      "metadata": {
        "id": "OrvH5vquagLr",
        "jp-MarkdownHeadingCollapsed": true
      },
      "source": [
        "# Problem 3"
      ]
    },
    {
      "cell_type": "markdown",
      "source": [
        "### Setup\n",
        "\n",
        "- **Learner 1 (L1)** computes gradients:\n",
        "  - \\( g[L_1, 1] \\) at \\( t = 1 \\)\n",
        "  - \\( g[L_1, 2] \\) at \\( t = 2 \\)\n",
        "  - \\( g[L_1, 3] \\) at \\( t = 3 \\)\n",
        "  - \\( g[L_1, 4] \\) at \\( t = 4 \\)\n",
        "\n",
        "- **Learner 2 (L2)** computes gradients:\n",
        "  - \\( g[L_2, 1] \\) at \\( t = 2.5 \\)\n",
        "  - \\( g[L_2, 2] \\) at \\( t = 5 \\)\n",
        "\n",
        "---\n",
        "\n",
        "### Step-by-Step Staleness Calculation\n",
        "\n",
        "1. **\\( g[L_1, 1] \\):**\n",
        "   - Computed at \\( t = 1 \\).\n",
        "   - No updates have occurred before this gradient is used.\n",
        "   - **Staleness = 0**\n",
        "\n",
        "2. **\\( g[L_1, 2] \\):**\n",
        "   - Computed at \\( t = 2 \\).\n",
        "   - No updates have occurred before this gradient is used.\n",
        "   - **Staleness = 0**\n",
        "\n",
        "3. **\\( g[L_2, 1] \\):**\n",
        "   - Computed at \\( t = 2.5 \\).\n",
        "   - By this time, \\( g[L_1, 1] \\) and \\( g[L_1, 2] \\) have been used to update weights.\n",
        "   - **Staleness = 2**\n",
        "\n",
        "4. **\\( g[L_1, 3] \\):**\n",
        "   - Computed at \\( t = 3 \\).\n",
        "   - By this time, \\( g[L_2, 1] \\) has been used to update weights.\n",
        "   - **Staleness = 1**\n",
        "\n",
        "5. **\\( g[L_1, 4] \\):**\n",
        "   - Computed at \\( t = 4 \\).\n",
        "   - By this time, \\( g[L_1, 3] \\) has been used to update weights.\n",
        "   - **Staleness = 0**\n",
        "\n",
        "6. **\\( g[L_2, 2] \\):**\n",
        "   - Computed at \\( t = 5 \\).\n",
        "   - By this time, \\( g[L_1, 4] \\) and \\( g[L_1, 3] \\) have been used to update weights.\n",
        "   - **Staleness = 3**"
      ],
      "metadata": {
        "id": "55sm0EQOUZ_i"
      }
    },
    {
      "cell_type": "markdown",
      "metadata": {
        "id": "CvmQrUSbah3g"
      },
      "source": [
        "* $L_1$ : $g[L_1,1]$ at second 1, staleness = 0\n",
        "* $L_1$ : $g[L_1,2]$ at second 2, staleness = 0\n",
        "* $L_1$ : $g[L_1,3]$ at second 3, staleness = 1\n",
        "* $L_1$ : $g[L_1,4]$ at second 4, staleness = 0\n",
        "* $L_2$ : $g[L_2,1]$ at second 2.5, staleness = 2\n",
        "* $L_2$ : $g[L_2,2]$ at second 5, staleness = 2\n"
      ]
    },
    {
      "cell_type": "markdown",
      "metadata": {
        "id": "9l-n1wp-C6Vg"
      },
      "source": [
        "# Problem 4"
      ]
    },
    {
      "cell_type": "markdown",
      "metadata": {
        "id": "YrMn-PU1EyrF"
      },
      "source": [
        "## Part 1."
      ]
    },
    {
      "cell_type": "code",
      "execution_count": null,
      "metadata": {
        "colab": {
          "base_uri": "https://localhost:8080/"
        },
        "id": "7mefIwv5C7sK",
        "outputId": "ff5d76fa-f84c-46e6-d96a-84ac8a341101"
      },
      "outputs": [
        {
          "output_type": "stream",
          "name": "stdout",
          "text": [
            "Cloning into 'pytorch-cifar'...\n",
            "remote: Enumerating objects: 382, done.\u001b[K\n",
            "remote: Total 382 (delta 0), reused 0 (delta 0), pack-reused 382 (from 1)\u001b[K\n",
            "Receiving objects: 100% (382/382), 81.31 KiB | 2.39 MiB/s, done.\n",
            "Resolving deltas: 100% (198/198), done.\n"
          ]
        }
      ],
      "source": [
        "!git clone https://github.com/kuangliu/pytorch-cifar.git\n",
        "!cd pytorch-cifar\n"
      ]
    },
    {
      "cell_type": "code",
      "execution_count": null,
      "metadata": {
        "id": "G0BfNCjvVCrD",
        "outputId": "1c9c9a5b-bada-4121-851d-ffde960f9e4b",
        "colab": {
          "base_uri": "https://localhost:8080/"
        }
      },
      "outputs": [
        {
          "output_type": "stream",
          "name": "stdout",
          "text": [
            "Current Working Directory:  /content\n"
          ]
        }
      ],
      "source": [
        "import os\n",
        "print(\"Current Working Directory: \", os.getcwd())"
      ]
    },
    {
      "cell_type": "code",
      "execution_count": null,
      "metadata": {
        "id": "KUgJuiVLVCrD"
      },
      "outputs": [],
      "source": [
        "import sys\n",
        "\n",
        "# 添加 pytorch-cifar 到 sys.path\n",
        "sys.path.append('/content/pytorch-cifar')\n",
        "\n",
        "# 现在尝试再次导入\n",
        "from models.resnet import ResNet18"
      ]
    },
    {
      "cell_type": "code",
      "execution_count": null,
      "metadata": {
        "id": "VGTfF9OPFwPK"
      },
      "outputs": [],
      "source": [
        "import torch\n",
        "import torch.nn as nn\n",
        "from models.resnet import ResNet18\n",
        "import torchvision\n",
        "import torchvision.transforms as transforms\n",
        "from torch.utils.data import DataLoader\n",
        "import torch.optim as optim"
      ]
    },
    {
      "cell_type": "code",
      "execution_count": null,
      "metadata": {
        "id": "Bq6Ww1mTFVMq"
      },
      "outputs": [],
      "source": [
        "\n",
        "# Assuming you are using the ResNet18 from the cloned repo\n",
        "model = ResNet18()\n",
        "\n"
      ]
    },
    {
      "cell_type": "code",
      "execution_count": null,
      "metadata": {
        "id": "KPDX0oMwFx5x"
      },
      "outputs": [],
      "source": [
        "transform = transforms.Compose([\n",
        "    transforms.RandomCrop(32, padding=4),\n",
        "    transforms.RandomHorizontalFlip(p=0.5),\n",
        "    transforms.ToTensor(),\n",
        "    transforms.Normalize((0.4914, 0.4822, 0.4465), (0.2023, 0.1994, 0.2010))\n",
        "])"
      ]
    },
    {
      "cell_type": "code",
      "execution_count": null,
      "metadata": {
        "colab": {
          "base_uri": "https://localhost:8080/"
        },
        "id": "dJbF1oWzHh3h",
        "outputId": "05debf80-b577-4cd6-8622-a383a89744f6"
      },
      "outputs": [
        {
          "output_type": "stream",
          "name": "stdout",
          "text": [
            "Downloading https://www.cs.toronto.edu/~kriz/cifar-10-python.tar.gz to ./data/cifar-10-python.tar.gz\n"
          ]
        },
        {
          "output_type": "stream",
          "name": "stderr",
          "text": [
            "100%|██████████| 170M/170M [00:01<00:00, 94.8MB/s]\n"
          ]
        },
        {
          "output_type": "stream",
          "name": "stdout",
          "text": [
            "Extracting ./data/cifar-10-python.tar.gz to ./data\n"
          ]
        }
      ],
      "source": [
        "trainset = torchvision.datasets.CIFAR10(root='./data', train=True, download=True, transform=transform)"
      ]
    },
    {
      "cell_type": "code",
      "execution_count": null,
      "metadata": {
        "id": "20OcAvEqKM0I"
      },
      "outputs": [],
      "source": [
        "device = torch.device(\"cuda:0\" if torch.cuda.is_available() else \"cpu\")\n",
        "model = ResNet18().to(device)\n",
        "optimizer = optim.SGD(model.parameters(), lr=0.1, momentum=0.9, weight_decay=5e-4)"
      ]
    },
    {
      "cell_type": "code",
      "execution_count": null,
      "metadata": {
        "colab": {
          "base_uri": "https://localhost:8080/"
        },
        "id": "kRr0l_WBKVQ3",
        "outputId": "339ab8cf-89ee-4155-8437-5c3d93de0d1d"
      },
      "outputs": [
        {
          "output_type": "stream",
          "name": "stdout",
          "text": [
            "Batch Size: 32, Time: 17.59 seconds\n",
            "Batch Size: 128, Time: 10.73 seconds\n",
            "Batch Size: 512, Time: 10.28 seconds\n",
            "Batch Size: 2048, Time: 10.55 seconds\n",
            "Batch Size: 8192, Time: 11.66 seconds\n",
            "Batch size 32768 exceeds GPU memory capacity.\n",
            "Batch Size: 32, Time: 17.59 seconds\n",
            "Batch Size: 128, Time: 10.73 seconds\n",
            "Batch Size: 512, Time: 10.28 seconds\n",
            "Batch Size: 2048, Time: 10.55 seconds\n",
            "Batch Size: 8192, Time: 11.66 seconds\n"
          ]
        }
      ],
      "source": [
        "import torch\n",
        "from torch.utils.data import DataLoader\n",
        "import torch.nn as nn\n",
        "import time\n",
        "\n",
        "batch_size = 32\n",
        "times = []\n",
        "\n",
        "while True:\n",
        "    try:\n",
        "\n",
        "        trainloader = DataLoader(trainset, batch_size=batch_size, shuffle=True, num_workers=2)\n",
        "\n",
        "\n",
        "        model.train()\n",
        "        for data in trainloader:\n",
        "            inputs, labels = data[0].to(device), data[1].to(device)\n",
        "            optimizer.zero_grad()\n",
        "            outputs = model(inputs)\n",
        "            loss = nn.CrossEntropyLoss()(outputs, labels)\n",
        "            loss.backward()\n",
        "            optimizer.step()\n",
        "\n",
        "\n",
        "        start_time = time.time()\n",
        "        for data in trainloader:\n",
        "            inputs, labels = data[0].to(device), data[1].to(device)\n",
        "            optimizer.zero_grad()\n",
        "            outputs = model(inputs)\n",
        "            loss = nn.CrossEntropyLoss()(outputs, labels)\n",
        "            loss.backward()\n",
        "            optimizer.step()\n",
        "        end_time = time.time()\n",
        "\n",
        "        epoch_time = end_time - start_time\n",
        "        times.append(epoch_time)\n",
        "        print(f\"Batch Size: {batch_size}, Time: {epoch_time:.2f} seconds\")\n",
        "\n",
        "\n",
        "        batch_size *= 4\n",
        "\n",
        "    except RuntimeError as e:\n",
        "        if \"CUDA out of memory\" in str(e):\n",
        "            print(f\"Batch size {batch_size} exceeds GPU memory capacity.\")\n",
        "            break\n",
        "        else:\n",
        "            raise\n",
        "\n",
        "\n",
        "\n",
        "for size, t in zip([32 * (4 ** i) for i in range(len(times))], times):\n",
        "    print(f\"Batch Size: {size}, Time: {t:.2f} seconds\")\n"
      ]
    },
    {
      "cell_type": "markdown",
      "metadata": {
        "id": "Mk6UtjGjMUsD"
      },
      "source": [
        "## Part 2."
      ]
    },
    {
      "cell_type": "markdown",
      "metadata": {
        "id": "GjkDg5SGVCrE"
      },
      "source": [
        "#### GPU - 4"
      ]
    },
    {
      "cell_type": "code",
      "execution_count": null,
      "metadata": {
        "scrolled": true,
        "id": "lGF4rw87VCrE",
        "outputId": "6b4a2700-1f98-40f5-e144-e894a2460737"
      },
      "outputs": [
        {
          "data": {
            "text/plain": [
              "DataParallel(\n",
              "  (module): ResNet(\n",
              "    (conv1): Conv2d(3, 64, kernel_size=(3, 3), stride=(1, 1), padding=(1, 1), bias=False)\n",
              "    (bn1): BatchNorm2d(64, eps=1e-05, momentum=0.1, affine=True, track_running_stats=True)\n",
              "    (layer1): Sequential(\n",
              "      (0): BasicBlock(\n",
              "        (conv1): Conv2d(64, 64, kernel_size=(3, 3), stride=(1, 1), padding=(1, 1), bias=False)\n",
              "        (bn1): BatchNorm2d(64, eps=1e-05, momentum=0.1, affine=True, track_running_stats=True)\n",
              "        (conv2): Conv2d(64, 64, kernel_size=(3, 3), stride=(1, 1), padding=(1, 1), bias=False)\n",
              "        (bn2): BatchNorm2d(64, eps=1e-05, momentum=0.1, affine=True, track_running_stats=True)\n",
              "        (shortcut): Sequential()\n",
              "      )\n",
              "      (1): BasicBlock(\n",
              "        (conv1): Conv2d(64, 64, kernel_size=(3, 3), stride=(1, 1), padding=(1, 1), bias=False)\n",
              "        (bn1): BatchNorm2d(64, eps=1e-05, momentum=0.1, affine=True, track_running_stats=True)\n",
              "        (conv2): Conv2d(64, 64, kernel_size=(3, 3), stride=(1, 1), padding=(1, 1), bias=False)\n",
              "        (bn2): BatchNorm2d(64, eps=1e-05, momentum=0.1, affine=True, track_running_stats=True)\n",
              "        (shortcut): Sequential()\n",
              "      )\n",
              "    )\n",
              "    (layer2): Sequential(\n",
              "      (0): BasicBlock(\n",
              "        (conv1): Conv2d(64, 128, kernel_size=(3, 3), stride=(2, 2), padding=(1, 1), bias=False)\n",
              "        (bn1): BatchNorm2d(128, eps=1e-05, momentum=0.1, affine=True, track_running_stats=True)\n",
              "        (conv2): Conv2d(128, 128, kernel_size=(3, 3), stride=(1, 1), padding=(1, 1), bias=False)\n",
              "        (bn2): BatchNorm2d(128, eps=1e-05, momentum=0.1, affine=True, track_running_stats=True)\n",
              "        (shortcut): Sequential(\n",
              "          (0): Conv2d(64, 128, kernel_size=(1, 1), stride=(2, 2), bias=False)\n",
              "          (1): BatchNorm2d(128, eps=1e-05, momentum=0.1, affine=True, track_running_stats=True)\n",
              "        )\n",
              "      )\n",
              "      (1): BasicBlock(\n",
              "        (conv1): Conv2d(128, 128, kernel_size=(3, 3), stride=(1, 1), padding=(1, 1), bias=False)\n",
              "        (bn1): BatchNorm2d(128, eps=1e-05, momentum=0.1, affine=True, track_running_stats=True)\n",
              "        (conv2): Conv2d(128, 128, kernel_size=(3, 3), stride=(1, 1), padding=(1, 1), bias=False)\n",
              "        (bn2): BatchNorm2d(128, eps=1e-05, momentum=0.1, affine=True, track_running_stats=True)\n",
              "        (shortcut): Sequential()\n",
              "      )\n",
              "    )\n",
              "    (layer3): Sequential(\n",
              "      (0): BasicBlock(\n",
              "        (conv1): Conv2d(128, 256, kernel_size=(3, 3), stride=(2, 2), padding=(1, 1), bias=False)\n",
              "        (bn1): BatchNorm2d(256, eps=1e-05, momentum=0.1, affine=True, track_running_stats=True)\n",
              "        (conv2): Conv2d(256, 256, kernel_size=(3, 3), stride=(1, 1), padding=(1, 1), bias=False)\n",
              "        (bn2): BatchNorm2d(256, eps=1e-05, momentum=0.1, affine=True, track_running_stats=True)\n",
              "        (shortcut): Sequential(\n",
              "          (0): Conv2d(128, 256, kernel_size=(1, 1), stride=(2, 2), bias=False)\n",
              "          (1): BatchNorm2d(256, eps=1e-05, momentum=0.1, affine=True, track_running_stats=True)\n",
              "        )\n",
              "      )\n",
              "      (1): BasicBlock(\n",
              "        (conv1): Conv2d(256, 256, kernel_size=(3, 3), stride=(1, 1), padding=(1, 1), bias=False)\n",
              "        (bn1): BatchNorm2d(256, eps=1e-05, momentum=0.1, affine=True, track_running_stats=True)\n",
              "        (conv2): Conv2d(256, 256, kernel_size=(3, 3), stride=(1, 1), padding=(1, 1), bias=False)\n",
              "        (bn2): BatchNorm2d(256, eps=1e-05, momentum=0.1, affine=True, track_running_stats=True)\n",
              "        (shortcut): Sequential()\n",
              "      )\n",
              "    )\n",
              "    (layer4): Sequential(\n",
              "      (0): BasicBlock(\n",
              "        (conv1): Conv2d(256, 512, kernel_size=(3, 3), stride=(2, 2), padding=(1, 1), bias=False)\n",
              "        (bn1): BatchNorm2d(512, eps=1e-05, momentum=0.1, affine=True, track_running_stats=True)\n",
              "        (conv2): Conv2d(512, 512, kernel_size=(3, 3), stride=(1, 1), padding=(1, 1), bias=False)\n",
              "        (bn2): BatchNorm2d(512, eps=1e-05, momentum=0.1, affine=True, track_running_stats=True)\n",
              "        (shortcut): Sequential(\n",
              "          (0): Conv2d(256, 512, kernel_size=(1, 1), stride=(2, 2), bias=False)\n",
              "          (1): BatchNorm2d(512, eps=1e-05, momentum=0.1, affine=True, track_running_stats=True)\n",
              "        )\n",
              "      )\n",
              "      (1): BasicBlock(\n",
              "        (conv1): Conv2d(512, 512, kernel_size=(3, 3), stride=(1, 1), padding=(1, 1), bias=False)\n",
              "        (bn1): BatchNorm2d(512, eps=1e-05, momentum=0.1, affine=True, track_running_stats=True)\n",
              "        (conv2): Conv2d(512, 512, kernel_size=(3, 3), stride=(1, 1), padding=(1, 1), bias=False)\n",
              "        (bn2): BatchNorm2d(512, eps=1e-05, momentum=0.1, affine=True, track_running_stats=True)\n",
              "        (shortcut): Sequential()\n",
              "      )\n",
              "    )\n",
              "    (linear): Linear(in_features=512, out_features=10, bias=True)\n",
              "  )\n",
              ")"
            ]
          },
          "execution_count": 17,
          "metadata": {},
          "output_type": "execute_result"
        }
      ],
      "source": [
        "model = nn.DataParallel(model, device_ids=[0, 1, 2, 3])\n",
        "model.to(device)"
      ]
    },
    {
      "cell_type": "code",
      "execution_count": null,
      "metadata": {
        "id": "OkIZOnVYVCrE"
      },
      "outputs": [],
      "source": [
        "\n",
        "criterion = nn.CrossEntropyLoss()\n",
        "import time\n",
        "optimizer = optim.SGD(model.parameters(), lr=0.1, momentum=0.9, weight_decay=5e-4)"
      ]
    },
    {
      "cell_type": "code",
      "execution_count": null,
      "metadata": {
        "id": "pXVn9xNuL7al",
        "outputId": "d5a784a7-f3a6-4c25-b1b7-76ce388964bb"
      },
      "outputs": [
        {
          "name": "stdout",
          "output_type": "stream",
          "text": [
            "Batch Size 32, Time: 16.71 sec\n",
            "Batch Size 128, Time: 9.30 sec\n",
            "Batch Size 512, Time: 9.26 sec\n"
          ]
        }
      ],
      "source": [
        "batch_sizes = [32, 128, 512]\n",
        "results = []\n",
        "\n",
        "for batch_size in batch_sizes:\n",
        "    trainloader = DataLoader(trainset, batch_size=batch_size * torch.cuda.device_count(), shuffle=True, num_workers=2)\n",
        "\n",
        "\n",
        "    for _ in range(1):\n",
        "        for inputs, labels in trainloader:\n",
        "            inputs, labels = inputs.to(device), labels.to(device)\n",
        "            optimizer.zero_grad()\n",
        "            outputs = model(inputs)\n",
        "            loss = criterion(outputs, labels)\n",
        "            loss.backward()\n",
        "            optimizer.step()\n",
        "\n",
        "\n",
        "    start_time = time.time()\n",
        "    for inputs, labels in trainloader:\n",
        "        inputs, labels = inputs.to(device), labels.to(device)\n",
        "        optimizer.zero_grad()\n",
        "        outputs = model(inputs)\n",
        "        loss = criterion(outputs, labels)\n",
        "        loss.backward()\n",
        "        optimizer.step()\n",
        "    end_time = time.time()\n",
        "\n",
        "    epoch_time = end_time - start_time\n",
        "    results.append((batch_size, epoch_time))\n",
        "\n",
        "\n",
        "for batch_size, timing in results:\n",
        "    print(f\"Batch Size {batch_size}, Time: {timing:.2f} sec\")\n"
      ]
    },
    {
      "cell_type": "markdown",
      "source": [
        "#### GPU -2"
      ],
      "metadata": {
        "id": "w9Tgii4bVJFl"
      }
    },
    {
      "cell_type": "code",
      "execution_count": null,
      "metadata": {
        "id": "yMzUewV2VCrE"
      },
      "outputs": [],
      "source": [
        "# GPU 2\n",
        "\n",
        "model = nn.DataParallel(model, device_ids=[0, 1])\n",
        "model.to(device)\n",
        "criterion = nn.CrossEntropyLoss()\n",
        "import time\n",
        "optimizer = optim.SGD(model.parameters(), lr=0.1, momentum=0.9, weight_decay=5e-4)"
      ]
    },
    {
      "cell_type": "code",
      "execution_count": null,
      "metadata": {
        "id": "b9EFEmpxVCrE",
        "outputId": "77903c6b-bc47-40aa-9465-625f7c37f58a"
      },
      "outputs": [
        {
          "name": "stdout",
          "output_type": "stream",
          "text": [
            "Batch Size 32, Time: 16.23 sec\n",
            "Batch Size 128, Time: 9.32 sec\n",
            "Batch Size 512, Time: 9.48 sec\n"
          ]
        }
      ],
      "source": [
        "batch_sizes = [32, 128, 512]\n",
        "results = []\n",
        "\n",
        "for batch_size in batch_sizes:\n",
        "    trainloader = DataLoader(trainset, batch_size=batch_size * torch.cuda.device_count(), shuffle=True, num_workers=2)\n",
        "\n",
        "\n",
        "    for _ in range(1):\n",
        "        for inputs, labels in trainloader:\n",
        "            inputs, labels = inputs.to(device), labels.to(device)\n",
        "            optimizer.zero_grad()\n",
        "            outputs = model(inputs)\n",
        "            loss = criterion(outputs, labels)\n",
        "            loss.backward()\n",
        "            optimizer.step()\n",
        "\n",
        "\n",
        "    start_time = time.time()\n",
        "    for inputs, labels in trainloader:\n",
        "        inputs, labels = inputs.to(device), labels.to(device)\n",
        "        optimizer.zero_grad()\n",
        "        outputs = model(inputs)\n",
        "        loss = criterion(outputs, labels)\n",
        "        loss.backward()\n",
        "        optimizer.step()\n",
        "    end_time = time.time()\n",
        "\n",
        "    epoch_time = end_time - start_time\n",
        "    results.append((batch_size, epoch_time))\n",
        "\n",
        "\n",
        "for batch_size, timing in results:\n",
        "    print(f\"Batch Size {batch_size}, Time: {timing:.2f} sec\")\n"
      ]
    },
    {
      "cell_type": "markdown",
      "source": [
        "| GPU Configuration | Batch Size per GPU | Time (sec) | Speedup |\n",
        "|-------------------|--------------------|------------|---------|\n",
        "| 1-GPU             | 32                 | 17.59      | 1       |\n",
        "| 1-GPU             | 128                | 10.73      | 1       |\n",
        "| 1-GPU             | 512                | 10.28      | 1       |\n",
        "| 2-GPU             | 32                 | 16.23      | 1.22    |\n",
        "| 2-GPU             | 128                | 9.32      | 1.15    |\n",
        "| 2-GPU             | 512                | 9.48      | 1.08    |\n",
        "| 4-GPU             | 32                 | 16.71      | 1.18    |\n",
        "| 4-GPU             | 128                | 9.30       | 1.16    |\n",
        "| 4-GPU             | 512                | 9.26       | 1.08    |\n"
      ],
      "metadata": {
        "id": "ADD1mMad1yJL"
      }
    },
    {
      "cell_type": "markdown",
      "source": [
        "This is Strong-scaling. If we were to use weak scaling instead, where each additional GPU added comes with a proportionate increase in workload to keep the load per GPU consistent, the execution time is ideally meant to stay about the same instead of decreasing. Weak scaling might prove to be better in this scenarios."
      ],
      "metadata": {
        "id": "aSniBogG4bUE"
      }
    },
    {
      "cell_type": "markdown",
      "metadata": {
        "id": "L9LEyevxMgZs"
      },
      "source": [
        "## Part 3."
      ]
    },
    {
      "cell_type": "markdown",
      "source": [
        "#### Batch Size: 32\n",
        "- **Single GPU Time**: 17.59 seconds\n",
        "- **2-GPU Total Time**: 16.23 seconds\n",
        "- **4-GPU Total Time**: 16.71 seconds\n",
        "- **Estimated Compute Time** (75% of Single GPU Time): `17.59 * 0.75 = 13.19` seconds\n",
        "- **2-GPU Communication Time**: `16.23 - 13.19 = 3.04` seconds\n",
        "- **4-GPU Communication Time**: `16.71 - 13.19 = 3.52` seconds\n",
        "\n",
        "#### Batch Size: 128\n",
        "- **Single GPU Time**: 10.76 seconds\n",
        "- **2-GPU Total Time**: 9.32 seconds\n",
        "- **4-GPU Total Time**: 9.30 seconds\n",
        "- **Estimated Compute Time**: `10.73 * 0.75 = 8.05` seconds\n",
        "- **2-GPU Communication Time**: `9.32 - 8.05 = 1.27` seconds\n",
        "- **4-GPU Communication Time**: `9.30 - 8.05 = 1.25` seconds\n",
        "\n",
        "#### Batch Size: 512\n",
        "- **Single GPU Time**: 10.26 seconds\n",
        "- **2-GPU Total Time**: 9.48 seconds\n",
        "- **4-GPU Total Time**: 9.26 seconds\n",
        "- **Estimated Compute Time**: `10.28 * 0.75 = 7.71` seconds\n",
        "- **2-GPU Communication Time**: `9.48 - 7.71 = 1.77` seconds\n",
        "- **4-GPU Communication Time**: `9.26 - 7.71 = 1.55` seconds\n",
        "\n",
        "### Compiled Table (Complete Data)\n",
        "\n",
        "| GPU Configuration | Batch Size | Compute(sec) | Comm(sec) |\n",
        "|-------------------|------------|--------------|-----------|\n",
        "| 2-GPU             | 32         | 13.19       | 3.04      |\n",
        "| 4-GPU             | 32         | 13.19        | 3.52     |\n",
        "| 2-GPU             | 128        | 8.05        | 1.27      |\n",
        "| 4-GPU             | 128        | 8.05         | 1.25      |\n",
        "| 2-GPU             | 512        | 7.71         | 1.77      |\n",
        "| 4-GPU             | 512        | 7.71        | 1.55     |"
      ],
      "metadata": {
        "id": "mERLMPQ56i4b"
      }
    },
    {
      "cell_type": "markdown",
      "source": [
        "## Part 4\n"
      ],
      "metadata": {
        "id": "SJq_mGuP7_dk"
      }
    },
    {
      "cell_type": "code",
      "source": [
        "import torch\n",
        "import torch.nn as nn\n",
        "from torchvision.models import resnet18\n",
        "\n",
        "# 定义 ResNet-18 模型\n",
        "def get_model():\n",
        "    model = resnet18()\n",
        "    model.fc = nn.Linear(model.fc.in_features, 10)  # 调整最后一层以适配 CIFAR10 数据集\n",
        "    return model\n",
        "\n",
        "# 计算梯度大小（单位：GB）\n",
        "def calculate_gradient_size(model):\n",
        "    gradient_size = sum(p.numel() for p in model.parameters() if p.requires_grad)\n",
        "    gradient_size_bytes = gradient_size * 4\n",
        "    gradient_size_gb = gradient_size_bytes / (1024**3)\n",
        "    return gradient_size_gb\n",
        "\n",
        "\n",
        "def calculate_bandwidth_utilization(num_gpus, batch_sizes, communication_times):\n",
        "    model = get_model()\n",
        "    gradient_size_gb = calculate_gradient_size(model)\n",
        "    results = []\n",
        "\n",
        "    for batch_size, comm_time in zip(batch_sizes, communication_times):\n",
        "\n",
        "        bandwidth_utilization = gradient_size_gb / comm_time\n",
        "        results.append({\n",
        "            'Batch Size per GPU': batch_size,\n",
        "            'Communication Time (sec)': comm_time,\n",
        "            'Bandwidth Utilization (GB/s)': bandwidth_utilization\n",
        "        })\n",
        "        print(f\"Batch Size per GPU: {batch_size}, Communication Time: {comm_time:.4f}s, Bandwidth Utilization: {bandwidth_utilization:.4f} GB/s\")\n",
        "\n",
        "    return results\n",
        "\n",
        "if __name__ == \"__main__\":\n",
        "\n",
        "    communication_times_2gpu = [3.04, 1.27, 1.77]  # 2 GPUs\n",
        "    communication_times_4gpu = [3.52, 1.25, 1.55]  # 4 GPUs\n",
        "\n",
        "\n",
        "    batch_sizes = [32, 128, 512]\n",
        "\n",
        "    print(\"\\n--- Bandwidth Utilization for 2 GPUs ---\")\n",
        "    results_2gpu = calculate_bandwidth_utilization(2, batch_sizes, communication_times_2gpu)\n",
        "\n",
        "    print(\"\\n--- Bandwidth Utilization for 4 GPUs ---\")\n",
        "    results_4gpu = calculate_bandwidth_utilization(4, batch_sizes, communication_times_4gpu)\n"
      ],
      "metadata": {
        "colab": {
          "base_uri": "https://localhost:8080/"
        },
        "id": "EwCOP3EUV06e",
        "outputId": "d9a7abed-a44b-4c6a-e4c7-4f760d1b7ae5"
      },
      "execution_count": null,
      "outputs": [
        {
          "output_type": "stream",
          "name": "stdout",
          "text": [
            "\n",
            "--- Bandwidth Utilization for 2 GPUs ---\n",
            "Batch Size per GPU: 32, Communication Time: 3.0400s, Bandwidth Utilization: 0.0137 GB/s\n",
            "Batch Size per GPU: 128, Communication Time: 1.2700s, Bandwidth Utilization: 0.0328 GB/s\n",
            "Batch Size per GPU: 512, Communication Time: 1.7700s, Bandwidth Utilization: 0.0235 GB/s\n",
            "\n",
            "--- Bandwidth Utilization for 4 GPUs ---\n",
            "Batch Size per GPU: 32, Communication Time: 3.5200s, Bandwidth Utilization: 0.0118 GB/s\n",
            "Batch Size per GPU: 128, Communication Time: 1.2500s, Bandwidth Utilization: 0.0333 GB/s\n",
            "Batch Size per GPU: 512, Communication Time: 1.5500s, Bandwidth Utilization: 0.0269 GB/s\n"
          ]
        }
      ]
    },
    {
      "cell_type": "markdown",
      "source": [
        "\n",
        "\n",
        "1.   $ T_{\\text{allreduce}} = \\left(2 \\times (n-1) \\times (L+\\frac{m}{nb}) \\right)$\n",
        "2.   $ U = \\frac{\\frac{m}{n}}{b \\times (L+\\frac{m}{nb})}$\n",
        "3. Table 3\n",
        "\n",
        "| GPU Configuration | Batch Size | Bandwidth Utilization (GB/s) |\n",
        "|-------------------|------------|------------------------------|\n",
        "| 2-GPU             | 32         | 0.0137                       |\n",
        "| 2-GPU             | 128        | 0.0328                        |\n",
        "| 2-GPU             | 512        | 0.0235                      |\n",
        "| 4-GPU             | 32         | 0.0118                    |\n",
        "| 4-GPU             | 128        | 0.0333                    |\n",
        "| 4-GPU             | 512        | 0.0269                      |\n",
        "\n"
      ],
      "metadata": {
        "id": "2LIm7XFW8B9M"
      }
    },
    {
      "cell_type": "code",
      "execution_count": null,
      "metadata": {
        "id": "hNTfRiWRVCrF"
      },
      "outputs": [],
      "source": []
    }
  ],
  "metadata": {
    "accelerator": "GPU",
    "colab": {
      "gpuType": "A100",
      "provenance": [],
      "collapsed_sections": [
        "4SofIyAgvE0y",
        "Te2S7_5CvY6J"
      ]
    },
    "kernelspec": {
      "display_name": "My Custom Env",
      "language": "python",
      "name": "pytorch_env"
    },
    "language_info": {
      "codemirror_mode": {
        "name": "ipython",
        "version": 3
      },
      "file_extension": ".py",
      "mimetype": "text/x-python",
      "name": "python",
      "nbconvert_exporter": "python",
      "pygments_lexer": "ipython3",
      "version": "3.12.7"
    }
  },
  "nbformat": 4,
  "nbformat_minor": 0
}